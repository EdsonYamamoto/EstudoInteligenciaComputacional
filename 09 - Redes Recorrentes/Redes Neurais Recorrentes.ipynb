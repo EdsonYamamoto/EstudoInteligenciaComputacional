{
 "cells": [
  {
   "cell_type": "markdown",
   "metadata": {},
   "source": [
    "### Redes neurais recorrentes (RNNs)"
   ]
  },
  {
   "cell_type": "code",
   "execution_count": 18,
   "metadata": {},
   "outputs": [],
   "source": [
    "import pandas as pd\n",
    "import numpy  as np\n",
    "\n",
    "from numpy.random import seed\n",
    "seed(1)\n",
    "\n",
    "from tensorflow import set_random_seed\n",
    "set_random_seed(2)\n",
    "\n",
    "import keras"
   ]
  },
  {
   "cell_type": "code",
   "execution_count": 19,
   "metadata": {},
   "outputs": [],
   "source": [
    "df = pd.read_csv('iphone6.csv')"
   ]
  },
  {
   "cell_type": "code",
   "execution_count": 20,
   "metadata": {},
   "outputs": [
    {
     "data": {
      "text/html": [
       "<div>\n",
       "<style scoped>\n",
       "    .dataframe tbody tr th:only-of-type {\n",
       "        vertical-align: middle;\n",
       "    }\n",
       "\n",
       "    .dataframe tbody tr th {\n",
       "        vertical-align: top;\n",
       "    }\n",
       "\n",
       "    .dataframe thead th {\n",
       "        text-align: right;\n",
       "    }\n",
       "</style>\n",
       "<table border=\"1\" class=\"dataframe\">\n",
       "  <thead>\n",
       "    <tr style=\"text-align: right;\">\n",
       "      <th></th>\n",
       "      <th>label</th>\n",
       "      <th>message</th>\n",
       "    </tr>\n",
       "  </thead>\n",
       "  <tbody>\n",
       "    <tr>\n",
       "      <th>0</th>\n",
       "      <td>1</td>\n",
       "      <td>loving my new &lt;hashtag&gt; iphone 6 &lt;/hashtag&gt;</td>\n",
       "    </tr>\n",
       "    <tr>\n",
       "      <th>1</th>\n",
       "      <td>1</td>\n",
       "      <td>iphone &lt;number&gt; in full effect at tag all day ...</td>\n",
       "    </tr>\n",
       "    <tr>\n",
       "      <th>2</th>\n",
       "      <td>1</td>\n",
       "      <td>&lt;hashtag&gt; win &lt;/hashtag&gt; an &lt;hashtag&gt; iphone 6...</td>\n",
       "    </tr>\n",
       "    <tr>\n",
       "      <th>3</th>\n",
       "      <td>1</td>\n",
       "      <td>early morning i phone masters training &lt;hashta...</td>\n",
       "    </tr>\n",
       "    <tr>\n",
       "      <th>4</th>\n",
       "      <td>-1</td>\n",
       "      <td>remote control iphone &lt;number&gt; &lt;url&gt; &lt;hashtag&gt;...</td>\n",
       "    </tr>\n",
       "  </tbody>\n",
       "</table>\n",
       "</div>"
      ],
      "text/plain": [
       "   label                                            message\n",
       "0      1        loving my new <hashtag> iphone 6 </hashtag>\n",
       "1      1  iphone <number> in full effect at tag all day ...\n",
       "2      1  <hashtag> win </hashtag> an <hashtag> iphone 6...\n",
       "3      1  early morning i phone masters training <hashta...\n",
       "4     -1  remote control iphone <number> <url> <hashtag>..."
      ]
     },
     "execution_count": 20,
     "metadata": {},
     "output_type": "execute_result"
    }
   ],
   "source": [
    "df.head()"
   ]
  },
  {
   "cell_type": "code",
   "execution_count": 21,
   "metadata": {},
   "outputs": [],
   "source": [
    "X = df.message.values\n",
    "y = df.label.values\n",
    "\n",
    "y[y < 0] = 0"
   ]
  },
  {
   "cell_type": "code",
   "execution_count": 22,
   "metadata": {},
   "outputs": [],
   "source": [
    "from sklearn.model_selection import train_test_split\n",
    "X_train, X_test, y_train, y_test = train_test_split(X, y, test_size=0.33, random_state=42)"
   ]
  },
  {
   "cell_type": "code",
   "execution_count": 23,
   "metadata": {},
   "outputs": [],
   "source": [
    "from keras.preprocessing.text import Tokenizer\n",
    "\n",
    "t = Tokenizer()\n",
    "t.fit_on_texts(X_train)"
   ]
  },
  {
   "cell_type": "code",
   "execution_count": 24,
   "metadata": {},
   "outputs": [
    {
     "name": "stdout",
     "output_type": "stream",
     "text": [
      "OrderedDict([('broke', 3), ('my', 138), ('phone', 53), ('for', 58), ('the', 153), ('2', 3), ('nd', 1), ('time', 10), ('in', 38), ('number', 65), ('weeks', 5), ('ugh', 1), ('this', 38), ('just', 29), ('bought', 3), ('an', 43), ('iphone6', 200), ('i', 163), ('dont', 11), ('want', 30), ('doing', 2), ('bend', 3), ('and', 44), ('snap', 1), ('then', 5), ('break', 1), ('nose', 1), ('hashtag', 778), ('apple', 55), ('fail', 1), ('iphone', 230), ('6', 164), ('early', 4), ('morning', 3), ('masters', 1), ('training', 1), ('got', 34), ('loving', 4), ('it', 48), ('can', 8), ('fit', 2), ('hands', 5), ('new', 54), ('todays', 1), ('sunset', 1), ('taken', 1), ('by', 6), ('beauty', 1), ('wherever', 1), ('pic', 1), ('of', 39), ('day', 8), ('elements', 1), ('url', 61), ('butthurt', 1), ('that', 28), ('have', 34), ('to', 94), ('wait', 9), ('till', 3), ('friday', 4), ('get', 33), ('cos', 1), ('they', 12), ('stock', 2), ('yet', 5), ('everyone', 4), ('else', 3), ('ended', 1), ('up', 15), ('getting', 16), ('a', 72), ('end', 1), ('month', 6), ('yea', 1), ('nigga', 1), ('watch', 2), ('im', 27), ('bout', 3), ('after', 5), ('kids', 2), ('christmas', 25), ('out', 9), ('way', 4), ('iris', 1), ('on', 38), ('only', 6), ('no', 19), ('go', 4), ('lie', 1), ('u', 6), ('herh', 1), ('user', 101), ('prices', 4), ('ghc', 4), ('be', 32), ('joke', 5), ('oo', 4), ('post', 3), ('bendgate', 6), ('even', 8), ('though', 3), ('has', 14), ('tried', 3), ('minimize', 2), ('related', 3), ('issues', 4), ('blog', 3), ('since', 7), ('launch', 1), ('mobile', 2), ('pay', 3), ('blocked', 1), ('not', 18), ('interesting', 1), ('wozniak', 4), ('says', 2), ('too', 12), ('late', 4), ('soars', 1), ('bad', 5), ('apples', 2), ('steve', 3), ('better', 6), ('known', 1), ('as', 7), ('woz', 2), ('criticised', 1), ('releasing', 1), ('assembler', 1), ('pegatron', 3), ('reportedly', 3), ('ramping', 1), ('production', 3), ('adding', 2), ('plus', 31), ('meet', 4), ('demand', 4), ('came', 1), ('home', 1), ('so', 27), ('nice', 3), ('good', 9), ('working', 3), ('is', 72), ('bigger', 2), ('than', 6), ('nick', 1), ('sabans', 1), ('head', 2), ('think', 10), ('siri', 1), ('worse', 3), ('worth', 1), ('money', 5), ('proud', 1), ('owner', 2), ('one', 10), ('these', 3), ('babies', 1), ('gotta', 1), ('bring', 2), ('all', 20), ('grades', 1), ('lol', 5), ('nutass', 2), ('cuz', 2), ('didnt', 3), ('anymore', 2), ('smh', 2), ('big', 6), ('shit', 6), ('sorry', 2), ('droid', 2), ('made', 2), ('switch', 4), ('lets', 1), ('hope', 2), ('lives', 1), ('its', 18), ('hype', 1), ('hopefully', 4), ('will', 11), ('rug', 1), ('room', 1), ('today', 13), ('might', 4), ('team', 3), ('choice', 1), ('or', 4), ('na', 1), ('love', 30), ('faulty', 5), ('flash', 5), ('apparently', 3), ('there', 8), ('are', 14), ('users', 6), ('reporting', 3), ('memory', 3), ('issue', 3), ('within', 3), ('their', 2), ('lovin', 1), ('okay', 2), ('does', 8), ('anyone', 6), ('elses', 3), ('screen', 6), ('turn', 3), ('sideways', 1), ('back', 9), ('unless', 2), ('you', 20), ('close', 1), ('app', 2), ('restart', 1), ('pissed', 1), ('fucking', 1), ('huge', 1), ('am', 4), ('going', 3), ('bed', 1), ('bæ', 1), ('know', 6), ('r', 3), ('still', 12), ('twitter', 2), ('ily', 1), ('more', 5), ('anything', 1), ('happy', 16), ('btw', 1), ('night', 2), ('battery', 13), ('last', 4), ('about', 9), ('two', 5), ('days', 6), ('swear', 1), ('☺️', 2), ('coming', 1), ('whoop', 2), ('suddenly', 2), ('dim', 2), ('brighter', 2), ('set', 2), ('full', 2), ('brightness', 1), ('happens', 1), ('intermittently', 1), ('annoying', 2), ('cam', 2), ('his', 4), ('while', 5), ('here', 9), ('who', 5), ('cant', 12), ('iphone5', 5), ('hey', 3), ('ordered', 5), ('over', 3), ('ago', 3), ('what', 12), ('happened', 1), ('ship', 2), ('already', 5), ('old', 7), ('playing', 2), ('with', 28), ('emotions', 1), ('basically', 2), ('price', 3), ('macbook', 3), ('pro', 2), ('now', 17), ('sure', 3), ('fully', 2), ('understand', 2), ('logic', 2), ('officially', 1), ('cannot', 2), ('type', 1), ('eat', 1), ('banana', 1), ('at', 9), ('same', 3), ('small', 1), ('me', 47), ('oh', 2), ('yeah', 2), ('styling', 1), ('target', 1), ('deals', 1), ('rt', 25), ('having', 4), ('reboot', 1), ('times', 2), ('whyis', 1), ('trc', 1), ('yt', 1), ('apps', 4), ('freezing', 1), ('updated', 1), ('ios8', 3), ('wks', 1), ('later', 1), ('finally', 13), ('suprise', 2), ('birthday', 5), ('put', 1), ('down', 2), ('how', 10), ('we', 5), ('label', 1), ('glassware', 1), ('box', 3), ('n', 10), ('nerd', 1), ('geek', 1), ('gamer', 1), ('gaming', 1), ('destiny', 1), ('ps4', 1), ('raid', 1), ('iger', 1), ('when', 17), ('comes', 2), ('competition', 2), ('idgaf', 1), ('many', 3), ('sold', 3), ('features', 2), ('but', 18), ('waiting', 9), ('myself', 4), ('present', 3), ('whats', 6), ('most', 5), ('expensive', 2), ('thing', 4), ('youve', 2), ('gotten', 2), ('from', 10), ('someone', 2), ('gat', 1), ('class', 1), ('angeltee', 1), ('solidstar', 1), ('dia', 1), ('dal', 1), ('unisex', 1), ('saloon', 1), ('both', 1), ('phones', 3), ('galaxy', 4), ('5', 10), ('little', 1), ('things', 3), ('dumbass', 1), ('keep', 2), ('cutting', 1), ('off', 2), ('itself', 1), ('come', 7), ('dad', 2), ('called', 2), ('tell', 4), ('he', 3), ('hasnt', 2), ('had', 3), ('charge', 2), ('thinks', 1), ('hes', 1), ('something', 2), ('men', 1), ('prefer', 1), ('girl', 3), ('man', 2), ('buys', 1), ('iphones', 1), ('propose', 1), ('she', 5), ('pretty', 3), ('s5', 4), ('lame', 1), ('ass', 1), ('question', 1), ('best', 6), ('some', 7), ('could', 4), ('learn', 1), ('blackberry', 2), ('life', 8), ('amazing', 7), ('obstacles', 1), ('arrived', 2), ('4', 4), ('glad', 1), ('dear', 2), ('together', 1), ('because', 1), ('your', 3), ('gold', 10), ('dumb', 1), ('self', 1), ('shouldve', 1), ('months', 2), ('asked', 2), ('co', 2), ('if', 12), ('plans', 2), ('surprise', 2), ('gift', 7), ('would', 9), ('thanks', 3), ('actually', 2), ('use', 8), ('again', 2), ('calls', 1), ('asking', 1), ('kuwait', 1), ('stress', 1), ('free', 3), ('anybody', 1), ('volume', 1), ('change', 1), ('randomly', 1), ('listening', 1), ('music', 1), ('been', 13), ('thinking', 4), ('buying', 4), ('please', 1), ('say', 3), ('day1', 1), ('impressed', 1), ('far', 3), ('case', 2), ('ayy', 1), ('yasss', 1), ('dream', 1), ('true', 1), ('us', 1), ('clicking', 1), ('upper', 1), ('right', 2), ('corner', 2), ('habits', 1), ('die', 1), ('hard', 1), ('boosting', 1), ('strong', 1), ('ive', 4), ('beginning', 1), ('dedication', 1), ('missed', 1), ('mich', 1), ('third', 1), ('gave', 3), ('ma', 1), ('really', 9), ('cause', 2), ('fuck', 1), ('lmaoo', 1), ('sooo', 2), ('naarce', 1), ('checks', 1), ('budget', 1), ('myth', 1), ('s', 7), ('do', 8), ('took', 3), ('find', 2), ('lowkey', 1), ('jelly', 1), ('finishing', 1), ('work', 6), ('drinking', 1), ('th', 1), ('mood', 1), ('throughly', 1), ('dented', 1), ('hearing', 1), ('9', 1), ('yr', 1), ('radio', 2), ('wanting', 1), ('ffs', 2), ('guy', 2), ('mind', 4), ('wanna', 3), ('buy', 5), ('gal', 2), ('everybody', 2), ('aww', 2), ('badly', 1), ('amount', 2), ('muneyyy', 1), ('yo', 1), ('guys', 2), ('trying', 1), ('soon', 5), ('heeeere', 1), ('course', 3), ('claims', 1), ('another', 2), ('fans', 3), ('applehas', 1), ('minimizebendgate', 1), ('keeps', 1), ('hanging', 1), ('hate', 2), ('was', 14), ('like', 19), ('products', 3), ('pretending', 1), ('signal', 1), ('weak', 1), ('show', 2), ('world', 4), ('push', 1), ('mo', 1), ('yan', 1), ('te', 1), ('canon', 1), ('1', 5), ('sad', 4), ('hdr', 1), ('photography', 1), ('fun', 3), ('riverview', 1), ('golf', 1), ('stay', 1), ('glitching', 1), ('well', 5), ('merry', 1), ('try', 3), ('make', 2), ('exception', 1), ('play', 1), ('ipad', 3), ('wouldnt', 1), ('probably', 1), ('momma', 1), ('said', 2), ('shes', 1), ('real', 2), ('mvp', 2), ('tomirrow', 1), ('wiw', 1), ('bhi', 8), ('gifts', 4), ('switched', 2), ('fluent', 1), ('ial', 1), ('ff', 1), ('tech', 4), ('nothing', 1), ('passport', 1), ('check', 2), ('private', 1), ('mails', 1), ('narrow', 1), ('display', 1), ('nafter', 1), ('years', 5), ('lord', 1), ('blessed', 1), ('upgrade', 5), ('haha', 1), ('increase', 1), ('ios', 4), ('enterprise', 2), ('share', 3), ('expense', 1), ('android', 7), ('until', 4), ('gets', 1), ('week', 2), ('downright', 1), ('beat', 1), ('dead', 1), ('technology', 1), ('stuff', 1), ('wow', 6), ('first', 4), ('open', 1), ('stupidly', 1), ('dropped', 2), ('toilet', 1), ('thurs', 1), ('rang', 1), ('insure', 1), ('picked', 1), ('monday', 1), ('rumors', 1), ('insane', 1), ('machine', 1), ('whenever', 1), ('stocks', 1), ('theyre', 1), ('always', 1), ('oos', 1), ('few', 3), ('hours', 2), ('browsed', 1), ('thru', 1), ('carousell', 1), ('why', 6), ('hesitation', 2), ('looks', 4), ('tells', 1), ('year', 4), ('arrival', 2), ('next', 5), ('device', 3), ('incredibly', 2), ('hyped', 2), ('gonna', 4), ('less', 1), ('bc', 3), ('surprised', 2), ('rullymarleey', 1), ('t', 4), ('sound', 1), ('mad', 1), ('af', 1), ('people', 3), ('anyways', 1), ('dreamt', 1), ('wtf', 2), ('replace', 1), ('c', 1), ('should', 7), ('release', 3), ('compact', 2), ('wants', 2), ('walk', 2), ('around', 3), ('brick', 2), ('frustrated', 1), ('bluetooth', 1), ('sync', 1), ('wireless', 2), ('speakers', 1), ('fitbit', 2), ('yes', 2), ('seen', 2), ('image', 1), ('quality', 1), ('agnes', 1), ('ziying', 1), ('hahahahahahaha', 1), ('heaven', 2), ('those', 2), ('continue', 1), ('damn', 3), ('picking', 1), ('columbia', 1), ('sc', 1), ('percent', 4), ('telkom', 1), ('decided', 1), ('cockblock', 1), ('yay', 4), ('experience', 1), ('unique', 1), ('charger', 2), ('stupid', 1), ('joined', 2), ('dark', 1), ('side', 1), ('changed', 1), ('also', 2), ('wonder', 1), ('support', 3), ('multiple', 1), ('screens', 1), ('combo', 1), ('great', 1), ('feels', 1), ('holding', 2), ('miniature', 1), ('other', 1), ('peoples', 1), ('slowing', 1), ('headed', 1), ('towards', 1), ('where', 1), ('fed', 1), ('ex', 1), ('taking', 1), ('long', 4), ('dummies', 1), ('note', 4), ('complex', 1), ('isnt', 1), ('thought', 3), ('cut', 1), ('kinda', 1), ('honest', 1), ('tho', 2), ('gimme', 1), ('omg', 2), ('cracked', 2), ('fml', 1), ('did', 1), ('mom', 7), ('studying', 1), ('earning', 1), ('able', 2), ('vip', 1), ('tix', 1), ('concerts', 1), ('toy', 1), ('wanted', 2), ('parents', 4), ('grade', 1), ('such', 2), ('mail', 2), ('julie', 1), ('ann', 1), ('art', 1), ('victoria', 1), ('secret', 1), ('turns', 1), ('solid', 1), ('debating', 1), ('miguelpiedra21', 1), ('waited', 1), ('forever', 2), ('m', 2), ('mine', 3), ('tomorrow', 3), ('wink', 3), ('azin', 1), ('hv', 1), ('tweeting', 1), ('funnn', 1), ('give', 2), ('bough', 1), ('sprint', 4), ('latino', 1), ('listen', 1), ('being', 2), ('biggest', 1), ('fan', 2), ('ever', 2), ('own', 3), ('blocking', 2), ('wirelurker', 2), ('opens', 2), ('pandoras', 2), ('security', 2), ('despite', 1), ('efforts', 1), ('deny', 1), ('store', 2), ('problem', 2), ('accommodating', 1), ('unlocked', 1), ('definitely', 1), ('obsessed', 1), ('wooooooooooooo', 2), ('geez', 1), ('million', 1), ('preventing', 1), ('almost', 1), ('impossible', 1), ('fighting', 1), ('urge', 1), ('shipped', 2), ('woot', 2), ('effort', 1), ('holiday', 2), ('season', 1), ('assembly', 1), ('partn', 1), ('date', 2), ('released', 1), ('devices', 1), ('help', 3), ('steal', 1), ('bass', 1), ('size', 4), ('whole', 1), ('lotta', 1), ('rosie', 1), ('d', 4), ('happiest', 1), ('person', 1), ('alive', 1), ('kekeke', 1), ('grandma', 2), ('heheh', 1), ('newest', 2), ('handset', 2), ('offer', 2), ('pre', 1), ('registration', 1), ('before', 1), ('thats', 3), ('concern', 1), ('ddint', 1), ('receive', 1), ('any', 1), ('notif', 1), ('deliver', 1), ('renewal', 1), ('oomf', 1), ('da', 1), ('take', 1), ('hell', 1), ('selfie', 1), ('ranks', 1), ('shame', 1), ('wrote', 1), ('8', 3), ('gb', 1), ('stick', 1), ('during', 1), ('exam', 1), ('wake', 1), ('ergh', 1), ('see', 3), ('gigantic', 1), ('screaming', 1), ('sobbing', 1), ('xmas', 3), ('grrr', 1), ('aba', 1), ('videos', 1), ('stop', 2), ('insisting', 1), ('iphone5s', 1), ('zz', 1), ('yup', 3), ('wifi', 2), ('tend', 1), ('freak', 1), ('data', 1), ('dayz', 1), ('remote', 1), ('control', 1), ('lollipop', 2), ('ill', 2), ('silver', 1), ('imma', 1), ('weekend', 1), ('cc', 1), ('hahaha', 1), ('thx', 1), ('bouta', 1), ('fridayn', 1), ('need', 6), ('fone', 1), ('tx', 1), ('wishing', 1), ('january', 1), ('point', 1), ('0', 1), ('x24', 1), ('xterms', 1), ('brother', 1), ('maybe', 1), ('youll', 1), ('depends', 1), ('t2', 1), ('smart', 1), ('absolutely', 1), ('cook', 1), ('xcom', 1), ('level', 1), ('visuals', 1), ('unofficial', 1), ('pmr', 1), ('result', 1), ('niece', 1), ('dah', 2), ('kuar', 1), ('sister', 2), ('kena', 1), ('standby', 1), ('her', 2), ('nowdays', 1), ('defently', 1), ('everything', 2), ('works', 1), ('became', 1), ('black', 4), ('trading', 1), ('fell', 1), ('samsung', 2), ('hottest', 1), ('smartphon', 1), ('welcome', 1), ('current', 1), ('3', 3), ('inch', 2), ('ima', 1), ('daddy', 1), ('craving', 1), ('eyed', 1), ('baby', 3), ('limited', 1), ('much', 3), ('hoping', 1), ('hopes', 1), ('win', 1), ('album', 1), ('concert', 1), ('ticket', 1), ('cute', 1), ('clothes', 3), ('fab', 1), ('ofcourse', 1), ('tired', 1), ('given', 1), ('yasssss', 1), ('currently', 1), ('writing', 1), ('ms', 1), ('badu', 1), ('chu', 1), ('energy', 1), ('motivated', 1), ('sprite', 1), ('zoned', 1), ('piece', 2), ('awesomenessgolden', 1), ('diamonds', 1), ('very', 1), ('distasteful', 1), ('phonein', 1), ('yrs', 1), ('mean', 1), ('urghh', 1), ('fascinated', 1), ('ned', 1), ('kay', 1), ('job', 1), ('guessing', 1), ('somewhat', 1), ('waterproof', 1), ('tub', 1), ('washing', 1), ('dog', 1), ('bish', 1), ('ok', 1), ('glitches', 1), ('believe', 2), ('rd', 2), ('sucks', 3), ('using', 3), ('moto', 1), ('x', 2), ('door', 1), ('righteous', 1), ('attracted', 2), ('ladies', 1), ('eve', 1), ('arrives', 1), ('iphone7', 1), ('seems', 1), ('register', 1), ('steps', 1), ('healthkit', 1), ('convinced', 1), ('neither', 1), ('accurate', 1), ('never', 2), ('juiced', 1), ('them', 1), ('spoiled', 1), ('woah', 1), ('sometimes', 1), ('spoil', 1), ('yourself', 1), ('medicine', 1), ('fact', 2), ('shipping', 1), ('camera', 4), ('awesome', 2), ('fall', 1), ('girls', 1), ('leaves', 1), ('order', 1), ('nic', 1), ('fritz', 1), ('idk', 1), ('wrong', 1), ('verizon', 1), ('found', 1), ('somebody', 1), ('younger', 1), ('goodbye', 1), ('hello', 1), ('b', 1), ('fits', 1), ('glove', 1), ('❤️', 4), ('fat', 1), ('dick', 1), ('moved', 1), ('lah', 1), ('sighhhhhhhhhh', 1), ('effect', 1), ('tag', 2), ('everyday', 1), ('mac', 1), ('boss', 1), ('white', 1), ('fast', 3), ('holla', 1), ('soo', 1), ('watching', 1), ('tv', 1), ('sudden', 1), ('talking', 2), ('confess', 1), ('three', 1), ('dinheiro', 2), ('roupa', 2), ('playstation', 2), ('lwkmd', 1), ('alert', 1), ('blurry', 1), ('yesterday', 1), ('swipe', 1), ('notifications', 1), ('stopped', 1), ('locked', 1), ('sent', 1), ('normal', 1), ('sms', 1), ('ton', 1), ('keyboard', 1), ('thursday', 1), ('super', 1), ('duper', 1), ('nn', 1), ('takes', 1), ('serious', 1), ('used', 2), ('fam', 1), ('dinner', 1), ('friends', 1), ('feelin', 1), ('loved', 1), ('sha', 1), ('wont', 1), ('nnthe', 1), ('tragic', 1), ('poetry', 1), ('foxconn', 1), ('factory', 1), ('worker', 1), ('committed', 1), ('suicide', 1), ('via', 1), ('vodafone', 1), ('weve', 1), ('our', 2), ('popular', 2), ('develiverd', 1), ('thank', 1), ('god', 2), ('starting', 1), ('kind', 1), ('reminds', 1), ('thee', 1), ('ole', 1), ('gameboy', 1), ('advanced', 1), ('autocorrect', 1), ('tryna', 1), ('capitalize', 1), ('every', 2), ('gotdamn', 1), ('word', 1), ('bruh', 1), ('letter', 1), ('caps', 1), ('uugh', 1), ('anxiously', 1), ('child', 1), ('waits', 1), ('adjusting', 1), ('ldolii', 1), ('wirelurke', 1), ('touch', 1), ('id', 1), ('customized', 1), ('yesss', 1), ('activate', 1), ('freaking', 2), ('digging', 1), ('relief', 1), ('wi', 1), ('jacky', 1), ('law', 1), ('into', 1), ('however', 1), ('forcing', 1), ('inbox', 1), ('mailbox', 1), ('constantly', 1), ('crashes', 1), ('mouth', 1), ('headphones', 1), ('backkkkkk', 1), ('toooo', 1), ('biggggggggggggg', 1), ('thumbs', 1), ('hurt', 1), ('problems', 1), ('ui', 1), ('lockscreen', 1), ('ios81', 1), ('official', 1), ('lover', 1), ('♥️', 1), ('space', 1), ('gray', 1), ('plated', 1), ('w', 1), ('diamond', 1), ('encrusted', 1), ('logo', 1), ('anticipate', 1), ('needs', 1), ('lasts', 1), ('bitches', 1), ('uh', 1), ('look', 3), ('may', 1), ('treat', 1), ('wish', 3), ('giveup', 1), ('worst', 1), ('exited', 1), ('iphone5c', 1), ('makes', 1), ('poo', 1), ('honesty', 1), ('interest', 1), ('owning', 1), ('planning', 2), ('charging', 1), ('cable', 2), ('text', 1), ('bullshit', 1), ('due', 1), ('wnt', 1), ('mahama', 1), ('xmaswhere', 1), ('ecg', 1), ('started', 1), ('giving', 1), ('notice', 1), ('tht', 2), ('start', 1), ('ironing', 1), ('yall', 1), ('naturally', 1), ('favorite', 1), ('accessory', 1), ('color', 1), ('blogging', 1), ('pics', 1), ('f', 1), ('bloggers', 1), ('fashion', 1), ('edge', 1), ('killer', 2), ('hear', 1), ('rare', 1), ('s4', 1), ('ache', 1), ('buyers', 1), ('remorse', 1), ('ape', 1), ('droids', 1), ('ungainly', 1), ('foolish', 1), ('mistake', 1), ('sephora', 1), ('cards', 1), ('told', 1), ('nicer', 1), ('sarcasm', 1), ('non', 1), ('kpop', 2), ('bias', 1), ('personal', 1), ('soooo', 1), ('received', 1), ('follow', 1), ('call', 1), ('replaced', 1), ('retail', 1), ('bending', 1), ('eye', 1), ('candy', 1), ('corporate', 1), ('office', 1), ('upgrading', 1), ('hmm', 1), ('happen', 1), ('att', 1), ('cares', 1), ('send', 1), ('service', 1), ('asap', 1), ('restarting', 1), ('safari', 1), ('fix', 1)])\n"
     ]
    }
   ],
   "source": [
    "print(t.word_counts) # palavras e a contagem de ocorrencia"
   ]
  },
  {
   "cell_type": "code",
   "execution_count": 25,
   "metadata": {},
   "outputs": [
    {
     "name": "stdout",
     "output_type": "stream",
     "text": [
      "349\n"
     ]
    }
   ],
   "source": [
    "print(t.document_count) # quantidade de documentos"
   ]
  },
  {
   "cell_type": "code",
   "execution_count": 26,
   "metadata": {},
   "outputs": [
    {
     "name": "stdout",
     "output_type": "stream",
     "text": [
      "{'hashtag': 1, 'iphone': 2, 'iphone6': 3, '6': 4, 'i': 5, 'the': 6, 'my': 7, 'user': 8, 'to': 9, 'a': 10, 'is': 11, 'number': 12, 'url': 13, 'for': 14, 'apple': 15, 'new': 16, 'phone': 17, 'it': 18, 'me': 19, 'and': 20, 'an': 21, 'of': 22, 'in': 23, 'this': 24, 'on': 25, 'got': 26, 'have': 27, 'get': 28, 'be': 29, 'plus': 30, 'want': 31, 'love': 32, 'just': 33, 'that': 34, 'with': 35, 'im': 36, 'so': 37, 'christmas': 38, 'rt': 39, 'all': 40, 'you': 41, 'no': 42, 'like': 43, 'not': 44, 'its': 45, 'but': 46, 'now': 47, 'when': 48, 'getting': 49, 'happy': 50, 'up': 51, 'has': 52, 'are': 53, 'was': 54, 'today': 55, 'battery': 56, 'finally': 57, 'been': 58, 'they': 59, 'too': 60, 'still': 61, 'cant': 62, 'what': 63, 'if': 64, 'dont': 65, 'will': 66, 'time': 67, 'think': 68, 'one': 69, 'how': 70, 'n': 71, 'from': 72, '5': 73, 'gold': 74, 'wait': 75, 'out': 76, 'good': 77, 'back': 78, 'about': 79, 'here': 80, 'at': 81, 'waiting': 82, 'would': 83, 'really': 84, 'can': 85, 'day': 86, 'even': 87, 'there': 88, 'does': 89, 'life': 90, 'use': 91, 'do': 92, 'bhi': 93, 'since': 94, 'as': 95, 'old': 96, 'come': 97, 'some': 98, 'amazing': 99, 'gift': 100, 's': 101, 'android': 102, 'should': 103, 'mom': 104, 'by': 105, 'month': 106, 'only': 107, 'u': 108, 'bendgate': 109, 'better': 110, 'than': 111, 'big': 112, 'shit': 113, 'users': 114, 'anyone': 115, 'screen': 116, 'know': 117, 'days': 118, 'whats': 119, 'best': 120, 'work': 121, 'wow': 122, 'why': 123, 'need': 124, 'weeks': 125, 'then': 126, 'hands': 127, 'yet': 128, 'after': 129, 'joke': 130, 'bad': 131, 'money': 132, 'lol': 133, 'faulty': 134, 'flash': 135, 'more': 136, 'two': 137, 'while': 138, 'who': 139, 'iphone5': 140, 'ordered': 141, 'already': 142, 'birthday': 143, 'we': 144, 'most': 145, 'she': 146, 'buy': 147, 'soon': 148, '1': 149, 'well': 150, 'years': 151, 'upgrade': 152, 'next': 153, 'early': 154, 'loving': 155, 'friday': 156, 'everyone': 157, 'way': 158, 'go': 159, 'prices': 160, 'ghc': 161, 'oo': 162, 'issues': 163, 'wozniak': 164, 'late': 165, 'meet': 166, 'demand': 167, 'switch': 168, 'hopefully': 169, 'might': 170, 'or': 171, 'am': 172, 'last': 173, 'his': 174, 'having': 175, 'apps': 176, 'myself': 177, 'thing': 178, 'galaxy': 179, 'tell': 180, 's5': 181, 'could': 182, '4': 183, 'thinking': 184, 'buying': 185, 'ive': 186, 'mind': 187, 'world': 188, 'sad': 189, 'gifts': 190, 'tech': 191, 'ios': 192, 'until': 193, 'first': 194, 'looks': 195, 'year': 196, 'gonna': 197, 't': 198, 'percent': 199, 'yay': 200, 'long': 201, 'note': 202, 'parents': 203, 'sprint': 204, 'size': 205, 'd': 206, 'black': 207, 'camera': 208, '❤️': 209, 'broke': 210, '2': 211, 'bought': 212, 'bend': 213, 'morning': 214, 'till': 215, 'else': 216, 'bout': 217, 'post': 218, 'though': 219, 'tried': 220, 'related': 221, 'blog': 222, 'pay': 223, 'steve': 224, 'pegatron': 225, 'reportedly': 226, 'production': 227, 'nice': 228, 'working': 229, 'worse': 230, 'these': 231, 'didnt': 232, 'team': 233, 'apparently': 234, 'reporting': 235, 'memory': 236, 'issue': 237, 'within': 238, 'elses': 239, 'turn': 240, 'going': 241, 'r': 242, 'hey': 243, 'over': 244, 'ago': 245, 'price': 246, 'macbook': 247, 'sure': 248, 'same': 249, 'ios8': 250, 'box': 251, 'many': 252, 'sold': 253, 'present': 254, 'phones': 255, 'things': 256, 'he': 257, 'had': 258, 'girl': 259, 'pretty': 260, 'your': 261, 'thanks': 262, 'free': 263, 'say': 264, 'far': 265, 'gave': 266, 'took': 267, 'wanna': 268, 'course': 269, 'fans': 270, 'products': 271, 'fun': 272, 'try': 273, 'ipad': 274, 'share': 275, 'few': 276, 'device': 277, 'bc': 278, 'people': 279, 'release': 280, 'around': 281, 'damn': 282, 'support': 283, 'thought': 284, 'mine': 285, 'tomorrow': 286, 'wink': 287, 'own': 288, 'help': 289, 'thats': 290, '8': 291, 'see': 292, 'xmas': 293, 'yup': 294, '3': 295, 'baby': 296, 'much': 297, 'clothes': 298, 'sucks': 299, 'using': 300, 'fast': 301, 'look': 302, 'wish': 303, 'doing': 304, 'fit': 305, 'stock': 306, 'watch': 307, 'kids': 308, 'minimize': 309, 'mobile': 310, 'says': 311, 'apples': 312, 'woz': 313, 'adding': 314, 'bigger': 315, 'head': 316, 'owner': 317, 'bring': 318, 'nutass': 319, 'cuz': 320, 'anymore': 321, 'smh': 322, 'sorry': 323, 'droid': 324, 'made': 325, 'hope': 326, 'their': 327, 'okay': 328, 'unless': 329, 'app': 330, 'twitter': 331, 'night': 332, '☺️': 333, 'whoop': 334, 'suddenly': 335, 'dim': 336, 'brighter': 337, 'set': 338, 'full': 339, 'annoying': 340, 'cam': 341, 'ship': 342, 'playing': 343, 'basically': 344, 'pro': 345, 'fully': 346, 'understand': 347, 'logic': 348, 'cannot': 349, 'oh': 350, 'yeah': 351, 'times': 352, 'suprise': 353, 'down': 354, 'comes': 355, 'competition': 356, 'features': 357, 'expensive': 358, 'youve': 359, 'gotten': 360, 'someone': 361, 'keep': 362, 'off': 363, 'dad': 364, 'called': 365, 'hasnt': 366, 'charge': 367, 'something': 368, 'man': 369, 'blackberry': 370, 'arrived': 371, 'dear': 372, 'months': 373, 'asked': 374, 'co': 375, 'plans': 376, 'surprise': 377, 'actually': 378, 'again': 379, 'case': 380, 'right': 381, 'corner': 382, 'cause': 383, 'sooo': 384, 'find': 385, 'radio': 386, 'ffs': 387, 'guy': 388, 'gal': 389, 'everybody': 390, 'aww': 391, 'amount': 392, 'guys': 393, 'another': 394, 'hate': 395, 'show': 396, 'make': 397, 'said': 398, 'real': 399, 'mvp': 400, 'switched': 401, 'check': 402, 'enterprise': 403, 'week': 404, 'dropped': 405, 'hours': 406, 'hesitation': 407, 'arrival': 408, 'incredibly': 409, 'hyped': 410, 'surprised': 411, 'wtf': 412, 'compact': 413, 'wants': 414, 'walk': 415, 'brick': 416, 'wireless': 417, 'fitbit': 418, 'yes': 419, 'seen': 420, 'heaven': 421, 'those': 422, 'charger': 423, 'joined': 424, 'also': 425, 'holding': 426, 'tho': 427, 'omg': 428, 'cracked': 429, 'able': 430, 'wanted': 431, 'such': 432, 'mail': 433, 'forever': 434, 'm': 435, 'give': 436, 'being': 437, 'fan': 438, 'ever': 439, 'blocking': 440, 'wirelurker': 441, 'opens': 442, 'pandoras': 443, 'security': 444, 'store': 445, 'problem': 446, 'wooooooooooooo': 447, 'shipped': 448, 'woot': 449, 'holiday': 450, 'date': 451, 'grandma': 452, 'newest': 453, 'handset': 454, 'offer': 455, 'stop': 456, 'wifi': 457, 'lollipop': 458, 'ill': 459, 'dah': 460, 'sister': 461, 'her': 462, 'everything': 463, 'samsung': 464, 'inch': 465, 'piece': 466, 'believe': 467, 'rd': 468, 'x': 469, 'attracted': 470, 'never': 471, 'fact': 472, 'awesome': 473, 'tag': 474, 'talking': 475, 'dinheiro': 476, 'roupa': 477, 'playstation': 478, 'used': 479, 'our': 480, 'popular': 481, 'god': 482, 'every': 483, 'freaking': 484, 'planning': 485, 'cable': 486, 'tht': 487, 'killer': 488, 'kpop': 489, 'nd': 490, 'ugh': 491, 'snap': 492, 'break': 493, 'nose': 494, 'fail': 495, 'masters': 496, 'training': 497, 'todays': 498, 'sunset': 499, 'taken': 500, 'beauty': 501, 'wherever': 502, 'pic': 503, 'elements': 504, 'butthurt': 505, 'cos': 506, 'ended': 507, 'end': 508, 'yea': 509, 'nigga': 510, 'iris': 511, 'lie': 512, 'herh': 513, 'launch': 514, 'blocked': 515, 'interesting': 516, 'soars': 517, 'known': 518, 'criticised': 519, 'releasing': 520, 'assembler': 521, 'ramping': 522, 'came': 523, 'home': 524, 'nick': 525, 'sabans': 526, 'siri': 527, 'worth': 528, 'proud': 529, 'babies': 530, 'gotta': 531, 'grades': 532, 'lets': 533, 'lives': 534, 'hype': 535, 'rug': 536, 'room': 537, 'choice': 538, 'na': 539, 'lovin': 540, 'sideways': 541, 'close': 542, 'restart': 543, 'pissed': 544, 'fucking': 545, 'huge': 546, 'bed': 547, 'bæ': 548, 'ily': 549, 'anything': 550, 'btw': 551, 'swear': 552, 'coming': 553, 'brightness': 554, 'happens': 555, 'intermittently': 556, 'happened': 557, 'emotions': 558, 'officially': 559, 'type': 560, 'eat': 561, 'banana': 562, 'small': 563, 'styling': 564, 'target': 565, 'deals': 566, 'reboot': 567, 'whyis': 568, 'trc': 569, 'yt': 570, 'freezing': 571, 'updated': 572, 'wks': 573, 'later': 574, 'put': 575, 'label': 576, 'glassware': 577, 'nerd': 578, 'geek': 579, 'gamer': 580, 'gaming': 581, 'destiny': 582, 'ps4': 583, 'raid': 584, 'iger': 585, 'idgaf': 586, 'gat': 587, 'class': 588, 'angeltee': 589, 'solidstar': 590, 'dia': 591, 'dal': 592, 'unisex': 593, 'saloon': 594, 'both': 595, 'little': 596, 'dumbass': 597, 'cutting': 598, 'itself': 599, 'thinks': 600, 'hes': 601, 'men': 602, 'prefer': 603, 'buys': 604, 'iphones': 605, 'propose': 606, 'lame': 607, 'ass': 608, 'question': 609, 'learn': 610, 'obstacles': 611, 'glad': 612, 'together': 613, 'because': 614, 'dumb': 615, 'self': 616, 'shouldve': 617, 'calls': 618, 'asking': 619, 'kuwait': 620, 'stress': 621, 'anybody': 622, 'volume': 623, 'change': 624, 'randomly': 625, 'listening': 626, 'music': 627, 'please': 628, 'day1': 629, 'impressed': 630, 'ayy': 631, 'yasss': 632, 'dream': 633, 'true': 634, 'us': 635, 'clicking': 636, 'upper': 637, 'habits': 638, 'die': 639, 'hard': 640, 'boosting': 641, 'strong': 642, 'beginning': 643, 'dedication': 644, 'missed': 645, 'mich': 646, 'third': 647, 'ma': 648, 'fuck': 649, 'lmaoo': 650, 'naarce': 651, 'checks': 652, 'budget': 653, 'myth': 654, 'lowkey': 655, 'jelly': 656, 'finishing': 657, 'drinking': 658, 'th': 659, 'mood': 660, 'throughly': 661, 'dented': 662, 'hearing': 663, '9': 664, 'yr': 665, 'wanting': 666, 'badly': 667, 'muneyyy': 668, 'yo': 669, 'trying': 670, 'heeeere': 671, 'claims': 672, 'applehas': 673, 'minimizebendgate': 674, 'keeps': 675, 'hanging': 676, 'pretending': 677, 'signal': 678, 'weak': 679, 'push': 680, 'mo': 681, 'yan': 682, 'te': 683, 'canon': 684, 'hdr': 685, 'photography': 686, 'riverview': 687, 'golf': 688, 'stay': 689, 'glitching': 690, 'merry': 691, 'exception': 692, 'play': 693, 'wouldnt': 694, 'probably': 695, 'momma': 696, 'shes': 697, 'tomirrow': 698, 'wiw': 699, 'fluent': 700, 'ial': 701, 'ff': 702, 'nothing': 703, 'passport': 704, 'private': 705, 'mails': 706, 'narrow': 707, 'display': 708, 'nafter': 709, 'lord': 710, 'blessed': 711, 'haha': 712, 'increase': 713, 'expense': 714, 'gets': 715, 'downright': 716, 'beat': 717, 'dead': 718, 'technology': 719, 'stuff': 720, 'open': 721, 'stupidly': 722, 'toilet': 723, 'thurs': 724, 'rang': 725, 'insure': 726, 'picked': 727, 'monday': 728, 'rumors': 729, 'insane': 730, 'machine': 731, 'whenever': 732, 'stocks': 733, 'theyre': 734, 'always': 735, 'oos': 736, 'browsed': 737, 'thru': 738, 'carousell': 739, 'tells': 740, 'less': 741, 'rullymarleey': 742, 'sound': 743, 'mad': 744, 'af': 745, 'anyways': 746, 'dreamt': 747, 'replace': 748, 'c': 749, 'frustrated': 750, 'bluetooth': 751, 'sync': 752, 'speakers': 753, 'image': 754, 'quality': 755, 'agnes': 756, 'ziying': 757, 'hahahahahahaha': 758, 'continue': 759, 'picking': 760, 'columbia': 761, 'sc': 762, 'telkom': 763, 'decided': 764, 'cockblock': 765, 'experience': 766, 'unique': 767, 'stupid': 768, 'dark': 769, 'side': 770, 'changed': 771, 'wonder': 772, 'multiple': 773, 'screens': 774, 'combo': 775, 'great': 776, 'feels': 777, 'miniature': 778, 'other': 779, 'peoples': 780, 'slowing': 781, 'headed': 782, 'towards': 783, 'where': 784, 'fed': 785, 'ex': 786, 'taking': 787, 'dummies': 788, 'complex': 789, 'isnt': 790, 'cut': 791, 'kinda': 792, 'honest': 793, 'gimme': 794, 'fml': 795, 'did': 796, 'studying': 797, 'earning': 798, 'vip': 799, 'tix': 800, 'concerts': 801, 'toy': 802, 'grade': 803, 'julie': 804, 'ann': 805, 'art': 806, 'victoria': 807, 'secret': 808, 'turns': 809, 'solid': 810, 'debating': 811, 'miguelpiedra21': 812, 'waited': 813, 'azin': 814, 'hv': 815, 'tweeting': 816, 'funnn': 817, 'bough': 818, 'latino': 819, 'listen': 820, 'biggest': 821, 'despite': 822, 'efforts': 823, 'deny': 824, 'accommodating': 825, 'unlocked': 826, 'definitely': 827, 'obsessed': 828, 'geez': 829, 'million': 830, 'preventing': 831, 'almost': 832, 'impossible': 833, 'fighting': 834, 'urge': 835, 'effort': 836, 'season': 837, 'assembly': 838, 'partn': 839, 'released': 840, 'devices': 841, 'steal': 842, 'bass': 843, 'whole': 844, 'lotta': 845, 'rosie': 846, 'happiest': 847, 'person': 848, 'alive': 849, 'kekeke': 850, 'heheh': 851, 'pre': 852, 'registration': 853, 'before': 854, 'concern': 855, 'ddint': 856, 'receive': 857, 'any': 858, 'notif': 859, 'deliver': 860, 'renewal': 861, 'oomf': 862, 'da': 863, 'take': 864, 'hell': 865, 'selfie': 866, 'ranks': 867, 'shame': 868, 'wrote': 869, 'gb': 870, 'stick': 871, 'during': 872, 'exam': 873, 'wake': 874, 'ergh': 875, 'gigantic': 876, 'screaming': 877, 'sobbing': 878, 'grrr': 879, 'aba': 880, 'videos': 881, 'insisting': 882, 'iphone5s': 883, 'zz': 884, 'tend': 885, 'freak': 886, 'data': 887, 'dayz': 888, 'remote': 889, 'control': 890, 'silver': 891, 'imma': 892, 'weekend': 893, 'cc': 894, 'hahaha': 895, 'thx': 896, 'bouta': 897, 'fridayn': 898, 'fone': 899, 'tx': 900, 'wishing': 901, 'january': 902, 'point': 903, '0': 904, 'x24': 905, 'xterms': 906, 'brother': 907, 'maybe': 908, 'youll': 909, 'depends': 910, 't2': 911, 'smart': 912, 'absolutely': 913, 'cook': 914, 'xcom': 915, 'level': 916, 'visuals': 917, 'unofficial': 918, 'pmr': 919, 'result': 920, 'niece': 921, 'kuar': 922, 'kena': 923, 'standby': 924, 'nowdays': 925, 'defently': 926, 'works': 927, 'became': 928, 'trading': 929, 'fell': 930, 'hottest': 931, 'smartphon': 932, 'welcome': 933, 'current': 934, 'ima': 935, 'daddy': 936, 'craving': 937, 'eyed': 938, 'limited': 939, 'hoping': 940, 'hopes': 941, 'win': 942, 'album': 943, 'concert': 944, 'ticket': 945, 'cute': 946, 'fab': 947, 'ofcourse': 948, 'tired': 949, 'given': 950, 'yasssss': 951, 'currently': 952, 'writing': 953, 'ms': 954, 'badu': 955, 'chu': 956, 'energy': 957, 'motivated': 958, 'sprite': 959, 'zoned': 960, 'awesomenessgolden': 961, 'diamonds': 962, 'very': 963, 'distasteful': 964, 'phonein': 965, 'yrs': 966, 'mean': 967, 'urghh': 968, 'fascinated': 969, 'ned': 970, 'kay': 971, 'job': 972, 'guessing': 973, 'somewhat': 974, 'waterproof': 975, 'tub': 976, 'washing': 977, 'dog': 978, 'bish': 979, 'ok': 980, 'glitches': 981, 'moto': 982, 'door': 983, 'righteous': 984, 'ladies': 985, 'eve': 986, 'arrives': 987, 'iphone7': 988, 'seems': 989, 'register': 990, 'steps': 991, 'healthkit': 992, 'convinced': 993, 'neither': 994, 'accurate': 995, 'juiced': 996, 'them': 997, 'spoiled': 998, 'woah': 999, 'sometimes': 1000, 'spoil': 1001, 'yourself': 1002, 'medicine': 1003, 'shipping': 1004, 'fall': 1005, 'girls': 1006, 'leaves': 1007, 'order': 1008, 'nic': 1009, 'fritz': 1010, 'idk': 1011, 'wrong': 1012, 'verizon': 1013, 'found': 1014, 'somebody': 1015, 'younger': 1016, 'goodbye': 1017, 'hello': 1018, 'b': 1019, 'fits': 1020, 'glove': 1021, 'fat': 1022, 'dick': 1023, 'moved': 1024, 'lah': 1025, 'sighhhhhhhhhh': 1026, 'effect': 1027, 'everyday': 1028, 'mac': 1029, 'boss': 1030, 'white': 1031, 'holla': 1032, 'soo': 1033, 'watching': 1034, 'tv': 1035, 'sudden': 1036, 'confess': 1037, 'three': 1038, 'lwkmd': 1039, 'alert': 1040, 'blurry': 1041, 'yesterday': 1042, 'swipe': 1043, 'notifications': 1044, 'stopped': 1045, 'locked': 1046, 'sent': 1047, 'normal': 1048, 'sms': 1049, 'ton': 1050, 'keyboard': 1051, 'thursday': 1052, 'super': 1053, 'duper': 1054, 'nn': 1055, 'takes': 1056, 'serious': 1057, 'fam': 1058, 'dinner': 1059, 'friends': 1060, 'feelin': 1061, 'loved': 1062, 'sha': 1063, 'wont': 1064, 'nnthe': 1065, 'tragic': 1066, 'poetry': 1067, 'foxconn': 1068, 'factory': 1069, 'worker': 1070, 'committed': 1071, 'suicide': 1072, 'via': 1073, 'vodafone': 1074, 'weve': 1075, 'develiverd': 1076, 'thank': 1077, 'starting': 1078, 'kind': 1079, 'reminds': 1080, 'thee': 1081, 'ole': 1082, 'gameboy': 1083, 'advanced': 1084, 'autocorrect': 1085, 'tryna': 1086, 'capitalize': 1087, 'gotdamn': 1088, 'word': 1089, 'bruh': 1090, 'letter': 1091, 'caps': 1092, 'uugh': 1093, 'anxiously': 1094, 'child': 1095, 'waits': 1096, 'adjusting': 1097, 'ldolii': 1098, 'wirelurke': 1099, 'touch': 1100, 'id': 1101, 'customized': 1102, 'yesss': 1103, 'activate': 1104, 'digging': 1105, 'relief': 1106, 'wi': 1107, 'jacky': 1108, 'law': 1109, 'into': 1110, 'however': 1111, 'forcing': 1112, 'inbox': 1113, 'mailbox': 1114, 'constantly': 1115, 'crashes': 1116, 'mouth': 1117, 'headphones': 1118, 'backkkkkk': 1119, 'toooo': 1120, 'biggggggggggggg': 1121, 'thumbs': 1122, 'hurt': 1123, 'problems': 1124, 'ui': 1125, 'lockscreen': 1126, 'ios81': 1127, 'official': 1128, 'lover': 1129, '♥️': 1130, 'space': 1131, 'gray': 1132, 'plated': 1133, 'w': 1134, 'diamond': 1135, 'encrusted': 1136, 'logo': 1137, 'anticipate': 1138, 'needs': 1139, 'lasts': 1140, 'bitches': 1141, 'uh': 1142, 'may': 1143, 'treat': 1144, 'giveup': 1145, 'worst': 1146, 'exited': 1147, 'iphone5c': 1148, 'makes': 1149, 'poo': 1150, 'honesty': 1151, 'interest': 1152, 'owning': 1153, 'charging': 1154, 'text': 1155, 'bullshit': 1156, 'due': 1157, 'wnt': 1158, 'mahama': 1159, 'xmaswhere': 1160, 'ecg': 1161, 'started': 1162, 'giving': 1163, 'notice': 1164, 'start': 1165, 'ironing': 1166, 'yall': 1167, 'naturally': 1168, 'favorite': 1169, 'accessory': 1170, 'color': 1171, 'blogging': 1172, 'pics': 1173, 'f': 1174, 'bloggers': 1175, 'fashion': 1176, 'edge': 1177, 'hear': 1178, 'rare': 1179, 's4': 1180, 'ache': 1181, 'buyers': 1182, 'remorse': 1183, 'ape': 1184, 'droids': 1185, 'ungainly': 1186, 'foolish': 1187, 'mistake': 1188, 'sephora': 1189, 'cards': 1190, 'told': 1191, 'nicer': 1192, 'sarcasm': 1193, 'non': 1194, 'bias': 1195, 'personal': 1196, 'soooo': 1197, 'received': 1198, 'follow': 1199, 'call': 1200, 'replaced': 1201, 'retail': 1202, 'bending': 1203, 'eye': 1204, 'candy': 1205, 'corporate': 1206, 'office': 1207, 'upgrading': 1208, 'hmm': 1209, 'happen': 1210, 'att': 1211, 'cares': 1212, 'send': 1213, 'service': 1214, 'asap': 1215, 'restarting': 1216, 'safari': 1217, 'fix': 1218}\n"
     ]
    }
   ],
   "source": [
    "print(t.word_index) # palavra e seu indíce no vocabulário"
   ]
  },
  {
   "cell_type": "code",
   "execution_count": 27,
   "metadata": {},
   "outputs": [
    {
     "name": "stdout",
     "output_type": "stream",
     "text": [
      "defaultdict(<class 'int'>, {'an': 42, 'time': 9, 'broke': 3, 'weeks': 5, 'just': 28, 'this': 36, 'bought': 3, 'number': 53, 'my': 117, '2': 3, 'phone': 50, 'in': 35, 'iphone6': 197, 'for': 53, 'nd': 1, 'the': 123, 'ugh': 1, '6': 152, 'i': 127, 'doing': 2, 'snap': 1, 'nose': 1, 'apple': 46, 'want': 27, 'iphone': 161, 'dont': 10, 'and': 41, 'break': 1, 'hashtag': 174, 'bend': 3, 'then': 5, 'fail': 1, 'early': 4, 'masters': 1, 'training': 1, 'morning': 3, 'it': 44, 'loving': 4, 'fit': 2, 'got': 33, 'can': 8, 'hands': 5, 'new': 52, 'taken': 1, 'sunset': 1, 'beauty': 1, 'by': 6, 'of': 34, 'todays': 1, 'wherever': 1, 'day': 8, 'pic': 1, 'elements': 1, 'url': 57, 'ended': 1, 'that': 24, 'they': 12, 'a': 66, 'yet': 5, 'have': 32, 'till': 3, 'butthurt': 1, 'friday': 4, 'getting': 15, 'everyone': 4, 'to': 83, 'up': 14, 'cos': 1, 'else': 3, 'wait': 9, 'stock': 2, 'get': 32, 'yea': 1, 'end': 1, 'month': 6, 'nigga': 1, 'watch': 2, 'way': 4, 'kids': 2, 'out': 8, 'bout': 3, 'christmas': 21, 'im': 26, 'after': 5, 'on': 36, 'iris': 1, 'only': 6, 'joke': 5, 'ghc': 4, 'prices': 4, 'oo': 4, 'u': 6, 'no': 18, 'be': 29, 'lie': 1, 'herh': 1, 'go': 4, 'user': 79, 'post': 3, 'has': 14, 'related': 3, 'though': 3, 'even': 8, 'minimize': 2, 'issues': 4, 'blog': 3, 'tried': 3, 'bendgate': 4, 'since': 7, 'late': 4, 'bad': 5, 'mobile': 2, 'interesting': 1, 'soars': 1, 'says': 2, 'not': 18, 'blocked': 1, 'launch': 1, 'wozniak': 3, 'too': 12, 'apples': 2, 'pay': 3, 'as': 6, 'steve': 2, 'woz': 2, 'criticised': 1, 'releasing': 1, 'better': 6, 'known': 1, 'pegatron': 3, 'adding': 2, 'demand': 4, 'ramping': 1, 'reportedly': 3, 'meet': 4, 'production': 3, 'assembler': 1, 'plus': 29, 'home': 1, 'working': 3, 'came': 1, 'good': 9, 'so': 26, 'nice': 3, 'sabans': 1, 'than': 6, 'head': 2, 'bigger': 2, 'is': 66, 'nick': 1, 'siri': 1, 'money': 5, 'worse': 3, 'think': 10, 'worth': 1, 'owner': 2, 'these': 3, 'proud': 1, 'one': 10, 'babies': 1, 'all': 18, 'bring': 2, 'grades': 1, 'gotta': 1, 'lol': 5, 'nutass': 2, 'didnt': 3, 'cuz': 2, 'shit': 5, 'big': 6, 'anymore': 2, 'smh': 2, 'hope': 2, 'sorry': 2, 'lives': 1, 'hype': 1, 'its': 16, 'droid': 2, 'lets': 1, 'switch': 4, 'made': 2, 'room': 1, 'will': 11, 'rug': 1, 'today': 13, 'hopefully': 4, 'na': 1, 'might': 4, 'choice': 1, 'or': 4, 'team': 3, 'love': 28, 'faulty': 3, 'are': 14, 'issue': 3, 'their': 2, 'flash': 3, 'within': 3, 'there': 8, 'apparently': 3, 'memory': 3, 'reporting': 3, 'users': 6, 'lovin': 1, 'screen': 6, 'unless': 2, 'you': 17, 'sideways': 1, 'elses': 3, 'turn': 2, 'back': 9, 'does': 8, 'restart': 1, 'anyone': 6, 'close': 1, 'app': 2, 'pissed': 1, 'okay': 2, 'fucking': 1, 'huge': 1, 'anything': 1, 'know': 6, 'more': 5, 'am': 4, 'still': 12, 'bed': 1, 'bæ': 1, 'night': 2, 'r': 3, 'ily': 1, 'twitter': 2, 'going': 3, 'btw': 1, 'happy': 15, 'two': 5, 'about': 9, 'days': 6, 'last': 4, 'swear': 1, 'battery': 12, '☺️': 2, 'coming': 1, 'whoop': 1, 'intermittently': 1, 'suddenly': 2, 'brightness': 1, 'annoying': 2, 'dim': 1, 'brighter': 1, 'happens': 1, 'full': 2, 'set': 2, 'who': 5, 'iphone5': 5, 'his': 3, 'cant': 12, 'cam': 2, 'while': 5, 'here': 9, 'already': 5, 'ago': 3, 'ship': 2, 'emotions': 1, 'ordered': 5, 'what': 12, 'with': 25, 'over': 3, 'hey': 3, 'playing': 2, 'happened': 1, 'old': 6, 'price': 3, 'now': 17, 'sure': 3, 'understand': 2, 'fully': 2, 'macbook': 3, 'pro': 2, 'basically': 2, 'logic': 2, 'eat': 1, 'banana': 1, 'officially': 1, 'type': 1, 'at': 8, 'small': 1, 'cannot': 2, 'same': 3, 'yeah': 2, 'styling': 1, 'target': 1, 'deals': 1, 'me': 45, 'oh': 2, 'rt': 21, 'yt': 1, 'whyis': 1, 'reboot': 1, 'updated': 1, 'ios8': 3, 'freezing': 1, 'times': 2, 'trc': 1, 'apps': 4, 'having': 4, 'wks': 1, 'finally': 12, 'later': 1, 'suprise': 2, 'birthday': 5, 'down': 2, 'put': 1, 'gaming': 1, 'how': 10, 'n': 7, 'gamer': 1, 'ps4': 1, 'geek': 1, 'nerd': 1, 'box': 3, 'glassware': 1, 'iger': 1, 'label': 1, 'we': 5, 'destiny': 1, 'raid': 1, 'when': 16, 'comes': 2, 'many': 3, 'competition': 2, 'but': 17, 'idgaf': 1, 'waiting': 8, 'features': 2, 'sold': 2, 'myself': 4, 'present': 3, 'youve': 2, 'dal': 1, 'whats': 6, 'angeltee': 1, 'most': 4, 'gat': 1, 'from': 9, 'class': 1, 'someone': 2, 'expensive': 2, 'thing': 4, 'saloon': 1, 'dia': 1, 'solidstar': 1, 'gotten': 2, 'unisex': 1, 'both': 1, 'things': 3, 'phones': 3, 'little': 1, 'galaxy': 3, '5': 10, 'itself': 1, 'keep': 2, 'cutting': 1, 'off': 2, 'come': 7, 'dumbass': 1, 'hasnt': 2, 'he': 2, 'called': 2, 'thinks': 1, 'something': 2, 'charge': 2, 'dad': 2, 'hes': 1, 'tell': 4, 'had': 3, 'iphones': 1, 'prefer': 1, 'propose': 1, 'men': 1, 'she': 5, 'man': 2, 'girl': 3, 'buys': 1, 'ass': 1, 'pretty': 3, 's5': 3, 'lame': 1, 'question': 1, 'some': 7, 'could': 4, 'best': 6, 'learn': 1, 'blackberry': 2, 'life': 8, 'amazing': 7, 'arrived': 2, '4': 4, 'obstacles': 1, 'glad': 1, 'your': 3, 'together': 1, 'because': 1, 'dear': 2, 'gold': 10, 'self': 1, 'months': 2, 'asked': 2, 'dumb': 1, 'shouldve': 1, 'co': 2, 'if': 12, 'thanks': 3, 'gift': 7, 'surprise': 2, 'plans': 2, 'would': 9, 'use': 7, 'asking': 1, 'kuwait': 1, 'calls': 1, 'free': 3, 'again': 2, 'stress': 1, 'actually': 2, 'randomly': 1, 'music': 1, 'change': 1, 'listening': 1, 'volume': 1, 'anybody': 1, 'say': 3, 'buying': 4, 'been': 13, 'thinking': 4, 'please': 1, 'case': 2, 'impressed': 1, 'day1': 1, 'far': 3, 'ayy': 1, 'yasss': 1, 'true': 1, 'dream': 1, 'clicking': 1, 'hard': 1, 'habits': 1, 'corner': 2, 'right': 2, 'upper': 1, 'die': 1, 'us': 1, 'boosting': 1, 'strong': 1, 'beginning': 1, 'ive': 4, 'dedication': 1, 'mich': 1, 'missed': 1, 'third': 1, 'gave': 3, 'fuck': 1, 'lmaoo': 1, 'ma': 1, 'cause': 2, 'really': 9, 'naarce': 1, 'sooo': 2, 'budget': 1, 'checks': 1, 'took': 3, 'do': 8, 's': 7, 'myth': 1, 'find': 2, 'jelly': 1, 'lowkey': 1, 'yr': 1, 'mood': 1, 'drinking': 1, 'dented': 1, 'ffs': 2, 'hearing': 1, 'wanting': 1, 'throughly': 1, 'th': 1, 'radio': 2, 'finishing': 1, 'work': 6, '9': 1, 'guy': 2, 'mind': 4, 'gal': 2, 'buy': 4, 'wanna': 3, 'muneyyy': 1, 'aww': 1, 'amount': 2, 'everybody': 2, 'badly': 1, 'yo': 1, 'guys': 2, 'trying': 1, 'soon': 5, 'heeeere': 1, 'course': 3, 'claims': 1, 'minimizebendgate': 1, 'applehas': 1, 'fans': 2, 'another': 2, 'hate': 2, 'hanging': 1, 'keeps': 1, 'products': 3, 'was': 12, 'like': 17, 'show': 2, 'yan': 1, 'signal': 1, 'weak': 1, 'mo': 1, 'te': 1, 'push': 1, 'world': 4, 'pretending': 1, 'sad': 4, 'riverview': 1, '1': 4, 'canon': 1, 'photography': 1, 'fun': 3, 'golf': 1, 'hdr': 1, 'stay': 1, 'glitching': 1, 'well': 5, 'merry': 1, 'try': 3, 'wouldnt': 1, 'make': 2, 'ipad': 2, 'probably': 1, 'play': 1, 'exception': 1, 'momma': 1, 'said': 2, 'shes': 1, 'mvp': 2, 'real': 2, 'gifts': 4, 'bhi': 4, 'tomirrow': 1, 'wiw': 1, 'switched': 2, 'ff': 1, 'ial': 1, 'tech': 4, 'fluent': 1, 'private': 1, 'passport': 1, 'nothing': 1, 'display': 1, 'mails': 1, 'check': 2, 'narrow': 1, 'nafter': 1, 'lord': 1, 'upgrade': 5, 'haha': 1, 'years': 5, 'blessed': 1, 'android': 6, 'increase': 1, 'expense': 1, 'enterprise': 2, 'ios': 4, 'share': 3, 'stuff': 1, 'dead': 1, 'week': 2, 'until': 4, 'beat': 1, 'downright': 1, 'gets': 1, 'technology': 1, 'wow': 4, 'first': 4, 'open': 1, 'rang': 1, 'toilet': 1, 'monday': 1, 'picked': 1, 'dropped': 2, 'thurs': 1, 'insure': 1, 'stupidly': 1, 'insane': 1, 'rumors': 1, 'machine': 1, 'why': 6, 'stocks': 1, 'carousell': 1, 'always': 1, 'theyre': 1, 'oos': 1, 'hours': 2, 'browsed': 1, 'whenever': 1, 'thru': 1, 'few': 3, 'looks': 4, 'hesitation': 2, 'tells': 1, 'next': 5, 'year': 4, 'device': 3, 'hyped': 2, 'incredibly': 2, 'arrival': 2, 'bc': 3, 'surprised': 2, 'gonna': 4, 'less': 1, 'rullymarleey': 1, 't': 4, 'sound': 1, 'people': 2, 'mad': 1, 'anyways': 1, 'af': 1, 'dreamt': 1, 'wtf': 2, 'around': 3, 'walk': 2, 'release': 3, 'compact': 2, 'wants': 2, 'brick': 2, 'replace': 1, 'should': 7, 'c': 1, 'bluetooth': 1, 'sync': 1, 'fitbit': 2, 'frustrated': 1, 'speakers': 1, 'wireless': 2, 'seen': 2, 'image': 1, 'quality': 1, 'yes': 2, 'ziying': 1, 'agnes': 1, 'hahahahahahaha': 1, 'heaven': 2, 'damn': 3, 'those': 2, 'continue': 1, 'sc': 1, 'columbia': 1, 'picking': 1, 'percent': 3, 'telkom': 1, 'decided': 1, 'cockblock': 1, 'yay': 4, 'stupid': 1, 'joined': 2, 'charger': 2, 'dark': 1, 'experience': 1, 'side': 1, 'unique': 1, 'changed': 1, 'screens': 1, 'also': 2, 'great': 1, 'multiple': 1, 'support': 3, 'wonder': 1, 'combo': 1, 'peoples': 1, 'holding': 2, 'miniature': 1, 'other': 1, 'feels': 1, 'slowing': 1, 'towards': 1, 'where': 1, 'headed': 1, 'taking': 1, 'fed': 1, 'ex': 1, 'long': 4, 'note': 4, 'dummies': 1, 'complex': 1, 'thought': 3, 'honest': 1, 'tho': 2, 'kinda': 1, 'isnt': 1, 'cut': 1, 'omg': 2, 'gimme': 1, 'cracked': 2, 'fml': 1, 'mom': 7, 'did': 1, 'tix': 1, 'earning': 1, 'concerts': 1, 'able': 2, 'vip': 1, 'studying': 1, 'toy': 1, 'parents': 4, 'grade': 1, 'wanted': 2, 'julie': 1, 'victoria': 1, 'such': 2, 'mail': 2, 'ann': 1, 'art': 1, 'secret': 1, 'turns': 1, 'solid': 1, 'debating': 1, 'm': 2, 'miguelpiedra21': 1, 'forever': 2, 'waited': 1, 'mine': 3, 'wink': 3, 'tomorrow': 3, 'give': 2, 'azin': 1, 'tweeting': 1, 'funnn': 1, 'hv': 1, 'latino': 1, 'sprint': 2, 'bough': 1, 'own': 3, 'ever': 2, 'listen': 1, 'being': 2, 'fan': 2, 'biggest': 1, 'security': 2, 'opens': 2, 'pandoras': 2, 'blocking': 2, 'wirelurker': 2, 'unlocked': 1, 'store': 2, 'problem': 2, 'accommodating': 1, 'efforts': 1, 'despite': 1, 'deny': 1, 'definitely': 1, 'obsessed': 1, 'wooooooooooooo': 2, 'geez': 1, 'million': 1, 'preventing': 1, 'impossible': 1, 'almost': 1, 'urge': 1, 'fighting': 1, 'shipped': 2, 'woot': 2, 'partn': 1, 'holiday': 2, 'season': 1, 'effort': 1, 'assembly': 1, 'date': 2, 'released': 1, 'steal': 1, 'devices': 1, 'help': 3, 'rosie': 1, 'lotta': 1, 'bass': 1, 'whole': 1, 'size': 4, 'grandma': 2, 'heheh': 1, 'person': 1, 'alive': 1, 'happiest': 1, 'd': 3, 'kekeke': 1, 'newest': 2, 'pre': 1, 'handset': 2, 'offer': 2, 'before': 1, 'any': 1, 'renewal': 1, 'ddint': 1, 'receive': 1, 'deliver': 1, 'notif': 1, 'concern': 1, 'registration': 1, 'thats': 3, 'da': 1, 'selfie': 1, 'take': 1, 'oomf': 1, 'hell': 1, 'shame': 1, 'ranks': 1, 'wake': 1, 'exam': 1, '8': 3, 'during': 1, 'ergh': 1, 'stick': 1, 'wrote': 1, 'gb': 1, 'see': 3, 'gigantic': 1, 'sobbing': 1, 'screaming': 1, 'grrr': 1, 'xmas': 3, 'aba': 1, 'videos': 1, 'iphone5s': 1, 'stop': 2, 'insisting': 1, 'zz': 1, 'yup': 3, 'data': 1, 'wifi': 1, 'dayz': 1, 'tend': 1, 'freak': 1, 'lollipop': 2, 'control': 1, 'remote': 1, 'ill': 2, 'silver': 1, 'imma': 1, 'weekend': 1, 'cc': 1, 'thx': 1, 'hahaha': 1, 'fridayn': 1, 'bouta': 1, 'need': 6, 'tx': 1, 'fone': 1, 'january': 1, 'wishing': 1, 'xterms': 1, 'point': 1, '0': 1, 'x24': 1, 'maybe': 1, 't2': 1, 'depends': 1, 'brother': 1, 'youll': 1, 'smart': 1, 'cook': 1, 'absolutely': 1, 'visuals': 1, 'level': 1, 'xcom': 1, 'niece': 1, 'pmr': 1, 'sister': 2, 'nowdays': 1, 'kuar': 1, 'her': 2, 'dah': 1, 'result': 1, 'kena': 1, 'standby': 1, 'unofficial': 1, 'defently': 1, 'works': 1, 'everything': 2, 'became': 1, 'black': 4, 'trading': 1, 'fell': 1, 'samsung': 2, 'hottest': 1, 'smartphon': 1, 'welcome': 1, 'current': 1, '3': 3, 'inch': 1, 'ima': 1, 'craving': 1, 'daddy': 1, 'eyed': 1, 'baby': 3, 'limited': 1, 'much': 3, 'win': 1, 'hoping': 1, 'hopes': 1, 'cute': 1, 'album': 1, 'ticket': 1, 'ofcourse': 1, 'fab': 1, 'concert': 1, 'clothes': 2, 'given': 1, 'tired': 1, 'yasssss': 1, 'currently': 1, 'ms': 1, 'zoned': 1, 'energy': 1, 'motivated': 1, 'chu': 1, 'badu': 1, 'writing': 1, 'sprite': 1, 'awesomenessgolden': 1, 'diamonds': 1, 'piece': 2, 'phonein': 1, 'yrs': 1, 'distasteful': 1, 'very': 1, 'mean': 1, 'urghh': 1, 'fascinated': 1, 'ned': 1, 'kay': 1, 'job': 1, 'ok': 1, 'washing': 1, 'somewhat': 1, 'tub': 1, 'dog': 1, 'guessing': 1, 'waterproof': 1, 'bish': 1, 'glitches': 1, 'rd': 2, 'believe': 2, 'moto': 1, 'door': 1, 'sucks': 2, 'x': 2, 'using': 3, 'righteous': 1, 'eve': 1, 'ladies': 1, 'attracted': 1, 'arrives': 1, 'iphone7': 1, 'seems': 1, 'register': 1, 'steps': 1, 'accurate': 1, 'healthkit': 1, 'neither': 1, 'convinced': 1, 'never': 2, 'juiced': 1, 'them': 1, 'spoiled': 1, 'woah': 1, 'yourself': 1, 'medicine': 1, 'spoil': 1, 'sometimes': 1, 'fact': 2, 'shipping': 1, 'girls': 1, 'camera': 2, 'fall': 1, 'leaves': 1, 'awesome': 2, 'order': 1, 'nic': 1, 'fritz': 1, 'verizon': 1, 'idk': 1, 'wrong': 1, 'somebody': 1, 'found': 1, 'hello': 1, 'younger': 1, 'goodbye': 1, '❤️': 1, 'b': 1, 'fits': 1, 'glove': 1, 'dick': 1, 'fat': 1, 'moved': 1, 'lah': 1, 'sighhhhhhhhhh': 1, 'boss': 1, 'white': 1, 'effect': 1, 'everyday': 1, 'tag': 1, 'mac': 1, 'fast': 3, 'holla': 1, 'soo': 1, 'tv': 1, 'talking': 2, 'sudden': 1, 'watching': 1, 'confess': 1, 'three': 1, 'playstation': 2, 'roupa': 2, 'dinheiro': 2, 'blurry': 1, 'lwkmd': 1, 'yesterday': 1, 'alert': 1, 'locked': 1, 'stopped': 1, 'swipe': 1, 'notifications': 1, 'sent': 1, 'keyboard': 1, 'sms': 1, 'ton': 1, 'normal': 1, 'duper': 1, 'nn': 1, 'thursday': 1, 'super': 1, 'serious': 1, 'takes': 1, 'used': 2, 'fam': 1, 'feelin': 1, 'friends': 1, 'loved': 1, 'dinner': 1, 'sha': 1, 'suicide': 1, 'factory': 1, 'tragic': 1, 'poetry': 1, 'worker': 1, 'via': 1, 'wont': 1, 'foxconn': 1, 'nnthe': 1, 'committed': 1, 'our': 2, 'popular': 1, 'weve': 1, 'vodafone': 1, 'thank': 1, 'develiverd': 1, 'god': 2, 'thee': 1, 'ole': 1, 'reminds': 1, 'gameboy': 1, 'starting': 1, 'kind': 1, 'advanced': 1, 'caps': 1, 'tryna': 1, 'autocorrect': 1, 'letter': 1, 'bruh': 1, 'word': 1, 'every': 1, 'gotdamn': 1, 'capitalize': 1, 'uugh': 1, 'waits': 1, 'child': 1, 'anxiously': 1, 'adjusting': 1, 'wirelurke': 1, 'ldolii': 1, 'id': 1, 'touch': 1, 'customized': 1, 'yesss': 1, 'activate': 1, 'freaking': 2, 'digging': 1, 'relief': 1, 'wi': 1, 'law': 1, 'jacky': 1, 'into': 1, 'however': 1, 'mailbox': 1, 'crashes': 1, 'inbox': 1, 'forcing': 1, 'constantly': 1, 'headphones': 1, 'mouth': 1, 'biggggggggggggg': 1, 'backkkkkk': 1, 'thumbs': 1, 'problems': 1, 'hurt': 1, 'toooo': 1, 'ios81': 1, 'ui': 1, 'lockscreen': 1, '♥️': 1, 'official': 1, 'lover': 1, 'gray': 1, 'space': 1, 'diamond': 1, 'encrusted': 1, 'plated': 1, 'needs': 1, 'w': 1, 'logo': 1, 'anticipate': 1, 'lasts': 1, 'bitches': 1, 'treat': 1, 'look': 3, 'uh': 1, 'may': 1, 'wish': 2, 'giveup': 1, 'worst': 1, 'exited': 1, 'makes': 1, 'poo': 1, 'iphone5c': 1, 'honesty': 1, 'owning': 1, 'interest': 1, 'planning': 1, 'charging': 1, 'cable': 1, 'text': 1, 'due': 1, 'bullshit': 1, 'giving': 1, 'mahama': 1, 'ecg': 1, 'xmaswhere': 1, 'start': 1, 'started': 1, 'wnt': 1, 'notice': 1, 'ironing': 1, 'tht': 2, 'bloggers': 1, 'yall': 1, 'accessory': 1, 'blogging': 1, 'favorite': 1, 'pics': 1, 'color': 1, 'naturally': 1, 'f': 1, 'fashion': 1, 'killer': 1, 's4': 1, 'edge': 1, 'rare': 1, 'hear': 1, 'ape': 1, 'buyers': 1, 'mistake': 1, 'remorse': 1, 'ache': 1, 'ungainly': 1, 'foolish': 1, 'droids': 1, 'cards': 1, 'sephora': 1, 'sarcasm': 1, 'told': 1, 'nicer': 1, 'kpop': 1, 'non': 1, 'personal': 1, 'bias': 1, 'soooo': 1, 'received': 1, 'follow': 1, 'retail': 1, 'bending': 1, 'replaced': 1, 'call': 1, 'candy': 1, 'office': 1, 'corporate': 1, 'eye': 1, 'hmm': 1, 'happen': 1, 'upgrading': 1, 'cares': 1, 'send': 1, 'asap': 1, 'att': 1, 'service': 1, 'restarting': 1, 'fix': 1, 'safari': 1})\n"
     ]
    }
   ],
   "source": [
    "print(t.word_docs) # palavras e qtos documentos elas apareceram"
   ]
  },
  {
   "cell_type": "code",
   "execution_count": 28,
   "metadata": {},
   "outputs": [],
   "source": [
    "# transformando em sequencia pra usar na RNN\n",
    "\n",
    "from keras.preprocessing import sequence\n",
    "\n",
    "max_len = 20\n",
    "\n",
    "seq_train = t.texts_to_sequences(X_train)\n",
    "seq_train = sequence.pad_sequences(seq_train, maxlen=max_len)"
   ]
  },
  {
   "cell_type": "code",
   "execution_count": 34,
   "metadata": {},
   "outputs": [
    {
     "name": "stdout",
     "output_type": "stream",
     "text": [
      "_________________________________________________________________\n",
      "Layer (type)                 Output Shape              Param #   \n",
      "=================================================================\n",
      "embedding_6 (Embedding)      (None, 20, 20)            24380     \n",
      "_________________________________________________________________\n",
      "lstm_6 (LSTM)                (None, 64)                21760     \n",
      "_________________________________________________________________\n",
      "dense_6 (Dense)              (None, 1)                 65        \n",
      "=================================================================\n",
      "Total params: 46,205\n",
      "Trainable params: 46,205\n",
      "Non-trainable params: 0\n",
      "_________________________________________________________________\n",
      "None\n"
     ]
    }
   ],
   "source": [
    "# definindo o modelo\n",
    "\n",
    "from keras.models import Sequential\n",
    "from keras.layers import Dense\n",
    "from keras.layers import LSTM\n",
    "from keras.layers.embeddings import Embedding\n",
    "\n",
    "model = Sequential()\n",
    "model.add(Embedding(len(t.word_index)+1, 20, input_length=max_len))\n",
    "model.add(LSTM(64))\n",
    "model.add(Dense(1, activation='sigmoid'))\n",
    "model.compile(loss='binary_crossentropy', optimizer='adam', metrics=['accuracy'])\n",
    "print(model.summary())"
   ]
  },
  {
   "cell_type": "code",
   "execution_count": 35,
   "metadata": {},
   "outputs": [
    {
     "name": "stdout",
     "output_type": "stream",
     "text": [
      "Epoch 1/5\n",
      "349/349 [==============================] - 2s 4ms/step - loss: 0.6527 - acc: 0.6991\n",
      "Epoch 2/5\n",
      "349/349 [==============================] - 0s 764us/step - loss: 0.5597 - acc: 0.7135\n",
      "Epoch 3/5\n",
      "349/349 [==============================] - 0s 758us/step - loss: 0.5157 - acc: 0.7163\n",
      "Epoch 4/5\n",
      "349/349 [==============================] - 0s 792us/step - loss: 0.4580 - acc: 0.7794\n",
      "Epoch 5/5\n",
      "349/349 [==============================] - 0s 772us/step - loss: 0.3337 - acc: 0.8539\n"
     ]
    },
    {
     "data": {
      "text/plain": [
       "<keras.callbacks.History at 0x22c5c691160>"
      ]
     },
     "execution_count": 35,
     "metadata": {},
     "output_type": "execute_result"
    }
   ],
   "source": [
    "model.fit(seq_train, y_train, epochs=5, batch_size=16)"
   ]
  },
  {
   "cell_type": "code",
   "execution_count": 36,
   "metadata": {},
   "outputs": [
    {
     "name": "stdout",
     "output_type": "stream",
     "text": [
      "Accuracy: 76.30%\n"
     ]
    }
   ],
   "source": [
    "seq_test = t.texts_to_sequences(X_test)\n",
    "seq_test = sequence.pad_sequences(seq_test, maxlen=max_len)\n",
    "\n",
    "scores = model.evaluate(seq_test, y_test, verbose=0)\n",
    "print(\"Accuracy: %.2f%%\" % (scores[1]*100))"
   ]
  },
  {
   "cell_type": "code",
   "execution_count": 38,
   "metadata": {},
   "outputs": [
    {
     "name": "stdout",
     "output_type": "stream",
     "text": [
      "_________________________________________________________________\n",
      "Layer (type)                 Output Shape              Param #   \n",
      "=================================================================\n",
      "embedding_8 (Embedding)      (None, 20, 20)            24380     \n",
      "_________________________________________________________________\n",
      "lstm_8 (LSTM)                (None, 64)                21760     \n",
      "_________________________________________________________________\n",
      "dropout_2 (Dropout)          (None, 64)                0         \n",
      "_________________________________________________________________\n",
      "dense_8 (Dense)              (None, 1)                 65        \n",
      "=================================================================\n",
      "Total params: 46,205\n",
      "Trainable params: 46,205\n",
      "Non-trainable params: 0\n",
      "_________________________________________________________________\n",
      "None\n"
     ]
    }
   ],
   "source": [
    "# usando dropout\n",
    "\n",
    "from keras.layers import Dropout\n",
    "\n",
    "model = Sequential()\n",
    "model.add(Embedding(len(t.word_index)+1, 20, input_length=max_len))\n",
    "model.add(LSTM(64))\n",
    "model.add(Dropout(0.5))\n",
    "model.add(Dense(1, activation='sigmoid'))\n",
    "model.compile(loss='binary_crossentropy', optimizer='adam', metrics=['accuracy'])\n",
    "print(model.summary())"
   ]
  },
  {
   "cell_type": "code",
   "execution_count": 39,
   "metadata": {},
   "outputs": [
    {
     "name": "stdout",
     "output_type": "stream",
     "text": [
      "Epoch 1/5\n",
      "349/349 [==============================] - 2s 5ms/step - loss: 0.6590 - acc: 0.6905\n",
      "Epoch 2/5\n",
      "349/349 [==============================] - 0s 785us/step - loss: 0.5674 - acc: 0.7135\n",
      "Epoch 3/5\n",
      "349/349 [==============================] - 0s 812us/step - loss: 0.5533 - acc: 0.7135\n",
      "Epoch 4/5\n",
      "349/349 [==============================] - 0s 794us/step - loss: 0.4925 - acc: 0.7221\n",
      "Epoch 5/5\n",
      "349/349 [==============================] - 0s 772us/step - loss: 0.3797 - acc: 0.8281\n",
      "Accuracy: 75.14%\n"
     ]
    }
   ],
   "source": [
    "model.fit(seq_train, y_train, epochs=5, batch_size=16)\n",
    "\n",
    "scores = model.evaluate(seq_test, y_test, verbose=0)\n",
    "print(\"Accuracy: %.2f%%\" % (scores[1]*100))"
   ]
  },
  {
   "cell_type": "code",
   "execution_count": 41,
   "metadata": {},
   "outputs": [
    {
     "name": "stdout",
     "output_type": "stream",
     "text": [
      "_________________________________________________________________\n",
      "Layer (type)                 Output Shape              Param #   \n",
      "=================================================================\n",
      "embedding_10 (Embedding)     (None, 20, 20)            24380     \n",
      "_________________________________________________________________\n",
      "lstm_11 (LSTM)               (None, 20, 64)            21760     \n",
      "_________________________________________________________________\n",
      "lstm_12 (LSTM)               (None, 64)                33024     \n",
      "_________________________________________________________________\n",
      "dense_10 (Dense)             (None, 1)                 65        \n",
      "=================================================================\n",
      "Total params: 79,229\n",
      "Trainable params: 79,229\n",
      "Non-trainable params: 0\n",
      "_________________________________________________________________\n",
      "None\n",
      "Epoch 1/5\n",
      "349/349 [==============================] - 3s 8ms/step - loss: 0.6377 - acc: 0.7192\n",
      "Epoch 2/5\n",
      "349/349 [==============================] - 0s 1ms/step - loss: 0.5668 - acc: 0.7135\n",
      "Epoch 3/5\n",
      "349/349 [==============================] - 0s 1ms/step - loss: 0.5188 - acc: 0.7221\n",
      "Epoch 4/5\n",
      "349/349 [==============================] - 1s 1ms/step - loss: 0.3780 - acc: 0.8711\n",
      "Epoch 5/5\n",
      "349/349 [==============================] - 0s 1ms/step - loss: 0.1659 - acc: 0.9398\n",
      "Accuracy: 75.72%\n"
     ]
    }
   ],
   "source": [
    "# LSTM stackada\n",
    "\n",
    "model = Sequential()\n",
    "model.add(Embedding(len(t.word_index)+1, 20, input_length=max_len))\n",
    "model.add(LSTM(64, return_sequences=True))\n",
    "model.add(LSTM(64))\n",
    "model.add(Dense(1, activation='sigmoid'))\n",
    "model.compile(loss='binary_crossentropy', optimizer='adam', metrics=['accuracy'])\n",
    "print(model.summary())\n",
    "\n",
    "model.fit(seq_train, y_train, epochs=5, batch_size=16)\n",
    "\n",
    "scores = model.evaluate(seq_test, y_test, verbose=0)\n",
    "print(\"Accuracy: %.2f%%\" % (scores[1]*100))"
   ]
  },
  {
   "cell_type": "code",
   "execution_count": 43,
   "metadata": {},
   "outputs": [
    {
     "name": "stdout",
     "output_type": "stream",
     "text": [
      "_________________________________________________________________\n",
      "Layer (type)                 Output Shape              Param #   \n",
      "=================================================================\n",
      "embedding_12 (Embedding)     (None, 20, 20)            24380     \n",
      "_________________________________________________________________\n",
      "bidirectional_2 (Bidirection (None, 128)               43520     \n",
      "_________________________________________________________________\n",
      "dense_12 (Dense)             (None, 1)                 129       \n",
      "=================================================================\n",
      "Total params: 68,029\n",
      "Trainable params: 68,029\n",
      "Non-trainable params: 0\n",
      "_________________________________________________________________\n",
      "None\n",
      "Epoch 1/5\n",
      "349/349 [==============================] - 3s 10ms/step - loss: 0.6278 - acc: 0.7049\n",
      "Epoch 2/5\n",
      "349/349 [==============================] - 0s 1ms/step - loss: 0.5703 - acc: 0.7135\n",
      "Epoch 3/5\n",
      "349/349 [==============================] - 0s 1ms/step - loss: 0.5059 - acc: 0.7163\n",
      "Epoch 4/5\n",
      "349/349 [==============================] - 0s 1ms/step - loss: 0.3180 - acc: 0.8424\n",
      "Epoch 5/5\n",
      "349/349 [==============================] - 0s 1ms/step - loss: 0.1511 - acc: 0.9542\n",
      "Accuracy: 78.61%\n"
     ]
    }
   ],
   "source": [
    "# recorrentes bidirecionais\n",
    "\n",
    "from keras.layers import Bidirectional\n",
    "\n",
    "model = Sequential()\n",
    "model.add(Embedding(len(t.word_index)+1, 20, input_length=max_len))\n",
    "model.add(Bidirectional(LSTM(64)))\n",
    "model.add(Dense(1, activation='sigmoid'))\n",
    "model.compile(loss='binary_crossentropy', optimizer='adam', metrics=['accuracy'])\n",
    "print(model.summary())\n",
    "\n",
    "model.fit(seq_train, y_train, epochs=5, batch_size=16)\n",
    "\n",
    "scores = model.evaluate(seq_test, y_test, verbose=0)\n",
    "print(\"Accuracy: %.2f%%\" % (scores[1]*100))"
   ]
  },
  {
   "cell_type": "code",
   "execution_count": 45,
   "metadata": {},
   "outputs": [
    {
     "name": "stdout",
     "output_type": "stream",
     "text": [
      "_________________________________________________________________\n",
      "Layer (type)                 Output Shape              Param #   \n",
      "=================================================================\n",
      "embedding_14 (Embedding)     (None, 20, 20)            24380     \n",
      "_________________________________________________________________\n",
      "gru_2 (GRU)                  (None, 64)                16320     \n",
      "_________________________________________________________________\n",
      "dense_14 (Dense)             (None, 1)                 65        \n",
      "=================================================================\n",
      "Total params: 40,765\n",
      "Trainable params: 40,765\n",
      "Non-trainable params: 0\n",
      "_________________________________________________________________\n",
      "None\n",
      "Epoch 1/5\n",
      "349/349 [==============================] - 3s 8ms/step - loss: 0.6589 - acc: 0.7106\n",
      "Epoch 2/5\n",
      "349/349 [==============================] - 0s 714us/step - loss: 0.5744 - acc: 0.7135\n",
      "Epoch 3/5\n",
      "349/349 [==============================] - 0s 708us/step - loss: 0.5182 - acc: 0.7135\n",
      "Epoch 4/5\n",
      "349/349 [==============================] - 0s 726us/step - loss: 0.4467 - acc: 0.7708\n",
      "Epoch 5/5\n",
      "349/349 [==============================] - 0s 696us/step - loss: 0.3029 - acc: 0.8825\n",
      "Accuracy: 75.72%\n"
     ]
    }
   ],
   "source": [
    "# GRU\n",
    "\n",
    "from keras.layers import GRU\n",
    "\n",
    "model = Sequential()\n",
    "model.add(Embedding(len(t.word_index)+1, 20, input_length=max_len))\n",
    "model.add(GRU(64))\n",
    "model.add(Dense(1, activation='sigmoid'))\n",
    "model.compile(loss='binary_crossentropy', optimizer='adam', metrics=['accuracy'])\n",
    "print(model.summary())\n",
    "\n",
    "model.fit(seq_train, y_train, epochs=5, batch_size=16)\n",
    "\n",
    "scores = model.evaluate(seq_test, y_test, verbose=0)\n",
    "print(\"Accuracy: %.2f%%\" % (scores[1]*100))"
   ]
  },
  {
   "cell_type": "markdown",
   "metadata": {},
   "source": [
    "### Exercício"
   ]
  },
  {
   "cell_type": "code",
   "execution_count": null,
   "metadata": {},
   "outputs": [],
   "source": [
    "X = []\n",
    "y = []\n",
    "\n",
    "# lendo uma coleção de SMS Spam\n",
    "\n",
    "f = open(\"SMSSpamCollection.txt\", \"r\")\n",
    "for l in f:\n",
    "    l = l.split()\n",
    "    X.append(\" \".join(l[1:]))\n",
    "    y.append(1 if l[0] == \"spam\" else 0)\n",
    "    \n",
    "X_train, X_test, y_train, y_test = train_test_split(X, y, test_size=0.33, random_state=42, stratify=y)"
   ]
  },
  {
   "cell_type": "code",
   "execution_count": null,
   "metadata": {},
   "outputs": [],
   "source": []
  }
 ],
 "metadata": {
  "kernelspec": {
   "display_name": "Python 3",
   "language": "python",
   "name": "python3"
  },
  "language_info": {
   "codemirror_mode": {
    "name": "ipython",
    "version": 3
   },
   "file_extension": ".py",
   "mimetype": "text/x-python",
   "name": "python",
   "nbconvert_exporter": "python",
   "pygments_lexer": "ipython3",
   "version": "3.7.3"
  }
 },
 "nbformat": 4,
 "nbformat_minor": 2
}
