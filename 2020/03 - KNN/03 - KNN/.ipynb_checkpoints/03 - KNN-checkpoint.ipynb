{
 "cells": [
  {
   "cell_type": "markdown",
   "metadata": {},
   "source": [
    "### Aula 03 - KNN\n",
    "\n",
    "---\n"
   ]
  },
  {
   "cell_type": "code",
   "execution_count": 2,
   "metadata": {},
   "outputs": [],
   "source": [
    "import numpy as np\n",
    "import pandas as pd\n",
    "\n",
    "df_dataset = pd.read_csv('iris.csv', sep=',', index_col=None) "
   ]
  },
  {
   "cell_type": "markdown",
   "metadata": {},
   "source": [
    "---\n",
    "\n",
    "Na aula anterior, descobrimos as regras que separam as classes das iris utilizando análise exploratória. Nessa aula, vamos introduzir os algoritmos de aprendizagem automática que vão detectar automaticamente a classe para uma determinada amostra. O primeiro algoritmo a ser tratado é o algoritmos dos vizinhos próximos.\n",
    "\n",
    "---\n",
    "\n",
    "Para validar o modelo, antes é necessário separar quais amostras serão de treino e quais serão de teste. Vamos embaralhar as amostras e depois separar 100 amostras para treino e 50 para teste."
   ]
  },
  {
   "cell_type": "code",
   "execution_count": 3,
   "metadata": {},
   "outputs": [],
   "source": [
    "from sklearn.utils import shuffle\n",
    "df_dataset = shuffle(df_dataset,random_state=2020)"
   ]
  },
  {
   "cell_type": "code",
   "execution_count": 4,
   "metadata": {},
   "outputs": [
    {
     "data": {
      "text/html": [
       "<div>\n",
       "<style scoped>\n",
       "    .dataframe tbody tr th:only-of-type {\n",
       "        vertical-align: middle;\n",
       "    }\n",
       "\n",
       "    .dataframe tbody tr th {\n",
       "        vertical-align: top;\n",
       "    }\n",
       "\n",
       "    .dataframe thead th {\n",
       "        text-align: right;\n",
       "    }\n",
       "</style>\n",
       "<table border=\"1\" class=\"dataframe\">\n",
       "  <thead>\n",
       "    <tr style=\"text-align: right;\">\n",
       "      <th></th>\n",
       "      <th>comprimento_sepala</th>\n",
       "      <th>largura_sepala</th>\n",
       "      <th>comprimento_petala</th>\n",
       "      <th>largura_petala</th>\n",
       "      <th>classe</th>\n",
       "    </tr>\n",
       "  </thead>\n",
       "  <tbody>\n",
       "    <tr>\n",
       "      <th>104</th>\n",
       "      <td>6.5</td>\n",
       "      <td>3.0</td>\n",
       "      <td>5.8</td>\n",
       "      <td>2.2</td>\n",
       "      <td>Iris-virginica</td>\n",
       "    </tr>\n",
       "    <tr>\n",
       "      <th>8</th>\n",
       "      <td>4.4</td>\n",
       "      <td>2.9</td>\n",
       "      <td>1.4</td>\n",
       "      <td>0.2</td>\n",
       "      <td>Iris-setosa</td>\n",
       "    </tr>\n",
       "    <tr>\n",
       "      <th>61</th>\n",
       "      <td>5.9</td>\n",
       "      <td>3.0</td>\n",
       "      <td>4.2</td>\n",
       "      <td>1.5</td>\n",
       "      <td>Iris-versicolor</td>\n",
       "    </tr>\n",
       "    <tr>\n",
       "      <th>54</th>\n",
       "      <td>6.5</td>\n",
       "      <td>2.8</td>\n",
       "      <td>4.6</td>\n",
       "      <td>1.5</td>\n",
       "      <td>Iris-versicolor</td>\n",
       "    </tr>\n",
       "    <tr>\n",
       "      <th>78</th>\n",
       "      <td>6.0</td>\n",
       "      <td>2.9</td>\n",
       "      <td>4.5</td>\n",
       "      <td>1.5</td>\n",
       "      <td>Iris-versicolor</td>\n",
       "    </tr>\n",
       "  </tbody>\n",
       "</table>\n",
       "</div>"
      ],
      "text/plain": [
       "     comprimento_sepala  largura_sepala  comprimento_petala  largura_petala  \\\n",
       "104                 6.5             3.0                 5.8             2.2   \n",
       "8                   4.4             2.9                 1.4             0.2   \n",
       "61                  5.9             3.0                 4.2             1.5   \n",
       "54                  6.5             2.8                 4.6             1.5   \n",
       "78                  6.0             2.9                 4.5             1.5   \n",
       "\n",
       "              classe  \n",
       "104   Iris-virginica  \n",
       "8        Iris-setosa  \n",
       "61   Iris-versicolor  \n",
       "54   Iris-versicolor  \n",
       "78   Iris-versicolor  "
      ]
     },
     "execution_count": 4,
     "metadata": {},
     "output_type": "execute_result"
    }
   ],
   "source": [
    "df_dataset.head(n=5)"
   ]
  },
  {
   "cell_type": "code",
   "execution_count": 5,
   "metadata": {},
   "outputs": [
    {
     "name": "stdout",
     "output_type": "stream",
     "text": [
      "(100, 5)\n",
      "(50, 5)\n"
     ]
    }
   ],
   "source": [
    "treino = df_dataset[:100].values\n",
    "teste = df_dataset[100:].values\n",
    "\n",
    "print(treino.shape)\n",
    "print(teste.shape)"
   ]
  },
  {
   "cell_type": "markdown",
   "metadata": {},
   "source": [
    "---\n",
    "\n",
    "Agora, vamos começar a estruturar o código que permite o KNN funcionar. O algoritmo funciona basicamente nas seguintes etapas:\n",
    "\n",
    "- Calcular a distância de uma amostra para todas as demais;\n",
    "- Pegar as n amostras mais próximas;\n",
    "- Computar qual a classe mais frequente."
   ]
  },
  {
   "cell_type": "code",
   "execution_count": 6,
   "metadata": {},
   "outputs": [
    {
     "name": "stdout",
     "output_type": "stream",
     "text": [
      "1.0295630140987\n"
     ]
    }
   ],
   "source": [
    "amostra_teste = teste[0,:4]\n",
    "amostra_treino = treino[0,:4]\n",
    "distancia = np.sum((amostra_treino - amostra_teste) ** 2) ** 0.5\n",
    "print(distancia)"
   ]
  },
  {
   "cell_type": "markdown",
   "metadata": {},
   "source": [
    "---\n",
    "\n",
    "A distância foi calculada utilizando a norma 2, ou também chamada de euclidiana. No entanto, é necessário calcular a distância para todas as amostras. Podemos fazer isso para o vetor todo de uma vez, ou podemos fazer isso utilizando um laço."
   ]
  },
  {
   "cell_type": "code",
   "execution_count": 7,
   "metadata": {},
   "outputs": [
    {
     "name": "stdout",
     "output_type": "stream",
     "text": [
      "[1.8 9.4 3.8999999999999995 2.9000000000000004 3.3999999999999995\n",
      " 3.5999999999999996 2.1999999999999993 6.7 8.5 8.6 1.6999999999999997\n",
      " 4.699999999999999 9.1 2.6999999999999997 3.0 9.5 5.199999999999999 3.3\n",
      " 1.9999999999999998 9.9 9.5 2.6000000000000005 3.1999999999999997\n",
      " 9.299999999999999 2.1999999999999993 4.5 3.8 2.0999999999999996 9.0 8.8\n",
      " 0.9999999999999998 9.4 9.2 9.200000000000001 2.6999999999999993 9.1 9.2\n",
      " 5.699999999999999 9.299999999999999 3.499999999999999 9.1\n",
      " 2.299999999999999 4.3999999999999995 8.6 3.5999999999999996\n",
      " 1.7999999999999992 2.1000000000000005 2.5 2.6999999999999993\n",
      " 6.699999999999999 8.9 2.8 5.0 9.0 3.1999999999999993 4.699999999999999\n",
      " 1.8999999999999995 3.3999999999999995 9.3 3.9999999999999996\n",
      " 9.799999999999999 9.2 9.3 5.1 4.4 2.5999999999999996 9.1 9.4\n",
      " 2.999999999999999 2.9000000000000004 2.0999999999999996 9.299999999999999\n",
      " 9.1 1.7000000000000002 9.5 0.5000000000000007 1.7 8.7 3.3999999999999995\n",
      " 9.0 9.999999999999998 6.8 8.899999999999999 9.399999999999999\n",
      " 1.1000000000000008 4.1 9.0 1.6999999999999995 4.9 3.0 9.1\n",
      " 1.4999999999999996 2.599999999999999 8.899999999999999 3.0999999999999996\n",
      " 2.6999999999999997 9.299999999999999 2.299999999999999 4.5\n",
      " 3.0999999999999996]\n"
     ]
    }
   ],
   "source": [
    "distancias = np.sum(((amostra_teste - treino[:,:4]) ** 2) ** 0.5, axis=1)\n",
    "print(distancias)"
   ]
  },
  {
   "cell_type": "markdown",
   "metadata": {},
   "source": [
    "---\n",
    "\n",
    "Em seguida, escolhemos quantos vizinhos vamos considerar e escolhemos os mais próximos da amostra avaliada.\n",
    "A partir dos índices encontrados, calculamos qual é a classe mais frequente e atribuímos à amostra."
   ]
  },
  {
   "cell_type": "code",
   "execution_count": 8,
   "metadata": {},
   "outputs": [
    {
     "name": "stdout",
     "output_type": "stream",
     "text": [
      "[75 30 84 91 87]\n",
      "Iris-virginica\n"
     ]
    }
   ],
   "source": [
    "k = 5\n",
    "indices = distancias.argsort()[:k]\n",
    "print(indices)\n",
    "\n",
    "from collections import Counter\n",
    "\n",
    "vizinhos = treino[indices,4]\n",
    "classe = Counter(vizinhos).most_common(1)[0][0]\n",
    "print(classe)"
   ]
  },
  {
   "cell_type": "markdown",
   "metadata": {},
   "source": [
    "---\n",
    "\n",
    "Para verificar se a classe está correta, basta comparar o valor encontrado com o rótulo da amostra."
   ]
  },
  {
   "cell_type": "code",
   "execution_count": 9,
   "metadata": {},
   "outputs": [
    {
     "name": "stdout",
     "output_type": "stream",
     "text": [
      "Correto\n"
     ]
    }
   ],
   "source": [
    "classe_certa = teste[0, 4]\n",
    "if classe_certa == classe:\n",
    "    print(\"Correto\")\n",
    "else:\n",
    "    print(\"Errado\")"
   ]
  },
  {
   "cell_type": "markdown",
   "metadata": {},
   "source": [
    "---\n",
    "\n",
    "### Exercício 1: Agora que você conhece o processo, transforme-o em função ou organize o código para calcular a classe de cada amostra do conjunto de teste. Em seguida, calcule a acurácia verificando quantas amostras você acertou. Finalmente, realize o mesmo experimento para 1-NN, 3-NN e 5-NN e reporte qual quantidade de vizinhos próximos deu a melhor acurácia."
   ]
  },
  {
   "cell_type": "code",
   "execution_count": 34,
   "metadata": {},
   "outputs": [
    {
     "name": "stdout",
     "output_type": "stream",
     "text": [
      "1-NN 94.0%\n",
      "3-NN 98.0%\n",
      "5-NN 98.0%\n"
     ]
    }
   ],
   "source": [
    "def knn(teste, treino, k):\n",
    "    \n",
    "    acerto = 0\n",
    "    \n",
    "    for i in range(0,len(teste)):\n",
    "        distancias = np.sum(((teste[i,:4] - treino[:,:4]) ** 2) ** 0.5, axis=1) # Calcula as distancias de cada treino\n",
    "        indices = distancias.argsort()[:k] # Organiza de forma crescente\n",
    "\n",
    "        vizinhos = treino[indices,4]\n",
    "        classe = Counter(vizinhos).most_common(1)[0][0]\n",
    "        \n",
    "        classe_certa = teste[i, 4]\n",
    "        if classe_certa == classe:\n",
    "            acerto = acerto + 1 # Acertou\n",
    "            \n",
    "    return acerto/len(teste) #acerto/total\n",
    "    \n",
    "if __name__ == \"__main__\":\n",
    "    import numpy as np\n",
    "    import pandas as pd\n",
    "    from sklearn.utils import shuffle\n",
    "    from collections import Counter\n",
    "\n",
    "    df_dataset = pd.read_csv('iris.csv', sep=',', index_col=None) #Excel para df_dataset\n",
    "    df_dataset = shuffle(df_dataset,random_state=2020) #Misturar os dados\n",
    "\n",
    "    treino = df_dataset[:100].values # Separando dados do treino\n",
    "    teste = df_dataset[100:].values # Separando dados do teste\n",
    "    \n",
    "    knnResultado = []\n",
    "    \n",
    "    for k in range(1,6,2):\n",
    "        knnResultado.append(knn(teste, treino, k) * 100)\n",
    "        print(str(k)+\"-NN \" + str(knnResultado[-1]) + \"%\")"
   ]
  },
  {
   "cell_type": "code",
   "execution_count": 5,
   "metadata": {},
   "outputs": [
    {
     "name": "stdout",
     "output_type": "stream",
     "text": [
      "3-NN [98.0%] tem o melhor indice de acerto.\n"
     ]
    }
   ],
   "source": [
    "maximo = max(knnResultado, key=int)\n",
    "j = 1\n",
    "for i in knnResultado:\n",
    "    if i == maximo:\n",
    "        print(str(j)+\"-NN [\"+str(i)+\"%] tem o melhor indice de acerto.\")\n",
    "        break\n",
    "\n",
    "    j = j + 2"
   ]
  },
  {
   "cell_type": "code",
   "execution_count": 6,
   "metadata": {},
   "outputs": [],
   "source": [
    "# Resultados obtidos:\n",
    "  \n",
    "# 1-NN 94.0%\n",
    "# 3-NN 98.0%\n",
    "# 5-NN 98.0%\n",
    "\n",
    "#3-NN [98.0%] tem o melhor indice de acerto."
   ]
  },
  {
   "cell_type": "markdown",
   "metadata": {},
   "source": [
    "### Exercício 2: Implemente a variação de KNN por remoção ou inserção e verifique quantas amostras você consegue reduzir da base de treino sem prejuízo no seu julgamento."
   ]
  },
  {
   "cell_type": "code",
   "execution_count": 7,
   "metadata": {},
   "outputs": [],
   "source": [
    "## dica:\n",
    "\n",
    "## para adicionar uma linha\n",
    "## np.append(nome_vetor, item_novo, axis = 0)\n",
    "\n",
    "## para remover uma linha\n",
    "## np.delete(nome_vetor, indice_elemento, axis = 0)"
   ]
  },
  {
   "cell_type": "code",
   "execution_count": 108,
   "metadata": {},
   "outputs": [],
   "source": [
    "\n",
    "import numpy as np\n",
    "import pandas as pd\n",
    "from sklearn.utils import shuffle\n",
    "from collections import Counter\n",
    "\n",
    "df_dataset = pd.read_csv('iris.csv', sep=',', index_col=None) #Excel para df_dataset\n",
    "df_dataset = shuffle(df_dataset,random_state=2020) #Misturar os dados\n",
    "\n",
    "treino = df_dataset[:100].values # Separando dados do treino\n",
    "teste = df_dataset[100:].values # Separando dados do teste\n",
    "    "
   ]
  },
  {
   "cell_type": "code",
   "execution_count": 109,
   "metadata": {},
   "outputs": [
    {
     "data": {
      "text/plain": [
       "(100, 5)"
      ]
     },
     "execution_count": 109,
     "metadata": {},
     "output_type": "execute_result"
    }
   ],
   "source": [
    "treino.shape"
   ]
  },
  {
   "cell_type": "code",
   "execution_count": 110,
   "metadata": {},
   "outputs": [],
   "source": [
    "def EliminacaoSequencial(teste, treino, k):\n",
    "    \n",
    "    for i in range(len(teste)):\n",
    "        distancias = np.sum(((teste[i,:4] - treino[:,:4]) ** 2) ** 0.5, axis=1) # Calcula as distancias de cada treino\n",
    "        indices = distancias.argsort()[:k] # Organiza de forma crescente\n",
    "\n",
    "        vizinhos = treino[indices,4]\n",
    "        classe = Counter(vizinhos).most_common(1)[0][0]\n",
    "        \n",
    "        classe_certa = teste[i, 4]\n",
    "        \n",
    "        if classe_certa == classe:\n",
    "            #print(\"verdade\")\n",
    "            treino = np.delete(treino, i, axis = 0)\n",
    "            \n",
    "    return treino"
   ]
  },
  {
   "cell_type": "code",
   "execution_count": 111,
   "metadata": {},
   "outputs": [],
   "source": [
    "treino = EliminacaoSequencial(teste, treino, k)"
   ]
  },
  {
   "cell_type": "code",
   "execution_count": 112,
   "metadata": {},
   "outputs": [
    {
     "name": "stdout",
     "output_type": "stream",
     "text": [
      "1-NN 92.0%\n",
      "3-NN 98.0%\n",
      "5-NN 96.0%\n"
     ]
    }
   ],
   "source": [
    "knnResultadoExerc2 = []\n",
    "    \n",
    "for k in range(1,6,2):\n",
    "    knnResultadoExerc2.append(knn(teste, treino, k) * 100)\n",
    "    print(str(k)+\"-NN \" + str(knnResultadoExerc2[-1]) + \"%\")\n",
    "        "
   ]
  },
  {
   "cell_type": "code",
   "execution_count": 113,
   "metadata": {},
   "outputs": [
    {
     "data": {
      "text/plain": [
       "(51, 5)"
      ]
     },
     "execution_count": 113,
     "metadata": {},
     "output_type": "execute_result"
    }
   ],
   "source": [
    "treino.shape"
   ]
  },
  {
   "cell_type": "code",
   "execution_count": 114,
   "metadata": {},
   "outputs": [],
   "source": [
    "def InsercaoSequencial(teste, treino, k):\n",
    "    \n",
    "    for i in range(len(teste)):\n",
    "        distancias = np.sum(((teste[i,:4] - treino[:,:4]) ** 2) ** 0.5, axis=1) # Calcula as distancias de cada treino\n",
    "        indices = distancias.argsort()[:k] # Organiza de forma crescente\n",
    "\n",
    "        vizinhos = treino[indices,4]\n",
    "        classe = Counter(vizinhos).most_common(1)[0][0]\n",
    "        \n",
    "        classe_certa = teste[i, 4]\n",
    "        \n",
    "        if classe_certa != classe:\n",
    "            \n",
    "            treino = np.append(treino, np.array([teste[i]]), axis = 0)\n",
    "            \n",
    "    return treino"
   ]
  },
  {
   "cell_type": "code",
   "execution_count": 115,
   "metadata": {},
   "outputs": [],
   "source": [
    "treino = InsercaoSequencial(teste, treino, k)"
   ]
  },
  {
   "cell_type": "code",
   "execution_count": 116,
   "metadata": {},
   "outputs": [
    {
     "name": "stdout",
     "output_type": "stream",
     "text": [
      "1-NN 98.0%\n",
      "3-NN 94.0%\n",
      "5-NN 96.0%\n"
     ]
    }
   ],
   "source": [
    "knnResultadoExerc2 = []\n",
    "    \n",
    "for k in range(1,6,2):\n",
    "    knnResultadoExerc2.append(knn(teste, treino, k) * 100)\n",
    "    print(str(k)+\"-NN \" + str(knnResultadoExerc2[-1]) + \"%\")\n",
    "        "
   ]
  },
  {
   "cell_type": "code",
   "execution_count": 117,
   "metadata": {},
   "outputs": [
    {
     "data": {
      "text/plain": [
       "(54, 5)"
      ]
     },
     "execution_count": 117,
     "metadata": {},
     "output_type": "execute_result"
    }
   ],
   "source": [
    "treino.shape"
   ]
  },
  {
   "cell_type": "code",
   "execution_count": null,
   "metadata": {},
   "outputs": [],
   "source": []
  }
 ],
 "metadata": {
  "anaconda-cloud": {},
  "kernelspec": {
   "display_name": "Python 3",
   "language": "python",
   "name": "python3"
  },
  "language_info": {
   "codemirror_mode": {
    "name": "ipython",
    "version": 3
   },
   "file_extension": ".py",
   "mimetype": "text/x-python",
   "name": "python",
   "nbconvert_exporter": "python",
   "pygments_lexer": "ipython3",
   "version": "3.7.1"
  }
 },
 "nbformat": 4,
 "nbformat_minor": 1
}
