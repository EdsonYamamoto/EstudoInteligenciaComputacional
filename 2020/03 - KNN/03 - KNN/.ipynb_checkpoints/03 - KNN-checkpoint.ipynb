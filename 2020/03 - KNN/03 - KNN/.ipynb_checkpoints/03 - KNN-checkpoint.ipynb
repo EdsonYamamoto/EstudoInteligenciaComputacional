{
 "cells": [
  {
   "cell_type": "markdown",
   "metadata": {},
   "source": [
    "### Aula 03 - KNN\n",
    "\n",
    "---\n"
   ]
  },
  {
   "cell_type": "code",
   "execution_count": 1,
   "metadata": {},
   "outputs": [],
   "source": [
    "import numpy as np\n",
    "import pandas as pd\n",
    "\n",
    "df_dataset = pd.read_csv('iris.csv', sep=',', index_col=None) "
   ]
  },
  {
   "cell_type": "markdown",
   "metadata": {},
   "source": [
    "---\n",
    "\n",
    "Na aula anterior, descobrimos as regras que separam as classes das iris utilizando análise exploratória. Nessa aula, vamos introduzir os algoritmos de aprendizagem automática que vão detectar automaticamente a classe para uma determinada amostra. O primeiro algoritmo a ser tratado é o algoritmos dos vizinhos próximos.\n",
    "\n",
    "---\n",
    "\n",
    "Para validar o modelo, antes é necessário separar quais amostras serão de treino e quais serão de teste. Vamos embaralhar as amostras e depois separar 100 amostras para treino e 50 para teste."
   ]
  },
  {
   "cell_type": "code",
   "execution_count": 2,
   "metadata": {},
   "outputs": [],
   "source": [
    "from sklearn.utils import shuffle\n",
    "df_dataset = shuffle(df_dataset,random_state=2020)"
   ]
  },
  {
   "cell_type": "code",
   "execution_count": 3,
   "metadata": {},
   "outputs": [
    {
     "data": {
      "text/html": [
       "<div>\n",
       "<style scoped>\n",
       "    .dataframe tbody tr th:only-of-type {\n",
       "        vertical-align: middle;\n",
       "    }\n",
       "\n",
       "    .dataframe tbody tr th {\n",
       "        vertical-align: top;\n",
       "    }\n",
       "\n",
       "    .dataframe thead th {\n",
       "        text-align: right;\n",
       "    }\n",
       "</style>\n",
       "<table border=\"1\" class=\"dataframe\">\n",
       "  <thead>\n",
       "    <tr style=\"text-align: right;\">\n",
       "      <th></th>\n",
       "      <th>comprimento_sepala</th>\n",
       "      <th>largura_sepala</th>\n",
       "      <th>comprimento_petala</th>\n",
       "      <th>largura_petala</th>\n",
       "      <th>classe</th>\n",
       "    </tr>\n",
       "  </thead>\n",
       "  <tbody>\n",
       "    <tr>\n",
       "      <th>104</th>\n",
       "      <td>6.5</td>\n",
       "      <td>3.0</td>\n",
       "      <td>5.8</td>\n",
       "      <td>2.2</td>\n",
       "      <td>Iris-virginica</td>\n",
       "    </tr>\n",
       "    <tr>\n",
       "      <th>8</th>\n",
       "      <td>4.4</td>\n",
       "      <td>2.9</td>\n",
       "      <td>1.4</td>\n",
       "      <td>0.2</td>\n",
       "      <td>Iris-setosa</td>\n",
       "    </tr>\n",
       "    <tr>\n",
       "      <th>61</th>\n",
       "      <td>5.9</td>\n",
       "      <td>3.0</td>\n",
       "      <td>4.2</td>\n",
       "      <td>1.5</td>\n",
       "      <td>Iris-versicolor</td>\n",
       "    </tr>\n",
       "    <tr>\n",
       "      <th>54</th>\n",
       "      <td>6.5</td>\n",
       "      <td>2.8</td>\n",
       "      <td>4.6</td>\n",
       "      <td>1.5</td>\n",
       "      <td>Iris-versicolor</td>\n",
       "    </tr>\n",
       "    <tr>\n",
       "      <th>78</th>\n",
       "      <td>6.0</td>\n",
       "      <td>2.9</td>\n",
       "      <td>4.5</td>\n",
       "      <td>1.5</td>\n",
       "      <td>Iris-versicolor</td>\n",
       "    </tr>\n",
       "  </tbody>\n",
       "</table>\n",
       "</div>"
      ],
      "text/plain": [
       "     comprimento_sepala  largura_sepala  comprimento_petala  largura_petala  \\\n",
       "104                 6.5             3.0                 5.8             2.2   \n",
       "8                   4.4             2.9                 1.4             0.2   \n",
       "61                  5.9             3.0                 4.2             1.5   \n",
       "54                  6.5             2.8                 4.6             1.5   \n",
       "78                  6.0             2.9                 4.5             1.5   \n",
       "\n",
       "              classe  \n",
       "104   Iris-virginica  \n",
       "8        Iris-setosa  \n",
       "61   Iris-versicolor  \n",
       "54   Iris-versicolor  \n",
       "78   Iris-versicolor  "
      ]
     },
     "execution_count": 3,
     "metadata": {},
     "output_type": "execute_result"
    }
   ],
   "source": [
    "df_dataset.head(n=5)"
   ]
  },
  {
   "cell_type": "code",
   "execution_count": 4,
   "metadata": {},
   "outputs": [
    {
     "name": "stdout",
     "output_type": "stream",
     "text": [
      "(100, 5)\n",
      "(50, 5)\n"
     ]
    }
   ],
   "source": [
    "treino = df_dataset[:100].values\n",
    "teste = df_dataset[100:].values\n",
    "\n",
    "print(treino.shape)\n",
    "print(teste.shape)"
   ]
  },
  {
   "cell_type": "markdown",
   "metadata": {},
   "source": [
    "---\n",
    "\n",
    "Agora, vamos começar a estruturar o código que permite o KNN funcionar. O algoritmo funciona basicamente nas seguintes etapas:\n",
    "\n",
    "- Calcular a distância de uma amostra para todas as demais;\n",
    "- Pegar as n amostras mais próximas;\n",
    "- Computar qual a classe mais frequente."
   ]
  },
  {
   "cell_type": "code",
   "execution_count": 5,
   "metadata": {},
   "outputs": [
    {
     "name": "stdout",
     "output_type": "stream",
     "text": [
      "1.0599999999999998\n"
     ]
    }
   ],
   "source": [
    "amostra_teste = teste[0,:4]\n",
    "amostra_treino = treino[0,:4]\n",
    "\n",
    "distancia = np.sum((amostra_treino - amostra_teste) ** 2)\n",
    "print(distancia)"
   ]
  },
  {
   "cell_type": "markdown",
   "metadata": {},
   "source": [
    "---\n",
    "\n",
    "A distância foi calculada utilizando a norma 2, ou também chamada de euclidiana. No entanto, é necessário calcular a distância para todas as amostras. Podemos fazer isso para o vetor todo de uma vez, ou podemos fazer isso utilizando um laço."
   ]
  },
  {
   "cell_type": "code",
   "execution_count": 6,
   "metadata": {},
   "outputs": [
    {
     "name": "stdout",
     "output_type": "stream",
     "text": [
      "[1.0599999999999998 34.980000000000004 6.469999999999997 3.63\n",
      " 5.019999999999999 3.9599999999999986 1.859999999999999 15.29\n",
      " 27.849999999999998 28.86 1.2899999999999994 9.169999999999996\n",
      " 31.230000000000004 3.4699999999999993 3.74 32.35000000000001\n",
      " 9.139999999999999 4.229999999999999 1.3999999999999995 35.45 34.41\n",
      " 2.1800000000000006 4.299999999999999 31.14999999999999 1.899999999999999\n",
      " 7.990000000000002 5.219999999999999 2.0699999999999994 32.52\n",
      " 29.179999999999993 0.27999999999999986 32.9 31.14 31.460000000000008\n",
      " 2.149999999999999 31.729999999999997 32.02 10.889999999999997\n",
      " 33.949999999999996 4.449999999999998 30.369999999999997\n",
      " 1.3699999999999992 7.339999999999997 26.779999999999994 5.459999999999999\n",
      " 0.8599999999999991 1.2900000000000005 2.67 3.049999999999998\n",
      " 15.649999999999999 26.970000000000006 2.8599999999999994\n",
      " 8.939999999999998 31.160000000000004 3.759999999999999 7.989999999999999\n",
      " 1.4899999999999989 5.059999999999999 29.810000000000002 5.219999999999998\n",
      " 31.779999999999998 33.160000000000004 31.77000000000001\n",
      " 10.369999999999997 7.66 2.899999999999999 30.689999999999998\n",
      " 30.939999999999998 2.519999999999998 3.630000000000001 1.4699999999999995\n",
      " 31.57 31.729999999999997 1.4900000000000002 33.95000000000001\n",
      " 0.07000000000000017 1.0300000000000002 29.949999999999996\n",
      " 4.8999999999999995 28.42 38.93999999999999 14.579999999999998\n",
      " 29.589999999999993 30.299999999999997 0.37000000000000055\n",
      " 6.9499999999999975 30.93999999999999 0.7499999999999996 10.43 3.74 29.85\n",
      " 0.7699999999999996 2.9999999999999982 27.729999999999997\n",
      " 4.269999999999999 3.409999999999999 32.03 1.8299999999999987\n",
      " 7.589999999999999 3.209999999999998]\n"
     ]
    }
   ],
   "source": [
    "distancias = np.sum((amostra_teste - treino[:,:4]) ** 2, axis=1)\n",
    "print(distancias)"
   ]
  },
  {
   "cell_type": "markdown",
   "metadata": {},
   "source": [
    "---\n",
    "\n",
    "Em seguida, escolhemos quantos vizinhos vamos considerar e escolhemos os mais próximos da amostra avaliada.\n",
    "A partir dos índices encontrados, calculamos qual é a classe mais frequente e atribuímos à amostra."
   ]
  },
  {
   "cell_type": "code",
   "execution_count": 7,
   "metadata": {},
   "outputs": [
    {
     "name": "stdout",
     "output_type": "stream",
     "text": [
      "[75 30 84 87 91]\n",
      "Iris-virginica\n"
     ]
    }
   ],
   "source": [
    "k = 5\n",
    "indices = distancias.argsort()[:k]\n",
    "print(indices)\n",
    "\n",
    "from collections import Counter\n",
    "\n",
    "vizinhos = treino[indices,4]\n",
    "classe = Counter(vizinhos).most_common(1)[0][0]\n",
    "print(classe)"
   ]
  },
  {
   "cell_type": "markdown",
   "metadata": {},
   "source": [
    "---\n",
    "\n",
    "Para verificar se a classe está correta, basta comparar o valor encontrado com o rótulo da amostra."
   ]
  },
  {
   "cell_type": "code",
   "execution_count": 8,
   "metadata": {},
   "outputs": [
    {
     "name": "stdout",
     "output_type": "stream",
     "text": [
      "Correto\n"
     ]
    }
   ],
   "source": [
    "classe_certa = teste[0, 4]\n",
    "if classe_certa == classe:\n",
    "    print(\"Correto\")\n",
    "else:\n",
    "    print(\"Errado\")"
   ]
  },
  {
   "cell_type": "markdown",
   "metadata": {},
   "source": [
    "---\n",
    "\n",
    "### Exercício 1: Agora que você conhece o processo, transforme-o em função ou organize o código para calcular a classe de cada amostra do conjunto de teste. Em seguida, calcule a acurácia verificando quantas amostras você acertou. Finalmente, realize o mesmo experimento para 1-NN, 3-NN e 5-NN e reporte qual quantidade de vizinhos próximos deu a melhor acurácia."
   ]
  },
  {
   "cell_type": "code",
   "execution_count": null,
   "metadata": {},
   "outputs": [],
   "source": []
  },
  {
   "cell_type": "code",
   "execution_count": 9,
   "metadata": {},
   "outputs": [],
   "source": [
    "# Resultados obtidos:\n",
    "  \n",
    "# 1-NN:   %\n",
    "# 3-NN:   %\n",
    "# 5-NN:   %\n"
   ]
  },
  {
   "cell_type": "markdown",
   "metadata": {},
   "source": [
    "### Exercício 2: Implemente a variação de KNN por remoção ou inserção e verifique quantas amostras você consegue reduzir da base de treino sem prejuízo no seu julgamento."
   ]
  },
  {
   "cell_type": "code",
   "execution_count": 10,
   "metadata": {},
   "outputs": [],
   "source": [
    "## dica:\n",
    "\n",
    "## para adicionar uma linha\n",
    "## np.append(nome_vetor, item_novo, axis = 0)\n",
    "\n",
    "## para remover uma linha\n",
    "## np.delete(nome_vetor, indice_elemento, axis = 0)"
   ]
  },
  {
   "cell_type": "code",
   "execution_count": null,
   "metadata": {},
   "outputs": [],
   "source": []
  },
  {
   "cell_type": "code",
   "execution_count": null,
   "metadata": {},
   "outputs": [],
   "source": []
  },
  {
   "cell_type": "code",
   "execution_count": null,
   "metadata": {},
   "outputs": [],
   "source": []
  }
 ],
 "metadata": {
  "anaconda-cloud": {},
  "kernelspec": {
   "display_name": "Python 3",
   "language": "python",
   "name": "python3"
  },
  "language_info": {
   "codemirror_mode": {
    "name": "ipython",
    "version": 3
   },
   "file_extension": ".py",
   "mimetype": "text/x-python",
   "name": "python",
   "nbconvert_exporter": "python",
   "pygments_lexer": "ipython3",
   "version": "3.7.1"
  }
 },
 "nbformat": 4,
 "nbformat_minor": 1
}
