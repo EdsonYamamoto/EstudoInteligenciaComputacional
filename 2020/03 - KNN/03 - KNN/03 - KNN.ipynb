{
 "cells": [
  {
   "cell_type": "markdown",
   "metadata": {},
   "source": [
    "### Aula 03 - KNN\n",
    "\n",
    "---\n"
   ]
  },
  {
   "cell_type": "code",
   "execution_count": null,
   "metadata": {},
   "outputs": [],
   "source": [
    "import numpy as np\n",
    "import pandas as pd\n",
    "\n",
    "df_dataset = pd.read_csv('iris.csv', sep=',', index_col=None) "
   ]
  },
  {
   "cell_type": "markdown",
   "metadata": {},
   "source": [
    "---\n",
    "\n",
    "Na aula anterior, descobrimos as regras que separam as classes das iris utilizando análise exploratória. Nessa aula, vamos introduzir os algoritmos de aprendizagem automática que vão detectar automaticamente a classe para uma determinada amostra. O primeiro algoritmo a ser tratado é o algoritmos dos vizinhos próximos.\n",
    "\n",
    "---\n",
    "\n",
    "Para validar o modelo, antes é necessário separar quais amostras serão de treino e quais serão de teste. Vamos embaralhar as amostras e depois separar 100 amostras para treino e 50 para teste."
   ]
  },
  {
   "cell_type": "code",
   "execution_count": null,
   "metadata": {},
   "outputs": [],
   "source": [
    "from sklearn.utils import shuffle\n",
    "df_dataset = shuffle(df_dataset,random_state=2020)"
   ]
  },
  {
   "cell_type": "code",
   "execution_count": null,
   "metadata": {},
   "outputs": [],
   "source": [
    "df_dataset.head(n=5)"
   ]
  },
  {
   "cell_type": "code",
   "execution_count": null,
   "metadata": {},
   "outputs": [],
   "source": [
    "treino = df_dataset[:100].values\n",
    "teste = df_dataset[100:].values\n",
    "\n",
    "print(treino.shape)\n",
    "print(teste.shape)"
   ]
  },
  {
   "cell_type": "markdown",
   "metadata": {},
   "source": [
    "---\n",
    "\n",
    "Agora, vamos começar a estruturar o código que permite o KNN funcionar. O algoritmo funciona basicamente nas seguintes etapas:\n",
    "\n",
    "- Calcular a distância de uma amostra para todas as demais;\n",
    "- Pegar as n amostras mais próximas;\n",
    "- Computar qual a classe mais frequente."
   ]
  },
  {
   "cell_type": "code",
   "execution_count": null,
   "metadata": {},
   "outputs": [],
   "source": [
    "amostra_teste = teste[0,:4]\n",
    "amostra_treino = treino[0,:4]\n",
    "distancia = np.sum((amostra_treino - amostra_teste) ** 2) ** 0.5\n",
    "print(distancia)"
   ]
  },
  {
   "cell_type": "markdown",
   "metadata": {},
   "source": [
    "---\n",
    "\n",
    "A distância foi calculada utilizando a norma 2, ou também chamada de euclidiana. No entanto, é necessário calcular a distância para todas as amostras. Podemos fazer isso para o vetor todo de uma vez, ou podemos fazer isso utilizando um laço."
   ]
  },
  {
   "cell_type": "code",
   "execution_count": null,
   "metadata": {},
   "outputs": [],
   "source": [
    "distancias = np.sum(((amostra_teste - treino[:,:4]) ** 2) ** 0.5, axis=1)\n",
    "print(distancias)"
   ]
  },
  {
   "cell_type": "markdown",
   "metadata": {},
   "source": [
    "---\n",
    "\n",
    "Em seguida, escolhemos quantos vizinhos vamos considerar e escolhemos os mais próximos da amostra avaliada.\n",
    "A partir dos índices encontrados, calculamos qual é a classe mais frequente e atribuímos à amostra."
   ]
  },
  {
   "cell_type": "code",
   "execution_count": null,
   "metadata": {},
   "outputs": [],
   "source": [
    "k = 5\n",
    "indices = distancias.argsort()[:k]\n",
    "print(indices)\n",
    "\n",
    "from collections import Counter\n",
    "\n",
    "vizinhos = treino[indices,4]\n",
    "classe = Counter(vizinhos).most_common(1)[0][0]\n",
    "print(classe)"
   ]
  },
  {
   "cell_type": "markdown",
   "metadata": {},
   "source": [
    "---\n",
    "\n",
    "Para verificar se a classe está correta, basta comparar o valor encontrado com o rótulo da amostra."
   ]
  },
  {
   "cell_type": "code",
   "execution_count": null,
   "metadata": {},
   "outputs": [],
   "source": [
    "classe_certa = teste[0, 4]\n",
    "if classe_certa == classe:\n",
    "    print(\"Correto\")\n",
    "else:\n",
    "    print(\"Errado\")"
   ]
  },
  {
   "cell_type": "markdown",
   "metadata": {},
   "source": [
    "---\n",
    "\n",
    "### Exercício 1: Agora que você conhece o processo, transforme-o em função ou organize o código para calcular a classe de cada amostra do conjunto de teste. Em seguida, calcule a acurácia verificando quantas amostras você acertou. Finalmente, realize o mesmo experimento para 1-NN, 3-NN e 5-NN e reporte qual quantidade de vizinhos próximos deu a melhor acurácia."
   ]
  },
  {
   "cell_type": "code",
   "execution_count": 9,
   "metadata": {},
   "outputs": [
    {
     "name": "stdout",
     "output_type": "stream",
     "text": [
      "1-NN 94.0%\n",
      "3-NN 98.0%\n",
      "5-NN 98.0%\n"
     ]
    }
   ],
   "source": [
    "def knn(teste, treino, k):\n",
    "    \n",
    "    acerto = 0\n",
    "    \n",
    "    for i in range(0,len(teste)):\n",
    "        distancias = np.sum(((teste[i,:4] - treino[:,:4]) ** 2) ** 0.5, axis=1) # Calcula as distancias de cada treino\n",
    "        indices = distancias.argsort()[:k] # Organiza de forma crescente\n",
    "\n",
    "        vizinhos = treino[indices,4]\n",
    "        classe = Counter(vizinhos).most_common(1)[0][0]\n",
    "        \n",
    "        classe_certa = teste[i, 4]\n",
    "        if classe_certa == classe:\n",
    "            acerto = acerto + 1 # Acertou\n",
    "            \n",
    "    return acerto/len(teste) #acerto/total\n",
    "    \n",
    "if __name__ == \"__main__\":\n",
    "    import numpy as np\n",
    "    import pandas as pd\n",
    "    from sklearn.utils import shuffle\n",
    "    from collections import Counter\n",
    "\n",
    "    df_dataset = pd.read_csv('iris.csv', sep=',', index_col=None) #Excel para df_dataset\n",
    "    df_dataset = shuffle(df_dataset,random_state=2020) #Misturar os dados\n",
    "\n",
    "    treino = df_dataset[:100].values # Separando dados do treino\n",
    "    teste = df_dataset[100:].values # Separando dados do teste\n",
    "    \n",
    "    knnResultado = []\n",
    "    \n",
    "    for k in range(1,6,2):\n",
    "        knnResultado.append(knn(teste, treino, k) * 100)\n",
    "        print(str(k)+\"-NN \" + str(knnResultado[-1]) + \"%\")"
   ]
  },
  {
   "cell_type": "code",
   "execution_count": 3,
   "metadata": {},
   "outputs": [
    {
     "name": "stdout",
     "output_type": "stream",
     "text": [
      "3-NN [98.0%] tem o melhor indice de acerto.\n"
     ]
    }
   ],
   "source": [
    "maximo = max(knnResultado, key=int)\n",
    "j = 1\n",
    "for i in knnResultado:\n",
    "    if i == maximo:\n",
    "        print(str(j)+\"-NN [\"+str(i)+\"%] tem o melhor indice de acerto.\")\n",
    "        break\n",
    "\n",
    "    j = j + 2"
   ]
  },
  {
   "cell_type": "code",
   "execution_count": null,
   "metadata": {},
   "outputs": [],
   "source": [
    "# Resultados obtidos:\n",
    "  \n",
    "# 1-NN 94.0%\n",
    "# 3-NN 98.0%\n",
    "# 5-NN 98.0%\n",
    "\n",
    "#3-NN [98.0%] tem o melhor indice de acerto."
   ]
  },
  {
   "cell_type": "markdown",
   "metadata": {},
   "source": [
    "### Exercício 2: Implemente a variação de KNN por remoção ou inserção e verifique quantas amostras você consegue reduzir da base de treino sem prejuízo no seu julgamento."
   ]
  },
  {
   "cell_type": "code",
   "execution_count": null,
   "metadata": {},
   "outputs": [],
   "source": [
    "## dica:\n",
    "\n",
    "## para adicionar uma linha\n",
    "## np.append(nome_vetor, item_novo, axis = 0)\n",
    "\n",
    "## para remover uma linha\n",
    "## np.delete(nome_vetor, indice_elemento, axis = 0)"
   ]
  },
  {
   "cell_type": "code",
   "execution_count": null,
   "metadata": {},
   "outputs": [],
   "source": []
  },
  {
   "cell_type": "code",
   "execution_count": null,
   "metadata": {},
   "outputs": [],
   "source": []
  },
  {
   "cell_type": "code",
   "execution_count": null,
   "metadata": {},
   "outputs": [],
   "source": []
  }
 ],
 "metadata": {
  "anaconda-cloud": {},
  "kernelspec": {
   "display_name": "Python 3",
   "language": "python",
   "name": "python3"
  },
  "language_info": {
   "codemirror_mode": {
    "name": "ipython",
    "version": 3
   },
   "file_extension": ".py",
   "mimetype": "text/x-python",
   "name": "python",
   "nbconvert_exporter": "python",
   "pygments_lexer": "ipython3",
   "version": "3.7.6"
  }
 },
 "nbformat": 4,
 "nbformat_minor": 1
}
