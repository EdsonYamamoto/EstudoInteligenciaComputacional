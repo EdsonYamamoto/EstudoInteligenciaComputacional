{
 "cells": [
  {
   "cell_type": "code",
   "execution_count": 79,
   "metadata": {},
   "outputs": [
    {
     "name": "stdout",
     "output_type": "stream",
     "text": [
      "Quantidade de cross validation:  3\n",
      "Score:  0.83203125\n",
      "verdPos: 48\tverdNeg: 178\tfalsoPos: 134\tfalsoNeg: 122\n",
      "Precisao:\t 0.26373626373626374\n",
      "Acuracia:\t 0.2942708333333333\n",
      "Revocacao:\t 0.2823529411764706\n",
      "fMedida:\t 0.2727272727272727\n",
      "\n",
      "Score:  0.8359375\n",
      "verdPos: 48\tverdNeg: 167\tfalsoPos: 132\tfalsoNeg: 124\n",
      "Precisao:\t 0.26666666666666666\n",
      "Acuracia:\t 0.2799479166666667\n",
      "Revocacao:\t 0.27906976744186046\n",
      "fMedida:\t 0.2727272727272727\n",
      "\n",
      "Score:  0.86328125\n",
      "verdPos: 46\tverdNeg: 170\tfalsoPos: 123\tfalsoNeg: 133\n",
      "Precisao:\t 0.27218934911242604\n",
      "Acuracia:\t 0.28125\n",
      "Revocacao:\t 0.2569832402234637\n",
      "fMedida:\t 0.26436781609195403\n",
      "\n"
     ]
    }
   ],
   "source": [
    "import pandas as pd\n",
    "from numpy import array\n",
    "from sklearn.model_selection import KFold\n",
    "from sklearn.metrics import confusion_matrix\n",
    "from sklearn.neighbors import KNeighborsClassifier\n",
    "from sklearn import metrics\n",
    "\n",
    "df = pd.read_csv(\"diabetes_data.csv\")\n",
    "X = df.drop(columns=[\"diabetes\"]).values\n",
    "y = df[\"diabetes\"].values\n",
    "\n",
    "n = 3\n",
    "print(\"Quantidade de cross validation: \",n)\n",
    "\n",
    "kfold = KFold(n, True, 1)\n",
    "for train, test in kfold.split(X, y):\n",
    "\n",
    "    from sklearn.neighbors import KNeighborsClassifier\n",
    "    # Create KNN classifier\n",
    "    knn = KNeighborsClassifier(n_neighbors = 3)\n",
    "    # Fit the classifier to the data\n",
    "    knn.fit(X[train],y[train])\n",
    "\n",
    "\n",
    "    teste = knn.predict(X[test])\n",
    "    \n",
    "    print(\"Score: \",knn.score(X[train], y[train]))\n",
    "    \n",
    "    verdPos = 0\n",
    "    verdNeg = 0\n",
    "    falsoNeg = 0\n",
    "    falsoPos = 0\n",
    "    total = len(X[train])+len(y[test])\n",
    "\n",
    "    for cont in range (len(y[test])):\n",
    "        if teste[cont] == 0 & y[test][cont] == 0:\n",
    "            verdNeg = 1+verdNeg\n",
    "        if teste[cont] == 1 & y[test][cont] == 1:\n",
    "            verdPos = 1+verdPos\n",
    "        if teste[cont] == 1 & y[test][cont] == 0:\n",
    "            falsoPos = falsoPos+1\n",
    "        else:\n",
    "            falsoNeg = falsoNeg+1\n",
    "\n",
    "    print('verdPos: '+str(verdPos)+\"\\tverdNeg: \"+str(verdNeg)+\"\\tfalsoPos: \"+str(falsoPos)+\"\\tfalsoNeg: \"+str( falsoNeg))\n",
    "    \n",
    "    prec = verdPos / (verdPos + falsoPos)\n",
    "    print(\"Precisao:\\t\",prec)\n",
    "\n",
    "    accur = (verdPos + verdNeg) / total\n",
    "    print(\"Acuracia:\\t\",accur)\n",
    "\n",
    "    revoc = verdPos / (verdPos + falsoNeg)\n",
    "    print(\"Revocacao:\\t\",revoc)\n",
    "\n",
    "    fMed = 2 * (prec * revoc / (prec + revoc))\n",
    "    print(\"fMedida:\\t\",fMed)\n",
    "    \n",
    "    print()"
   ]
  },
  {
   "cell_type": "code",
   "execution_count": null,
   "metadata": {},
   "outputs": [],
   "source": []
  }
 ],
 "metadata": {
  "kernelspec": {
   "display_name": "Python 3",
   "language": "python",
   "name": "python3"
  },
  "language_info": {
   "codemirror_mode": {
    "name": "ipython",
    "version": 3
   },
   "file_extension": ".py",
   "mimetype": "text/x-python",
   "name": "python",
   "nbconvert_exporter": "python",
   "pygments_lexer": "ipython3",
   "version": "3.7.1"
  }
 },
 "nbformat": 4,
 "nbformat_minor": 2
}
