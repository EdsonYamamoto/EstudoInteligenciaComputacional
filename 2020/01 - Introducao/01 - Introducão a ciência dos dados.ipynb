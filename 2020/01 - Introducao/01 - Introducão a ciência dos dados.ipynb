{
 "cells": [
  {
   "cell_type": "markdown",
   "metadata": {},
   "source": [
    "## Aula 01 - Introdução a ciência de dados\n",
    "\n",
    "O objetivo deste material é:\n",
    "- explicar conceitos sobre notebooks na plataforma Jupyter;\n",
    "- conduzir o aluno na leitura de um arquivo de dados;\n",
    "- explorar estatísticas e capacidades das bibliotecas numpy e pandas;\n",
    "- realizar primeiro experimento de aprendizagem automática."
   ]
  },
  {
   "cell_type": "markdown",
   "metadata": {},
   "source": [
    "---\n",
    "\n",
    "### Jupyter notebooks\n",
    "\n",
    "A plataforma Jupyter permite executar códigos e anotar observações ou resultados, documentando todo o processo. É importante perceber que as células são executadas isoladas, porém com espaço compartilhado em memória. Uma vez criada determinada variável, independente da célula, tal variável ficará disponível para todas as outras células. A única exceção é quando a variável tiver escopo delimitado por função ou classe."
   ]
  },
  {
   "cell_type": "markdown",
   "metadata": {},
   "source": [
    "---\n",
    "\n",
    "### Leitura de arquivos\n",
    "\n",
    "Nesse material faremos a leitura de arquivos utilizando como fonte alguns arquivos csv. Nos arquivos apresentados aqui as colunas serão delimitadas por tabulação e os dados das etapas de treino e teste estão em arquivos separados. Após a leitura, o Python utiliza a biblioteca Pandas para converter os dados em DataFrames e disponibilizar funções que viabilizam um conjunto de operações importantes para manipulação de dados."
   ]
  },
  {
   "cell_type": "code",
   "execution_count": null,
   "metadata": {},
   "outputs": [],
   "source": [
    "import pandas as pd\n",
    "\n",
    "train = pd.read_csv('train_empregados.csv', sep='\\t')\n",
    "test  = pd.read_csv('test_empregados.csv', sep='\\t')"
   ]
  },
  {
   "cell_type": "markdown",
   "metadata": {},
   "source": [
    "---\n",
    "\n",
    "### Informações dos DataFrames\n",
    "\n",
    "As informações do DataFrame podem ser visualizadas com a função info() e as dimensões podem ser acessadas utilizando a propriedade shape."
   ]
  },
  {
   "cell_type": "code",
   "execution_count": null,
   "metadata": {},
   "outputs": [],
   "source": [
    "print('Dimensões do treino:', train.shape)\n",
    "print('Dimensões do teste:',  test.shape)\n",
    "print()\n",
    "\n",
    "train.info()"
   ]
  },
  {
   "cell_type": "markdown",
   "metadata": {},
   "source": [
    "---\n",
    "\n",
    "### Manipulando e corrigindo os tipos\n",
    "\n",
    "As colunas iniciando com CR e o % Faltas são colunas numéricas, mas o Pandas não conseguiu interpretar isso devido ao formato. É necessário substituir a ',' por '.' e forçar a transformação em dados númericos."
   ]
  },
  {
   "cell_type": "code",
   "execution_count": null,
   "metadata": {},
   "outputs": [],
   "source": [
    "cols = train.columns\n",
    "numeric_columns = []\n",
    "\n",
    "## varre as colunas procurando as regras no nome\n",
    "\n",
    "for c in cols:\n",
    "    if 'CR' in c or '%' in c:\n",
    "        numeric_columns.append(c)\n",
    "\n",
    "## cria uma cópia para não precisa reimportar se algo der errado\n",
    "## e para cada coluna entendida como numérica, aplica o replace e a transformação pd.to_numeric\n",
    "        \n",
    "new_train = train.copy()    \n",
    "for c in numeric_columns: \n",
    "    new_train[c] = pd.to_numeric(train[c].str.replace(',','.'))\n",
    "        \n",
    "new_train.info()"
   ]
  },
  {
   "cell_type": "markdown",
   "metadata": {},
   "source": [
    "---\n",
    "\n",
    "### Replicando para o conjunto de teste\n",
    "\n",
    "Toda transformação que acontece no conjunto de treino deve ser levada para o conjunto de teste a fim de manter consistência e o processamento não enfrentar nenhum tipo de erro."
   ]
  },
  {
   "cell_type": "code",
   "execution_count": null,
   "metadata": {},
   "outputs": [],
   "source": [
    "new_test = test.copy()    \n",
    "for c in numeric_columns: \n",
    "    new_test[c] = pd.to_numeric(test[c].str.replace(',','.'))\n",
    "        \n",
    "new_test.info()"
   ]
  },
  {
   "cell_type": "markdown",
   "metadata": {},
   "source": [
    "---\n",
    "\n",
    "### Regras de classificação\n",
    "\n",
    "O intuito desse conjunto de dados é verificar se a partir de algumas informações, um determinado estudante estará empregado ou não ao final do curso. No momento, não será aplicada nenhuma regra de aprendizagem automática, portanto o sistema será especialista: as regras serão dadas por humanos. Ainda assim, alguns conceitos se estendem para a aprendizagem automática quando chegar a hora.\n",
    "\n",
    "Vamos supor que a regra que melhor descrimina os empregados dos não-empregados seja o CR do ciclo básico. Criaremos uma regra onde todos os alunos com CR > 0.6 estarão empregados, e os outros não. Para isso, precisamos criar uma coluna no DataFrame chamada \"pred\" (de predição) com o valor \"Não\" e atribuiremos \"Sim\" quando a regra for verdadeira."
   ]
  },
  {
   "cell_type": "code",
   "execution_count": null,
   "metadata": {},
   "outputs": [],
   "source": [
    "new_train['pred'] = 'Não'\n",
    "indices_regra_predicao = new_train['CR CicloBasico'] > 0.6\n",
    "new_train['pred'][indices_regra_predicao] = 'Sim'"
   ]
  },
  {
   "cell_type": "code",
   "execution_count": null,
   "metadata": {},
   "outputs": [],
   "source": [
    "## Ou podemos ter uma regra mais complexa\n",
    "\n",
    "new_train['pred'] = 'Não'\n",
    "indices_regra_predicao = (new_train['CR CicloBasico'] > 0.6) & (new_train['Fez estágio?'] == 'Sim')\n",
    "new_train['pred'][indices_regra_predicao] = 'Sim'"
   ]
  },
  {
   "cell_type": "code",
   "execution_count": null,
   "metadata": {},
   "outputs": [],
   "source": [
    "## Podemos contar quantos sim e não tem na coluna predição e na coluna que queremos acertar\n",
    "\n",
    "from collections import Counter\n",
    "print(Counter(new_train['pred']))\n",
    "print(Counter(new_train['Empregado?']))"
   ]
  },
  {
   "cell_type": "markdown",
   "metadata": {},
   "source": [
    "---\n",
    "\n",
    "### Verificando o desempenho da regra\n",
    "\n",
    "Não basta saber que a quantidade de sim e não está correta, afinal eles podem estar alinhados apenas em quantidade, mas acontecendo em linhas diferentes. Nesse sentido, é necessário verificar se cada predição baseada na regra conferiu com o valor original da coluna 'Empregado?'. Isso será feito utilizando uma comparação entre as duas colunas. Toda vez que a linha tiver o mesmo valor nas duas colunas significará que a regra estava certa. Interessa somar o resultado dessa coluna que é feitas de 1 e 0, respectivamente, verdadeiro e falso.\n",
    "\n",
    "A acurácia é calculada pela razão de acertos e total de linhas. Quando o total de acertos for igual ao número de linhas, indica que a regra acertou com perfeição todas as respostas."
   ]
  },
  {
   "cell_type": "code",
   "execution_count": null,
   "metadata": {},
   "outputs": [],
   "source": [
    "acertos = new_train['pred'] == new_train['Empregado?']\n",
    "acertos.sum() / acertos.count()"
   ]
  },
  {
   "cell_type": "markdown",
   "metadata": {},
   "source": [
    "---\n",
    "\n",
    "### Sua vez\n",
    "\n",
    "Agora você deve aplicar a regra observada em sala de aula e verificar qual a maior acurácia que consegue alcançar tanto no cojunto de treino quanto no conjunto de teste."
   ]
  },
  {
   "cell_type": "code",
   "execution_count": null,
   "metadata": {},
   "outputs": [],
   "source": []
  }
 ],
 "metadata": {
  "anaconda-cloud": {},
  "kernelspec": {
   "display_name": "Python 3",
   "language": "python",
   "name": "python3"
  },
  "language_info": {
   "codemirror_mode": {
    "name": "ipython",
    "version": 3
   },
   "file_extension": ".py",
   "mimetype": "text/x-python",
   "name": "python",
   "nbconvert_exporter": "python",
   "pygments_lexer": "ipython3",
   "version": "3.7.3"
  }
 },
 "nbformat": 4,
 "nbformat_minor": 1
}
