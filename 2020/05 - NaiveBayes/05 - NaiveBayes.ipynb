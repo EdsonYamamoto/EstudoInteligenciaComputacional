{
 "cells": [
  {
   "cell_type": "markdown",
   "metadata": {},
   "source": [
    "# Aula 05 - Naive Baiyes\n",
    "\n",
    "---\n",
    "\n"
   ]
  },
  {
   "cell_type": "code",
   "execution_count": 2,
   "metadata": {},
   "outputs": [],
   "source": [
    "import numpy as np"
   ]
  },
  {
   "cell_type": "code",
   "execution_count": 331,
   "metadata": {},
   "outputs": [],
   "source": [
    "import pandas as pd"
   ]
  },
  {
   "cell_type": "code",
   "execution_count": 404,
   "metadata": {},
   "outputs": [],
   "source": [
    "dataframe = pd.read_csv(\"dataset.csv\") "
   ]
  },
  {
   "cell_type": "code",
   "execution_count": 405,
   "metadata": {},
   "outputs": [
    {
     "data": {
      "text/html": [
       "<div>\n",
       "<style scoped>\n",
       "    .dataframe tbody tr th:only-of-type {\n",
       "        vertical-align: middle;\n",
       "    }\n",
       "\n",
       "    .dataframe tbody tr th {\n",
       "        vertical-align: top;\n",
       "    }\n",
       "\n",
       "    .dataframe thead th {\n",
       "        text-align: right;\n",
       "    }\n",
       "</style>\n",
       "<table border=\"1\" class=\"dataframe\">\n",
       "  <thead>\n",
       "    <tr style=\"text-align: right;\">\n",
       "      <th></th>\n",
       "      <th>Clima</th>\n",
       "      <th>Temperatura</th>\n",
       "      <th>Umidade</th>\n",
       "      <th>Vento</th>\n",
       "      <th>Jogar</th>\n",
       "    </tr>\n",
       "  </thead>\n",
       "  <tbody>\n",
       "    <tr>\n",
       "      <th>0</th>\n",
       "      <td>Chuvoso</td>\n",
       "      <td>Quente</td>\n",
       "      <td>Alta</td>\n",
       "      <td>FALSO</td>\n",
       "      <td>Não</td>\n",
       "    </tr>\n",
       "    <tr>\n",
       "      <th>1</th>\n",
       "      <td>Chuvoso</td>\n",
       "      <td>Quente</td>\n",
       "      <td>Alta</td>\n",
       "      <td>VERDADEIRO</td>\n",
       "      <td>Não</td>\n",
       "    </tr>\n",
       "    <tr>\n",
       "      <th>2</th>\n",
       "      <td>Nublado</td>\n",
       "      <td>Quente</td>\n",
       "      <td>Alta</td>\n",
       "      <td>FALSO</td>\n",
       "      <td>Sim</td>\n",
       "    </tr>\n",
       "    <tr>\n",
       "      <th>3</th>\n",
       "      <td>Ensolarado</td>\n",
       "      <td>Moderado</td>\n",
       "      <td>Alta</td>\n",
       "      <td>FALSO</td>\n",
       "      <td>Sim</td>\n",
       "    </tr>\n",
       "    <tr>\n",
       "      <th>4</th>\n",
       "      <td>Ensolarado</td>\n",
       "      <td>Frio</td>\n",
       "      <td>Normal</td>\n",
       "      <td>FALSO</td>\n",
       "      <td>Sim</td>\n",
       "    </tr>\n",
       "    <tr>\n",
       "      <th>5</th>\n",
       "      <td>Ensolarado</td>\n",
       "      <td>Frio</td>\n",
       "      <td>Normal</td>\n",
       "      <td>VERDADEIRO</td>\n",
       "      <td>Não</td>\n",
       "    </tr>\n",
       "    <tr>\n",
       "      <th>6</th>\n",
       "      <td>Nublado</td>\n",
       "      <td>Frio</td>\n",
       "      <td>Normal</td>\n",
       "      <td>VERDADEIRO</td>\n",
       "      <td>Sim</td>\n",
       "    </tr>\n",
       "    <tr>\n",
       "      <th>7</th>\n",
       "      <td>Chuvoso</td>\n",
       "      <td>Moderado</td>\n",
       "      <td>Alta</td>\n",
       "      <td>FALSO</td>\n",
       "      <td>Não</td>\n",
       "    </tr>\n",
       "    <tr>\n",
       "      <th>8</th>\n",
       "      <td>Chuvoso</td>\n",
       "      <td>Frio</td>\n",
       "      <td>Alta</td>\n",
       "      <td>FALSO</td>\n",
       "      <td>Sim</td>\n",
       "    </tr>\n",
       "    <tr>\n",
       "      <th>9</th>\n",
       "      <td>Ensolarado</td>\n",
       "      <td>Moderado</td>\n",
       "      <td>Normal</td>\n",
       "      <td>FALSO</td>\n",
       "      <td>Sim</td>\n",
       "    </tr>\n",
       "    <tr>\n",
       "      <th>10</th>\n",
       "      <td>Chuvoso</td>\n",
       "      <td>Moderado</td>\n",
       "      <td>Alta</td>\n",
       "      <td>VERDADEIRO</td>\n",
       "      <td>Sim</td>\n",
       "    </tr>\n",
       "    <tr>\n",
       "      <th>11</th>\n",
       "      <td>Nublado</td>\n",
       "      <td>Moderado</td>\n",
       "      <td>Alta</td>\n",
       "      <td>VERDADEIRO</td>\n",
       "      <td>Sim</td>\n",
       "    </tr>\n",
       "    <tr>\n",
       "      <th>12</th>\n",
       "      <td>Nublado</td>\n",
       "      <td>Quente</td>\n",
       "      <td>Normal</td>\n",
       "      <td>FALSO</td>\n",
       "      <td>Sim</td>\n",
       "    </tr>\n",
       "    <tr>\n",
       "      <th>13</th>\n",
       "      <td>Ensolarado</td>\n",
       "      <td>Moderado</td>\n",
       "      <td>Alta</td>\n",
       "      <td>VERDADEIRO</td>\n",
       "      <td>Não</td>\n",
       "    </tr>\n",
       "  </tbody>\n",
       "</table>\n",
       "</div>"
      ],
      "text/plain": [
       "         Clima Temperatura Umidade       Vento Jogar\n",
       "0      Chuvoso      Quente    Alta       FALSO   Não\n",
       "1      Chuvoso      Quente    Alta  VERDADEIRO   Não\n",
       "2      Nublado      Quente    Alta       FALSO   Sim\n",
       "3   Ensolarado    Moderado    Alta       FALSO   Sim\n",
       "4   Ensolarado        Frio  Normal       FALSO   Sim\n",
       "5   Ensolarado        Frio  Normal  VERDADEIRO   Não\n",
       "6      Nublado        Frio  Normal  VERDADEIRO   Sim\n",
       "7      Chuvoso    Moderado    Alta       FALSO   Não\n",
       "8      Chuvoso        Frio    Alta       FALSO   Sim\n",
       "9   Ensolarado    Moderado  Normal       FALSO   Sim\n",
       "10     Chuvoso    Moderado    Alta  VERDADEIRO   Sim\n",
       "11     Nublado    Moderado    Alta  VERDADEIRO   Sim\n",
       "12     Nublado      Quente  Normal       FALSO   Sim\n",
       "13  Ensolarado    Moderado    Alta  VERDADEIRO   Não"
      ]
     },
     "execution_count": 405,
     "metadata": {},
     "output_type": "execute_result"
    }
   ],
   "source": [
    "dataframe"
   ]
  },
  {
   "cell_type": "code",
   "execution_count": 406,
   "metadata": {},
   "outputs": [
    {
     "name": "stdout",
     "output_type": "stream",
     "text": [
      "['Chuvoso' 'Nublado' 'Ensolarado']\n",
      "['Quente' 'Moderado' 'Frio']\n",
      "['Alta' 'Normal']\n",
      "['FALSO' 'VERDADEIRO']\n",
      "['Não' 'Sim']\n"
     ]
    }
   ],
   "source": [
    "print(dataframe['Clima'].unique())\n",
    "print(dataframe['Temperatura'].unique())\n",
    "print(dataframe['Umidade'].unique())\n",
    "print(dataframe['Vento'].unique())\n",
    "print(dataframe['Jogar'].unique())"
   ]
  },
  {
   "cell_type": "code",
   "execution_count": 407,
   "metadata": {},
   "outputs": [
    {
     "data": {
      "text/html": [
       "<div>\n",
       "<style scoped>\n",
       "    .dataframe tbody tr th:only-of-type {\n",
       "        vertical-align: middle;\n",
       "    }\n",
       "\n",
       "    .dataframe tbody tr th {\n",
       "        vertical-align: top;\n",
       "    }\n",
       "\n",
       "    .dataframe thead th {\n",
       "        text-align: right;\n",
       "    }\n",
       "</style>\n",
       "<table border=\"1\" class=\"dataframe\">\n",
       "  <thead>\n",
       "    <tr style=\"text-align: right;\">\n",
       "      <th></th>\n",
       "      <th>Temperatura</th>\n",
       "      <th>Umidade</th>\n",
       "      <th>Vento</th>\n",
       "      <th>Jogar</th>\n",
       "    </tr>\n",
       "    <tr>\n",
       "      <th>Clima</th>\n",
       "      <th></th>\n",
       "      <th></th>\n",
       "      <th></th>\n",
       "      <th></th>\n",
       "    </tr>\n",
       "  </thead>\n",
       "  <tbody>\n",
       "    <tr>\n",
       "      <th>Chuvoso</th>\n",
       "      <td>5</td>\n",
       "      <td>5</td>\n",
       "      <td>5</td>\n",
       "      <td>5</td>\n",
       "    </tr>\n",
       "    <tr>\n",
       "      <th>Ensolarado</th>\n",
       "      <td>5</td>\n",
       "      <td>5</td>\n",
       "      <td>5</td>\n",
       "      <td>5</td>\n",
       "    </tr>\n",
       "    <tr>\n",
       "      <th>Nublado</th>\n",
       "      <td>4</td>\n",
       "      <td>4</td>\n",
       "      <td>4</td>\n",
       "      <td>4</td>\n",
       "    </tr>\n",
       "  </tbody>\n",
       "</table>\n",
       "</div>"
      ],
      "text/plain": [
       "            Temperatura  Umidade  Vento  Jogar\n",
       "Clima                                         \n",
       "Chuvoso               5        5      5      5\n",
       "Ensolarado            5        5      5      5\n",
       "Nublado               4        4      4      4"
      ]
     },
     "execution_count": 407,
     "metadata": {},
     "output_type": "execute_result"
    }
   ],
   "source": [
    "dataframe.groupby('Clima').count()"
   ]
  },
  {
   "cell_type": "code",
   "execution_count": 408,
   "metadata": {},
   "outputs": [
    {
     "data": {
      "text/html": [
       "<div>\n",
       "<style scoped>\n",
       "    .dataframe tbody tr th:only-of-type {\n",
       "        vertical-align: middle;\n",
       "    }\n",
       "\n",
       "    .dataframe tbody tr th {\n",
       "        vertical-align: top;\n",
       "    }\n",
       "\n",
       "    .dataframe thead th {\n",
       "        text-align: right;\n",
       "    }\n",
       "</style>\n",
       "<table border=\"1\" class=\"dataframe\">\n",
       "  <thead>\n",
       "    <tr style=\"text-align: right;\">\n",
       "      <th></th>\n",
       "      <th>Clima</th>\n",
       "      <th>Umidade</th>\n",
       "      <th>Vento</th>\n",
       "      <th>Jogar</th>\n",
       "    </tr>\n",
       "    <tr>\n",
       "      <th>Temperatura</th>\n",
       "      <th></th>\n",
       "      <th></th>\n",
       "      <th></th>\n",
       "      <th></th>\n",
       "    </tr>\n",
       "  </thead>\n",
       "  <tbody>\n",
       "    <tr>\n",
       "      <th>Frio</th>\n",
       "      <td>4</td>\n",
       "      <td>4</td>\n",
       "      <td>4</td>\n",
       "      <td>4</td>\n",
       "    </tr>\n",
       "    <tr>\n",
       "      <th>Moderado</th>\n",
       "      <td>6</td>\n",
       "      <td>6</td>\n",
       "      <td>6</td>\n",
       "      <td>6</td>\n",
       "    </tr>\n",
       "    <tr>\n",
       "      <th>Quente</th>\n",
       "      <td>4</td>\n",
       "      <td>4</td>\n",
       "      <td>4</td>\n",
       "      <td>4</td>\n",
       "    </tr>\n",
       "  </tbody>\n",
       "</table>\n",
       "</div>"
      ],
      "text/plain": [
       "             Clima  Umidade  Vento  Jogar\n",
       "Temperatura                              \n",
       "Frio             4        4      4      4\n",
       "Moderado         6        6      6      6\n",
       "Quente           4        4      4      4"
      ]
     },
     "execution_count": 408,
     "metadata": {},
     "output_type": "execute_result"
    }
   ],
   "source": [
    "dataframe.groupby('Temperatura').count()"
   ]
  },
  {
   "cell_type": "code",
   "execution_count": 409,
   "metadata": {},
   "outputs": [
    {
     "data": {
      "text/html": [
       "<div>\n",
       "<style scoped>\n",
       "    .dataframe tbody tr th:only-of-type {\n",
       "        vertical-align: middle;\n",
       "    }\n",
       "\n",
       "    .dataframe tbody tr th {\n",
       "        vertical-align: top;\n",
       "    }\n",
       "\n",
       "    .dataframe thead th {\n",
       "        text-align: right;\n",
       "    }\n",
       "</style>\n",
       "<table border=\"1\" class=\"dataframe\">\n",
       "  <thead>\n",
       "    <tr style=\"text-align: right;\">\n",
       "      <th></th>\n",
       "      <th>Clima</th>\n",
       "      <th>Temperatura</th>\n",
       "      <th>Vento</th>\n",
       "      <th>Jogar</th>\n",
       "    </tr>\n",
       "    <tr>\n",
       "      <th>Umidade</th>\n",
       "      <th></th>\n",
       "      <th></th>\n",
       "      <th></th>\n",
       "      <th></th>\n",
       "    </tr>\n",
       "  </thead>\n",
       "  <tbody>\n",
       "    <tr>\n",
       "      <th>Alta</th>\n",
       "      <td>9</td>\n",
       "      <td>9</td>\n",
       "      <td>9</td>\n",
       "      <td>9</td>\n",
       "    </tr>\n",
       "    <tr>\n",
       "      <th>Normal</th>\n",
       "      <td>5</td>\n",
       "      <td>5</td>\n",
       "      <td>5</td>\n",
       "      <td>5</td>\n",
       "    </tr>\n",
       "  </tbody>\n",
       "</table>\n",
       "</div>"
      ],
      "text/plain": [
       "         Clima  Temperatura  Vento  Jogar\n",
       "Umidade                                  \n",
       "Alta         9            9      9      9\n",
       "Normal       5            5      5      5"
      ]
     },
     "execution_count": 409,
     "metadata": {},
     "output_type": "execute_result"
    }
   ],
   "source": [
    "dataframe.groupby('Umidade').count()"
   ]
  },
  {
   "cell_type": "code",
   "execution_count": 410,
   "metadata": {},
   "outputs": [
    {
     "data": {
      "text/html": [
       "<div>\n",
       "<style scoped>\n",
       "    .dataframe tbody tr th:only-of-type {\n",
       "        vertical-align: middle;\n",
       "    }\n",
       "\n",
       "    .dataframe tbody tr th {\n",
       "        vertical-align: top;\n",
       "    }\n",
       "\n",
       "    .dataframe thead th {\n",
       "        text-align: right;\n",
       "    }\n",
       "</style>\n",
       "<table border=\"1\" class=\"dataframe\">\n",
       "  <thead>\n",
       "    <tr style=\"text-align: right;\">\n",
       "      <th></th>\n",
       "      <th>Clima</th>\n",
       "      <th>Temperatura</th>\n",
       "      <th>Umidade</th>\n",
       "      <th>Jogar</th>\n",
       "    </tr>\n",
       "    <tr>\n",
       "      <th>Vento</th>\n",
       "      <th></th>\n",
       "      <th></th>\n",
       "      <th></th>\n",
       "      <th></th>\n",
       "    </tr>\n",
       "  </thead>\n",
       "  <tbody>\n",
       "    <tr>\n",
       "      <th>FALSO</th>\n",
       "      <td>8</td>\n",
       "      <td>8</td>\n",
       "      <td>8</td>\n",
       "      <td>8</td>\n",
       "    </tr>\n",
       "    <tr>\n",
       "      <th>VERDADEIRO</th>\n",
       "      <td>6</td>\n",
       "      <td>6</td>\n",
       "      <td>6</td>\n",
       "      <td>6</td>\n",
       "    </tr>\n",
       "  </tbody>\n",
       "</table>\n",
       "</div>"
      ],
      "text/plain": [
       "            Clima  Temperatura  Umidade  Jogar\n",
       "Vento                                         \n",
       "FALSO           8            8        8      8\n",
       "VERDADEIRO      6            6        6      6"
      ]
     },
     "execution_count": 410,
     "metadata": {},
     "output_type": "execute_result"
    }
   ],
   "source": [
    "dataframe.groupby('Vento').count()"
   ]
  },
  {
   "cell_type": "code",
   "execution_count": 411,
   "metadata": {},
   "outputs": [
    {
     "data": {
      "text/html": [
       "<div>\n",
       "<style scoped>\n",
       "    .dataframe tbody tr th:only-of-type {\n",
       "        vertical-align: middle;\n",
       "    }\n",
       "\n",
       "    .dataframe tbody tr th {\n",
       "        vertical-align: top;\n",
       "    }\n",
       "\n",
       "    .dataframe thead th {\n",
       "        text-align: right;\n",
       "    }\n",
       "</style>\n",
       "<table border=\"1\" class=\"dataframe\">\n",
       "  <thead>\n",
       "    <tr style=\"text-align: right;\">\n",
       "      <th></th>\n",
       "      <th>Clima</th>\n",
       "      <th>Temperatura</th>\n",
       "      <th>Umidade</th>\n",
       "      <th>Vento</th>\n",
       "    </tr>\n",
       "    <tr>\n",
       "      <th>Jogar</th>\n",
       "      <th></th>\n",
       "      <th></th>\n",
       "      <th></th>\n",
       "      <th></th>\n",
       "    </tr>\n",
       "  </thead>\n",
       "  <tbody>\n",
       "    <tr>\n",
       "      <th>Não</th>\n",
       "      <td>5</td>\n",
       "      <td>5</td>\n",
       "      <td>5</td>\n",
       "      <td>5</td>\n",
       "    </tr>\n",
       "    <tr>\n",
       "      <th>Sim</th>\n",
       "      <td>9</td>\n",
       "      <td>9</td>\n",
       "      <td>9</td>\n",
       "      <td>9</td>\n",
       "    </tr>\n",
       "  </tbody>\n",
       "</table>\n",
       "</div>"
      ],
      "text/plain": [
       "       Clima  Temperatura  Umidade  Vento\n",
       "Jogar                                    \n",
       "Não        5            5        5      5\n",
       "Sim        9            9        9      9"
      ]
     },
     "execution_count": 411,
     "metadata": {},
     "output_type": "execute_result"
    }
   ],
   "source": [
    "dataframe.groupby('Jogar').count()"
   ]
  },
  {
   "cell_type": "code",
   "execution_count": 412,
   "metadata": {},
   "outputs": [
    {
     "data": {
      "text/plain": [
       "Clima          14\n",
       "Temperatura    14\n",
       "Umidade        14\n",
       "Vento          14\n",
       "Jogar          14\n",
       "dtype: int64"
      ]
     },
     "execution_count": 412,
     "metadata": {},
     "output_type": "execute_result"
    }
   ],
   "source": [
    "dataframe.count()"
   ]
  },
  {
   "cell_type": "code",
   "execution_count": 413,
   "metadata": {},
   "outputs": [],
   "source": [
    "dfClima = dataframe.drop(['Temperatura', 'Umidade', 'Vento'], axis=1)"
   ]
  },
  {
   "cell_type": "code",
   "execution_count": 414,
   "metadata": {},
   "outputs": [],
   "source": [
    "classe = 'Clima'\n",
    "jogar = 'Jogar'"
   ]
  },
  {
   "cell_type": "code",
   "execution_count": 415,
   "metadata": {},
   "outputs": [
    {
     "data": {
      "text/plain": [
       "Clima       Jogar\n",
       "Chuvoso     Não      3\n",
       "            Sim      2\n",
       "Ensolarado  Não      2\n",
       "            Sim      3\n",
       "Nublado     Sim      4\n",
       "dtype: int64"
      ]
     },
     "execution_count": 415,
     "metadata": {},
     "output_type": "execute_result"
    }
   ],
   "source": [
    "dfClima.groupby([classe,jogar]).size()"
   ]
  },
  {
   "cell_type": "code",
   "execution_count": 416,
   "metadata": {},
   "outputs": [
    {
     "data": {
      "text/plain": [
       "Clima    9\n",
       "Jogar    9\n",
       "dtype: int64"
      ]
     },
     "execution_count": 416,
     "metadata": {},
     "output_type": "execute_result"
    }
   ],
   "source": [
    "dfClima.loc[dfClima[jogar] == 'Sim'].count()"
   ]
  },
  {
   "cell_type": "code",
   "execution_count": 417,
   "metadata": {},
   "outputs": [],
   "source": [
    "qtdSim = pd.to_numeric(dfClima.loc[dfClima[jogar] == 'Sim'].count()[1], downcast='float')"
   ]
  },
  {
   "cell_type": "code",
   "execution_count": 418,
   "metadata": {},
   "outputs": [],
   "source": [
    "qtdNao = pd.to_numeric(dfClima.loc[dfClima[jogar] == 'Não'].count()[1], downcast='float')"
   ]
  },
  {
   "cell_type": "code",
   "execution_count": 419,
   "metadata": {},
   "outputs": [
    {
     "data": {
      "text/plain": [
       "9"
      ]
     },
     "execution_count": 419,
     "metadata": {},
     "output_type": "execute_result"
    }
   ],
   "source": [
    "qtdSim"
   ]
  },
  {
   "cell_type": "code",
   "execution_count": 420,
   "metadata": {},
   "outputs": [
    {
     "data": {
      "text/plain": [
       "5"
      ]
     },
     "execution_count": 420,
     "metadata": {},
     "output_type": "execute_result"
    }
   ],
   "source": [
    "qtdNao"
   ]
  },
  {
   "cell_type": "code",
   "execution_count": 421,
   "metadata": {},
   "outputs": [],
   "source": [
    "ttAmostras = qtdSim + qtdNao"
   ]
  },
  {
   "cell_type": "code",
   "execution_count": 422,
   "metadata": {},
   "outputs": [
    {
     "data": {
      "text/plain": [
       "14"
      ]
     },
     "execution_count": 422,
     "metadata": {},
     "output_type": "execute_result"
    }
   ],
   "source": [
    "ttAmostras"
   ]
  },
  {
   "cell_type": "code",
   "execution_count": 423,
   "metadata": {},
   "outputs": [
    {
     "data": {
      "text/plain": [
       "Clima       Jogar\n",
       "Chuvoso     Não      3\n",
       "            Sim      2\n",
       "Ensolarado  Não      2\n",
       "            Sim      3\n",
       "Nublado     Sim      4\n",
       "dtype: int64"
      ]
     },
     "execution_count": 423,
     "metadata": {},
     "output_type": "execute_result"
    }
   ],
   "source": [
    "dfClima.groupby([classe,jogar]).size()"
   ]
  },
  {
   "cell_type": "code",
   "execution_count": 424,
   "metadata": {},
   "outputs": [],
   "source": [
    "chuvosoNao = dfClima.groupby([classe,jogar]).size()[0]"
   ]
  },
  {
   "cell_type": "code",
   "execution_count": 425,
   "metadata": {},
   "outputs": [
    {
     "data": {
      "text/plain": [
       "3"
      ]
     },
     "execution_count": 425,
     "metadata": {},
     "output_type": "execute_result"
    }
   ],
   "source": [
    "chuvosoNao"
   ]
  },
  {
   "cell_type": "code",
   "execution_count": 426,
   "metadata": {},
   "outputs": [],
   "source": [
    "chuvosoSim = dfClima.groupby([classe,jogar]).size()[1]"
   ]
  },
  {
   "cell_type": "code",
   "execution_count": 427,
   "metadata": {},
   "outputs": [
    {
     "data": {
      "text/plain": [
       "2"
      ]
     },
     "execution_count": 427,
     "metadata": {},
     "output_type": "execute_result"
    }
   ],
   "source": [
    "chuvosoSim"
   ]
  },
  {
   "cell_type": "code",
   "execution_count": 428,
   "metadata": {},
   "outputs": [],
   "source": [
    "ensolaradoNao = dfClima.groupby([classe,jogar]).size()[2]"
   ]
  },
  {
   "cell_type": "code",
   "execution_count": 429,
   "metadata": {},
   "outputs": [
    {
     "data": {
      "text/plain": [
       "2"
      ]
     },
     "execution_count": 429,
     "metadata": {},
     "output_type": "execute_result"
    }
   ],
   "source": [
    "ensolaradoNao"
   ]
  },
  {
   "cell_type": "code",
   "execution_count": 430,
   "metadata": {},
   "outputs": [],
   "source": [
    "ensolaradoSim = dfClima.groupby([classe,jogar]).size()[3]"
   ]
  },
  {
   "cell_type": "code",
   "execution_count": 431,
   "metadata": {},
   "outputs": [
    {
     "data": {
      "text/plain": [
       "3"
      ]
     },
     "execution_count": 431,
     "metadata": {},
     "output_type": "execute_result"
    }
   ],
   "source": [
    "ensolaradoSim"
   ]
  },
  {
   "cell_type": "code",
   "execution_count": 432,
   "metadata": {},
   "outputs": [],
   "source": [
    "nubladoSim =dfClima.groupby([classe,jogar]).size()[4]"
   ]
  },
  {
   "cell_type": "code",
   "execution_count": 433,
   "metadata": {},
   "outputs": [
    {
     "data": {
      "text/plain": [
       "4"
      ]
     },
     "execution_count": 433,
     "metadata": {},
     "output_type": "execute_result"
    }
   ],
   "source": [
    "nubladoSim"
   ]
  },
  {
   "cell_type": "code",
   "execution_count": 434,
   "metadata": {},
   "outputs": [],
   "source": [
    "a = ensolaradoSim/qtdSim"
   ]
  },
  {
   "cell_type": "code",
   "execution_count": 435,
   "metadata": {},
   "outputs": [
    {
     "data": {
      "text/plain": [
       "0.3333333333333333"
      ]
     },
     "execution_count": 435,
     "metadata": {},
     "output_type": "execute_result"
    }
   ],
   "source": [
    "a"
   ]
  },
  {
   "cell_type": "code",
   "execution_count": 436,
   "metadata": {},
   "outputs": [],
   "source": [
    "b = qtdSim/ttAmostras"
   ]
  },
  {
   "cell_type": "code",
   "execution_count": 437,
   "metadata": {},
   "outputs": [
    {
     "data": {
      "text/plain": [
       "0.6428571428571429"
      ]
     },
     "execution_count": 437,
     "metadata": {},
     "output_type": "execute_result"
    }
   ],
   "source": [
    "b"
   ]
  },
  {
   "cell_type": "code",
   "execution_count": 438,
   "metadata": {},
   "outputs": [],
   "source": [
    "c = (ensolaradoNao+ensolaradoSim)/ttAmostras"
   ]
  },
  {
   "cell_type": "code",
   "execution_count": 439,
   "metadata": {},
   "outputs": [
    {
     "data": {
      "text/plain": [
       "0.35714285714285715"
      ]
     },
     "execution_count": 439,
     "metadata": {},
     "output_type": "execute_result"
    }
   ],
   "source": [
    "c"
   ]
  },
  {
   "cell_type": "code",
   "execution_count": 440,
   "metadata": {},
   "outputs": [],
   "source": [
    "simVerdadeiro = a*b/c"
   ]
  },
  {
   "cell_type": "code",
   "execution_count": 441,
   "metadata": {},
   "outputs": [],
   "source": [
    "aNao = ensolaradoNao/qtdNao"
   ]
  },
  {
   "cell_type": "code",
   "execution_count": 442,
   "metadata": {},
   "outputs": [],
   "source": [
    "bNao = qtdNao/ttAmostras"
   ]
  },
  {
   "cell_type": "code",
   "execution_count": 443,
   "metadata": {},
   "outputs": [],
   "source": [
    "cNao = (ensolaradoNao+ensolaradoSim)/ttAmostras"
   ]
  },
  {
   "cell_type": "code",
   "execution_count": 444,
   "metadata": {},
   "outputs": [],
   "source": [
    "naoVerdadeiro = aNao*bNao/cNao"
   ]
  },
  {
   "cell_type": "code",
   "execution_count": 445,
   "metadata": {},
   "outputs": [
    {
     "name": "stdout",
     "output_type": "stream",
     "text": [
      "Chuvoso\n",
      "Nublado\n",
      "Ensolarado\n",
      "\n",
      "Quente\n",
      "Moderado\n",
      "Frio\n",
      "\n",
      "Alta\n",
      "Normal\n",
      "\n",
      "FALSO\n",
      "VERDADEIRO\n",
      "\n",
      "Não\n",
      "Sim\n",
      "\n"
     ]
    }
   ],
   "source": [
    "for column in dataframe:\n",
    "    classes = dataframe[column].unique()\n",
    "    for i in range (len(classes)):\n",
    "        print(classes[i])\n",
    "    print()\n",
    "        #print(dataframe[[column,'Jogar']])"
   ]
  },
  {
   "cell_type": "code",
   "execution_count": 446,
   "metadata": {},
   "outputs": [
    {
     "name": "stdout",
     "output_type": "stream",
     "text": [
      "14\n",
      "\n",
      "Clima\n",
      "simTotal 9\n",
      "naoTotal 5\n",
      "Chuvoso\n",
      "sim 2\n",
      "nao 3\n",
      "0.2222222222222222\n",
      "0.6428571428571429\n",
      "0.35714285714285715\n",
      "sim verdadeiro 0.39999999999999997\n",
      "\n",
      "Nublado\n",
      "sim 4\n",
      "nao 0\n",
      "0.4444444444444444\n",
      "0.6428571428571429\n",
      "0.2857142857142857\n",
      "sim verdadeiro 1.0\n",
      "\n",
      "Ensolarado\n",
      "sim 3\n",
      "nao 2\n",
      "0.3333333333333333\n",
      "0.6428571428571429\n",
      "0.35714285714285715\n",
      "sim verdadeiro 0.6\n",
      "\n",
      "\n",
      "\n",
      "Temperatura\n",
      "simTotal 9\n",
      "naoTotal 5\n",
      "Quente\n",
      "sim 2\n",
      "nao 2\n",
      "0.2222222222222222\n",
      "0.6428571428571429\n",
      "0.2857142857142857\n",
      "sim verdadeiro 0.5\n",
      "\n",
      "Moderado\n",
      "sim 4\n",
      "nao 2\n",
      "0.4444444444444444\n",
      "0.6428571428571429\n",
      "0.42857142857142855\n",
      "sim verdadeiro 0.6666666666666666\n",
      "\n",
      "Frio\n",
      "sim 3\n",
      "nao 1\n",
      "0.3333333333333333\n",
      "0.6428571428571429\n",
      "0.2857142857142857\n",
      "sim verdadeiro 0.7500000000000001\n",
      "\n",
      "\n",
      "\n",
      "Umidade\n",
      "simTotal 9\n",
      "naoTotal 5\n",
      "Alta\n",
      "sim 5\n",
      "nao 4\n",
      "0.5555555555555556\n",
      "0.6428571428571429\n",
      "0.6428571428571429\n",
      "sim verdadeiro 0.5555555555555556\n",
      "\n",
      "Normal\n",
      "sim 4\n",
      "nao 1\n",
      "0.4444444444444444\n",
      "0.6428571428571429\n",
      "0.35714285714285715\n",
      "sim verdadeiro 0.7999999999999999\n",
      "\n",
      "\n",
      "\n",
      "Vento\n",
      "simTotal 9\n",
      "naoTotal 5\n",
      "FALSO\n",
      "sim 6\n",
      "nao 2\n",
      "0.6666666666666666\n",
      "0.6428571428571429\n",
      "0.5714285714285714\n",
      "sim verdadeiro 0.7500000000000001\n",
      "\n",
      "VERDADEIRO\n",
      "sim 3\n",
      "nao 3\n",
      "0.3333333333333333\n",
      "0.6428571428571429\n",
      "0.42857142857142855\n",
      "sim verdadeiro 0.5000000000000001\n",
      "\n",
      "\n",
      "\n",
      "\n"
     ]
    }
   ],
   "source": [
    "ttAmostras = dataframe.count()[0]\n",
    "print(ttAmostras)\n",
    "\n",
    "print()\n",
    "for column in dataframe:\n",
    "    if column != 'Jogar':\n",
    "        print(column)\n",
    "        simTotal = pd.to_numeric(dataframe[[column,'Jogar']].loc[dfClima[jogar] == 'Sim'].count()[1], downcast='float')\n",
    "        naoTotal = pd.to_numeric(dataframe[[column,'Jogar']].loc[dfClima[jogar] == 'Não'].count()[1], downcast='float')\n",
    "        print(\"simTotal \" + str(simTotal))\n",
    "        print(\"naoTotal \" + str(naoTotal))\n",
    "        classes = dataframe[column].unique()    \n",
    "        for i in range (len(classes)):\n",
    "            nao = 0\n",
    "            sim = 0\n",
    "            print(classes[i])\n",
    "            \n",
    "            g1 = dataframe[[column,'Jogar']] .loc[dataframe[column] == classes[i]] .groupby([column,'Jogar']).size()\n",
    "            #print(g1)\n",
    "            \n",
    "            \n",
    "            if len(g1)==1:\n",
    "                sim = g1[0]\n",
    "            else:\n",
    "                nao = g1[0]\n",
    "                sim = g1[1]\n",
    "            print(\"sim \"+str(sim))\n",
    "            print(\"nao \"+str(nao))\n",
    "            \n",
    "            a = sim/simTotal\n",
    "            print(a)\n",
    "            b = simTotal/ttAmostras\n",
    "            print(b)\n",
    "            c = (sim+nao)/ttAmostras\n",
    "            print(c)\n",
    "            \n",
    "            simVerdadeiro = a*b/c\n",
    "            print(\"sim verdadeiro \"+str(simVerdadeiro))\n",
    "            print()\n",
    "        print()\n",
    "    print()\n",
    "        "
   ]
  },
  {
   "cell_type": "code",
   "execution_count": 447,
   "metadata": {},
   "outputs": [
    {
     "data": {
      "text/plain": [
       "8.333333333333336"
      ]
     },
     "execution_count": 447,
     "metadata": {},
     "output_type": "execute_result"
    }
   ],
   "source": [
    "0.39999999999999997 * 0.7500000000000001 * 0.5555555555555556 * 0.5000000000000001*100"
   ]
  },
  {
   "cell_type": "code",
   "execution_count": null,
   "metadata": {},
   "outputs": [],
   "source": []
  }
 ],
 "metadata": {
  "anaconda-cloud": {},
  "kernelspec": {
   "display_name": "Python 3",
   "language": "python",
   "name": "python3"
  },
  "language_info": {
   "codemirror_mode": {
    "name": "ipython",
    "version": 3
   },
   "file_extension": ".py",
   "mimetype": "text/x-python",
   "name": "python",
   "nbconvert_exporter": "python",
   "pygments_lexer": "ipython3",
   "version": "3.7.1"
  }
 },
 "nbformat": 4,
 "nbformat_minor": 1
}
