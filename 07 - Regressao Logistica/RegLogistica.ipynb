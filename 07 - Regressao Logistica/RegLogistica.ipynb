{
 "cells": [
  {
   "cell_type": "markdown",
   "metadata": {},
   "source": [
    "## Regressão Logística"
   ]
  },
  {
   "cell_type": "markdown",
   "metadata": {},
   "source": [
    "De volta pro assunto de classificação, o objetivo desse conteúdo é explorar a representação de texto em computadores e utilizar regressão logística para categorizar os documentos. Além disso, tem um desafio no final para implementar otimização através de algoritmos genéticos."
   ]
  },
  {
   "cell_type": "code",
   "execution_count": 1,
   "metadata": {},
   "outputs": [
    {
     "data": {
      "text/plain": [
       "Index(['id', 'sentiment', 'review'], dtype='object')"
      ]
     },
     "execution_count": 1,
     "metadata": {},
     "output_type": "execute_result"
    }
   ],
   "source": [
    "import pandas as pd\n",
    "import numpy  as np\n",
    "\n",
    "df = pd.read_csv('movie_reviews.tsv', sep='\\t', index_col=None)\n",
    "\n",
    "df.columns"
   ]
  },
  {
   "cell_type": "code",
   "execution_count": 2,
   "metadata": {},
   "outputs": [],
   "source": [
    "X = df.review\n",
    "y = df.sentiment"
   ]
  },
  {
   "cell_type": "code",
   "execution_count": 3,
   "metadata": {},
   "outputs": [
    {
     "data": {
      "text/plain": [
       "(413,)"
      ]
     },
     "execution_count": 3,
     "metadata": {},
     "output_type": "execute_result"
    }
   ],
   "source": [
    "X.shape"
   ]
  },
  {
   "cell_type": "code",
   "execution_count": 4,
   "metadata": {},
   "outputs": [
    {
     "name": "stdout",
     "output_type": "stream",
     "text": [
      "With all this stuff going down at the moment with MJ i've started listening to his music, watching the odd documentary here and there, watched The Wiz and watched Moonwalker again. Maybe i just want to get a certain insight into this guy who i thought was really cool in the eighties just to maybe make up my mind whether he is guilty or innocent. Moonwalker is part biography, part feature film which i remember going to see at the cinema when it was originally released. Some of it has subtle messages about MJ's feeling towards the press and also the obvious message of drugs are bad m'kay.Visually impressive but of course this is all about Michael Jackson so unless you remotely like MJ in anyway then you are going to hate this and find it boring. Some may call MJ an egotist for consenting to the making of this movie BUT MJ and most of his fans would say that he made it for the fans which if true is really nice of him.The actual feature film bit when it finally starts is only on for 20 minutes or so excluding the Smooth Criminal sequence and Joe Pesci is convincing as a psychopathic all powerful drug lord. Why he wants MJ dead so bad is beyond me. Because MJ overheard his plans? Nah, Joe Pesci's character ranted that he wanted people to know it is he who is supplying drugs etc so i dunno, maybe he just hates MJ's music.Lots of cool things in this like MJ turning into a car and a robot and the whole Speed Demon sequence. Also, the director must have had the patience of a saint when it came to filming the kiddy Bad sequence as usually directors hate working with one kid let alone a whole bunch of them performing a complex dance scene.Bottom line, this movie is for people who like MJ on one level or another (which i think is most people). If not, then stay away. It does try and give off a wholesome message and ironically MJ's bestest buddy in this movie is a girl! Michael Jackson is truly one of the most talented people ever to grace this planet but is he guilty? Well, with all the attention i've gave this subject....hmmm well i don't know because people can be different behind closed doors, i know this for a fact. He is either an extremely nice but stupid guy or one of the most sickest liars. I hope he is not the latter.\n"
     ]
    }
   ],
   "source": [
    "print(X[0])"
   ]
  },
  {
   "cell_type": "code",
   "execution_count": 5,
   "metadata": {},
   "outputs": [
    {
     "name": "stdout",
     "output_type": "stream",
     "text": [
      "[('the', 5108), ('a', 2621), ('and', 2515), ('of', 2366), ('to', 2150), ('is', 1748), ('in', 1470), ('this', 1133), ('i', 1125), ('that', 1070), ('it', 1036), ('with', 764), ('for', 718), ('as', 708), ('but', 685), ('was', 676), ('on', 529), ('movie', 501), ('film', 492), ('are', 473)]\n"
     ]
    }
   ],
   "source": [
    "from collections import Counter\n",
    "\n",
    "# reune todas as palavras/tokens das amostras\n",
    "palavras = []\n",
    "for s in X.values:\n",
    "    palavras += s.lower().split()\n",
    "\n",
    "dicionario = Counter(palavras)\n",
    "print(dicionario.most_common(20))"
   ]
  },
  {
   "cell_type": "code",
   "execution_count": 6,
   "metadata": {},
   "outputs": [
    {
     "name": "stdout",
     "output_type": "stream",
     "text": [
      "['the', 'a', 'and', 'of', 'to', 'is', 'in', 'this', 'i', 'that', 'it', 'with', 'for', 'as', 'but', 'was', 'on', 'movie', 'film', 'are', 'his', 'not', 'be', 'have', 'you', 'one', 'by', 'at', 'he', 'all', 'an', 'from', 'who', 'so', 'her', 'like', 'some', 'has', 'about', 'just', \"it's\", 'or', 'out', 'if', 'they', 'there', 'very', 'when', 'their', 'more', 'good', 'only', 'would', 'what', 'even', 'no', 'really', 'up', 'my', 'which', 'she', 'how', 'had', '-', 'can', 'into', 'will', 'than', 'see', 'get', 'other', 'been', 'were', 'make', 'because', 'its', 'people', 'much', 'first', 'most', 'we', 'also', 'me', 'could', \"don't\", 'story', 'bad', 'time', 'being', 'then', 'do', 'great', 'any', 'after', 'many', 'made', 'well', '&', 'think', 'way']\n"
     ]
    }
   ],
   "source": [
    "# separa qual sera o vocabulario\n",
    "vocab = []\n",
    "for palavra, contagem in dicionario.most_common(100):\n",
    "    vocab.append(palavra)\n",
    "\n",
    "print(vocab)"
   ]
  },
  {
   "cell_type": "code",
   "execution_count": 7,
   "metadata": {},
   "outputs": [],
   "source": [
    "# cria a amostra marcando quais palavras aparecem naquela sentença (bag of words)\n",
    "\n",
    "X_bow = []\n",
    "for _ in range(df.review.shape[0]):\n",
    "    s = df.review.values[0]\n",
    "    sample = []\n",
    "    for p in vocab:\n",
    "        if p in s:\n",
    "            sample.append(1.0)\n",
    "        else:\n",
    "            sample.append(0.0)\n",
    "    X_bow.append(sample)\n",
    "\n",
    "X_bow = np.array(X_bow)"
   ]
  },
  {
   "cell_type": "code",
   "execution_count": 8,
   "metadata": {},
   "outputs": [],
   "source": [
    "# separa em treino e teste\n",
    "\n",
    "from sklearn.model_selection import train_test_split\n",
    "\n",
    "X_train, X_test, y_train, y_test = train_test_split(X_bow, y, test_size=0.33, random_state=42)"
   ]
  },
  {
   "cell_type": "code",
   "execution_count": 9,
   "metadata": {},
   "outputs": [],
   "source": [
    "# regressão logística e funções auxiliares\n",
    "\n",
    "def sigmoid(z):\n",
    "    return 1 / (1 + np.exp(-z))\n",
    "\n",
    "def loss(model, X, y):\n",
    "    X = add_bias(X)\n",
    "    z = np.dot(X, model)\n",
    "    h = sigmoid(z)\n",
    "    return (-y * np.log(h) - (1 - y) * np.log(1 - h)).mean()\n",
    "\n",
    "def add_bias(X):\n",
    "    bias = np.ones((X.shape[0], 1))\n",
    "    return np.concatenate((bias, X), axis=1)\n",
    "\n",
    "def fit(X, y, lr = 0.01, num_iter = 5):\n",
    "    \n",
    "    X = add_bias(X)\n",
    "    \n",
    "    theta = np.zeros(X.shape[1])\n",
    "    \n",
    "    for _ in range(num_iter):\n",
    "        z = np.dot(X, theta)\n",
    "        h = sigmoid(z)\n",
    "        gradient = np.dot(X.T, (h - y)) / y.size\n",
    "        theta -= lr * gradient\n",
    "        theta[-1] = np.sum(h-y)\n",
    "            \n",
    "    return theta\n",
    "\n",
    "def predict(X, theta):\n",
    "    X = add_bias(X)\n",
    "    return sigmoid(np.dot(X, theta)).round()"
   ]
  },
  {
   "cell_type": "code",
   "execution_count": 10,
   "metadata": {},
   "outputs": [
    {
     "name": "stdout",
     "output_type": "stream",
     "text": [
      "[-0.00061594 -0.00061594 -0.00061594 -0.00061594 -0.00061594 -0.00061594\n",
      " -0.00061594 -0.00061594 -0.00061594 -0.00061594 -0.00061594 -0.00061594\n",
      " -0.00061594 -0.00061594 -0.00061594 -0.00061594 -0.00061594 -0.00061594\n",
      " -0.00061594 -0.00061594 -0.00061594 -0.00061594 -0.00061594 -0.00061594\n",
      " -0.00061594 -0.00061594 -0.00061594  0.         -0.00061594 -0.00061594]\n",
      "9.52219601210531\n"
     ]
    },
    {
     "data": {
      "text/plain": [
       "0.5109489051094891"
      ]
     },
     "execution_count": 10,
     "metadata": {},
     "output_type": "execute_result"
    }
   ],
   "source": [
    "model = fit(X_train, y_train, num_iter = 1)\n",
    "print(model[:30])\n",
    "\n",
    "print(loss(model, X_train, y_train))\n",
    "\n",
    "preds = predict(X_test, model)\n",
    "(preds == y_test).mean()"
   ]
  },
  {
   "cell_type": "code",
   "execution_count": 11,
   "metadata": {},
   "outputs": [
    {
     "name": "stderr",
     "output_type": "stream",
     "text": [
      "C:\\Users\\Edson\\Anaconda3\\lib\\site-packages\\sklearn\\linear_model\\logistic.py:433: FutureWarning: Default solver will be changed to 'lbfgs' in 0.22. Specify a solver to silence this warning.\n",
      "  FutureWarning)\n"
     ]
    },
    {
     "name": "stdout",
     "output_type": "stream",
     "text": [
      "0.48905109489051096\n"
     ]
    },
    {
     "data": {
      "text/plain": [
       "(array([-0.00339157]),\n",
       " array([[-0.00339157, -0.00339157, -0.00339157, -0.00339157, -0.00339157,\n",
       "         -0.00339157, -0.00339157, -0.00339157, -0.00339157, -0.00339157,\n",
       "         -0.00339157, -0.00339157, -0.00339157, -0.00339157, -0.00339157,\n",
       "         -0.00339157, -0.00339157, -0.00339157, -0.00339157, -0.00339157,\n",
       "         -0.00339157, -0.00339157, -0.00339157, -0.00339157, -0.00339157,\n",
       "         -0.00339157,  0.        , -0.00339157, -0.00339157, -0.00339157,\n",
       "         -0.00339157,  0.        , -0.00339157, -0.00339157, -0.00339157,\n",
       "         -0.00339157, -0.00339157, -0.00339157, -0.00339157, -0.00339157,\n",
       "          0.        , -0.00339157, -0.00339157, -0.00339157,  0.        ,\n",
       "         -0.00339157,  0.        , -0.00339157,  0.        ,  0.        ,\n",
       "          0.        , -0.00339157, -0.00339157,  0.        ,  0.        ,\n",
       "         -0.00339157, -0.00339157, -0.00339157, -0.00339157, -0.00339157,\n",
       "          0.        ,  0.        , -0.00339157,  0.        , -0.00339157,\n",
       "         -0.00339157,  0.        ,  0.        , -0.00339157, -0.00339157,\n",
       "         -0.00339157,  0.        ,  0.        , -0.00339157, -0.00339157,\n",
       "          0.        , -0.00339157,  0.        ,  0.        , -0.00339157,\n",
       "         -0.00339157, -0.00339157, -0.00339157,  0.        , -0.00339157,\n",
       "          0.        , -0.00339157,  0.        ,  0.        , -0.00339157,\n",
       "         -0.00339157,  0.        , -0.00339157,  0.        ,  0.        ,\n",
       "         -0.00339157, -0.00339157,  0.        , -0.00339157, -0.00339157]]))"
      ]
     },
     "execution_count": 11,
     "metadata": {},
     "output_type": "execute_result"
    }
   ],
   "source": [
    "from sklearn.linear_model import LogisticRegression\n",
    "\n",
    "model = LogisticRegression()\n",
    "model.fit(X_train, y_train)\n",
    "preds = model.predict(X_test)\n",
    "\n",
    "print((preds == y_test).mean())\n",
    "\n",
    "model.intercept_, model.coef_"
   ]
  },
  {
   "cell_type": "markdown",
   "metadata": {},
   "source": [
    "### Exercício\n",
    "\n",
    "1. Utilizando a mesma base de dados, encontre o vocabulário apenas na parte de treino e aplique a transformação na parte de teste também. Da forma como foi implementado originalmente, o vocabulário está sendo encontrado em todo o conjunto de dados.\n",
    "\n",
    "2. Implemente o método de otimização por algoritmo genético e veja se consegue resultados melhores que a regressão logística com os parâmetros default do scikit-learn. Considere no algoritmo genético que o cruzamento será feito de forma uniforme, utilizando um valor aleatório para definir qual gene será herdado de cada pai; também considere que a geração seguinte só deve ser feita de filhos da geração anterior. Inicialize os pesos de forma aleatória utilizando a função própria para isso do numpy e torne fixo o fator de aleatoriedade.\n",
    "\n",
    "3. Pesquise sobre o conceito de stopwords e aplique-o, analisando se traz melhoras ou pioras para o modelo. Faça a análise considerando a Regressão Logística do scikit-learn e sua versão com algoritmos genéticos.\n",
    "\n",
    "4. Pesquise sobre o conceito TF-IDF e aplique-o, analisando se traz melhoras ou pioras para o modelo. Também faça a análise considerando utilizando os dois métodos: Regressão Logística do scikit-learn e sua versão com algoritmos genéticos."
   ]
  },
  {
   "cell_type": "code",
   "execution_count": null,
   "metadata": {},
   "outputs": [],
   "source": []
  }
 ],
 "metadata": {
  "kernelspec": {
   "display_name": "Python 3",
   "language": "python",
   "name": "python3"
  },
  "language_info": {
   "codemirror_mode": {
    "name": "ipython",
    "version": 3
   },
   "file_extension": ".py",
   "mimetype": "text/x-python",
   "name": "python",
   "nbconvert_exporter": "python",
   "pygments_lexer": "ipython3",
   "version": "3.6.5"
  }
 },
 "nbformat": 4,
 "nbformat_minor": 1
}
