{
 "cells": [
  {
   "cell_type": "markdown",
   "metadata": {},
   "source": [
    "## Regressão Logística"
   ]
  },
  {
   "cell_type": "markdown",
   "metadata": {},
   "source": [
    "De volta pro assunto de classificação, o objetivo desse conteúdo é explorar a representação de texto em computadores e utilizar regressão logística para categorizar os documentos. Além disso, tem um desafio no final para implementar otimização através de algoritmos genéticos."
   ]
  },
  {
   "cell_type": "code",
   "execution_count": null,
   "metadata": {},
   "outputs": [],
   "source": [
    "import pandas as pd\n",
    "import numpy  as np\n",
    "\n",
    "df = pd.read_csv('movie_reviews.tsv', sep='\\t', index_col=None)\n",
    "\n",
    "df.columns"
   ]
  },
  {
   "cell_type": "code",
   "execution_count": null,
   "metadata": {},
   "outputs": [],
   "source": [
    "X = df.review\n",
    "y = df.sentiment"
   ]
  },
  {
   "cell_type": "code",
   "execution_count": null,
   "metadata": {},
   "outputs": [],
   "source": [
    "X.shape"
   ]
  },
  {
   "cell_type": "code",
   "execution_count": null,
   "metadata": {},
   "outputs": [],
   "source": [
    "print(X[0])"
   ]
  },
  {
   "cell_type": "code",
   "execution_count": null,
   "metadata": {},
   "outputs": [],
   "source": [
    "from collections import Counter\n",
    "\n",
    "# reune todas as palavras/tokens das amostras\n",
    "palavras = []\n",
    "for s in X.values:\n",
    "    palavras += s.lower().split()\n",
    "\n",
    "dicionario = Counter(palavras)\n",
    "print(dicionario.most_common(20))"
   ]
  },
  {
   "cell_type": "code",
   "execution_count": null,
   "metadata": {},
   "outputs": [],
   "source": [
    "# separa qual sera o vocabulario\n",
    "vocab = []\n",
    "for palavra, contagem in dicionario.most_common(100):\n",
    "    vocab.append(palavra)\n",
    "\n",
    "print(vocab)"
   ]
  },
  {
   "cell_type": "code",
   "execution_count": null,
   "metadata": {},
   "outputs": [],
   "source": [
    "# cria a amostra marcando quais palavras aparecem naquela sentença (bag of words)\n",
    "\n",
    "X_bow = []\n",
    "for _ in range(df.review.shape[0]):\n",
    "    s = df.review.values[0]\n",
    "    sample = []\n",
    "    for p in vocab:\n",
    "        if p in s:\n",
    "            sample.append(1.0)\n",
    "        else:\n",
    "            sample.append(0.0)\n",
    "    X_bow.append(sample)\n",
    "\n",
    "X_bow = np.array(X_bow)"
   ]
  },
  {
   "cell_type": "code",
   "execution_count": null,
   "metadata": {},
   "outputs": [],
   "source": [
    "# separa em treino e teste\n",
    "\n",
    "from sklearn.model_selection import train_test_split\n",
    "\n",
    "X_train, X_test, y_train, y_test = train_test_split(X_bow, y, test_size=0.33, random_state=42)"
   ]
  },
  {
   "cell_type": "code",
   "execution_count": null,
   "metadata": {},
   "outputs": [],
   "source": [
    "# regressão logística e funções auxiliares\n",
    "\n",
    "def sigmoid(z):\n",
    "    return 1 / (1 + np.exp(-z))\n",
    "\n",
    "def loss(model, X, y):\n",
    "    X = add_bias(X)\n",
    "    z = np.dot(X, model)\n",
    "    h = sigmoid(z)\n",
    "    return (-y * np.log(h) - (1 - y) * np.log(1 - h)).mean()\n",
    "\n",
    "def add_bias(X):\n",
    "    bias = np.ones((X.shape[0], 1))\n",
    "    return np.concatenate((bias, X), axis=1)\n",
    "\n",
    "def fit(X, y, lr = 0.01, num_iter = 5):\n",
    "    \n",
    "    X = add_bias(X)\n",
    "    \n",
    "    theta = np.zeros(X.shape[1])\n",
    "    \n",
    "    for _ in range(num_iter):\n",
    "        z = np.dot(X, theta)\n",
    "        h = sigmoid(z)\n",
    "        gradient = np.dot(X.T, (h - y)) / y.size\n",
    "        theta -= lr * gradient\n",
    "        theta[-1] = np.sum(h-y)\n",
    "            \n",
    "    return theta\n",
    "\n",
    "def predict(X, theta):\n",
    "    X = add_bias(X)\n",
    "    return sigmoid(np.dot(X, theta)).round()"
   ]
  },
  {
   "cell_type": "code",
   "execution_count": null,
   "metadata": {},
   "outputs": [],
   "source": [
    "model = fit(X_train, y_train, num_iter = 1)\n",
    "print(model[:30])\n",
    "\n",
    "print(loss(model, X_train, y_train))\n",
    "\n",
    "preds = predict(X_test, model)\n",
    "(preds == y_test).mean()"
   ]
  },
  {
   "cell_type": "code",
   "execution_count": null,
   "metadata": {},
   "outputs": [],
   "source": [
    "from sklearn.linear_model import LogisticRegression\n",
    "\n",
    "model = LogisticRegression()\n",
    "model.fit(X_train, y_train)\n",
    "preds = model.predict(X_test)\n",
    "\n",
    "print((preds == y_test).mean())\n",
    "\n",
    "model.intercept_, model.coef_"
   ]
  },
  {
   "cell_type": "markdown",
   "metadata": {},
   "source": [
    "### Exercício\n",
    "\n",
    "1. Utilizando a mesma base de dados, encontre o vocabulário apenas na parte de treino e aplique a transformação na parte de teste também. Da forma como foi implementado originalmente, o vocabulário está sendo encontrado em todo o conjunto de dados.\n",
    "\n",
    "2. Implemente o método de otimização por algoritmo genético e veja se consegue resultados melhores que a regressão logística com os parâmetros default do scikit-learn. Considere no algoritmo genético que o cruzamento será feito de forma uniforme, utilizando um valor aleatório para definir qual gene será herdado de cada pai; também considere que a geração seguinte só deve ser feita de filhos da geração anterior. Inicialize os pesos de forma aleatória utilizando a função própria para isso do numpy e torne fixo o fator de aleatoriedade.\n",
    "\n",
    "3. Pesquise sobre o conceito de stopwords e aplique-o, analisando se traz melhoras ou pioras para o modelo. Faça a análise considerando a Regressão Logística do scikit-learn e sua versão com algoritmos genéticos.\n",
    "\n",
    "4. Pesquise sobre o conceito TF-IDF e aplique-o, analisando se traz melhoras ou pioras para o modelo. Também faça a análise considerando utilizando os dois métodos: Regressão Logística do scikit-learn e sua versão com algoritmos genéticos."
   ]
  },
  {
   "cell_type": "code",
   "execution_count": null,
   "metadata": {},
   "outputs": [],
   "source": []
  }
 ],
 "metadata": {
  "kernelspec": {
   "display_name": "Python 3",
   "language": "python",
   "name": "python3"
  },
  "language_info": {
   "codemirror_mode": {
    "name": "ipython",
    "version": 3
   },
   "file_extension": ".py",
   "mimetype": "text/x-python",
   "name": "python",
   "nbconvert_exporter": "python",
   "pygments_lexer": "ipython3",
   "version": "3.6.5"
  }
 },
 "nbformat": 4,
 "nbformat_minor": 1
}
